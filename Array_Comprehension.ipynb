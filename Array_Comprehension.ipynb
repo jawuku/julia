{
 "cells": [
  {
   "cell_type": "code",
   "execution_count": 1,
   "metadata": {},
   "outputs": [
    {
     "data": {
      "text/plain": [
       "12×12 Array{Int64,2}:\n",
       "  1   2   3   4   5   6   7   8    9   10   11   12\n",
       "  2   4   6   8  10  12  14  16   18   20   22   24\n",
       "  3   6   9  12  15  18  21  24   27   30   33   36\n",
       "  4   8  12  16  20  24  28  32   36   40   44   48\n",
       "  5  10  15  20  25  30  35  40   45   50   55   60\n",
       "  6  12  18  24  30  36  42  48   54   60   66   72\n",
       "  7  14  21  28  35  42  49  56   63   70   77   84\n",
       "  8  16  24  32  40  48  56  64   72   80   88   96\n",
       "  9  18  27  36  45  54  63  72   81   90   99  108\n",
       " 10  20  30  40  50  60  70  80   90  100  110  120\n",
       " 11  22  33  44  55  66  77  88   99  110  121  132\n",
       " 12  24  36  48  60  72  84  96  108  120  132  144"
      ]
     },
     "execution_count": 1,
     "metadata": {},
     "output_type": "execute_result"
    }
   ],
   "source": [
    "times_table = [a * b for a in 1:12, b in 1:12]"
   ]
  },
  {
   "cell_type": "code",
   "execution_count": 2,
   "metadata": {},
   "outputs": [
    {
     "data": {
      "text/plain": [
       "6×6 Array{Int64,2}:\n",
       " 2  3  4   5   6   7\n",
       " 3  4  5   6   7   8\n",
       " 4  5  6   7   8   9\n",
       " 5  6  7   8   9  10\n",
       " 6  7  8   9  10  11\n",
       " 7  8  9  10  11  12"
      ]
     },
     "execution_count": 2,
     "metadata": {},
     "output_type": "execute_result"
    }
   ],
   "source": [
    "add2dice = [c + d for c in 1:6, d in 1:6]"
   ]
  },
  {
   "cell_type": "code",
   "execution_count": null,
   "metadata": {},
   "outputs": [],
   "source": []
  }
 ],
 "metadata": {
  "kernelspec": {
   "display_name": "Julia 1.5.4",
   "language": "julia",
   "name": "julia-1.5"
  },
  "language_info": {
   "file_extension": ".jl",
   "mimetype": "application/julia",
   "name": "julia",
   "version": "1.5.4"
  }
 },
 "nbformat": 4,
 "nbformat_minor": 4
}
