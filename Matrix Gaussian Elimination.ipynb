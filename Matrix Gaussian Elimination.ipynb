{
 "cells": [
  {
   "cell_type": "markdown",
   "metadata": {},
   "source": [
    "### Solve system of equations using Gaussian elimination method:\n",
    "$$-x - 5y +  z = 17$$"
   ]
  },
  {
   "cell_type": "markdown",
   "metadata": {},
   "source": [
    "$$-5x - 5y + 5z = 5$$"
   ]
  },
  {
   "cell_type": "markdown",
   "metadata": {},
   "source": [
    "$$2x + 5y - 3z = -10$$"
   ]
  },
  {
   "cell_type": "code",
   "execution_count": null,
   "metadata": {},
   "outputs": [],
   "source": [
    "#=\n",
    "Put into augmented matrix:\n",
    "\n",
    "[-1 -5  1  17]\n",
    "|-5 -5  5   5|\n",
    "[ 2  5 -3 -10]\n",
    "=#"
   ]
  },
  {
   "cell_type": "code",
   "execution_count": 42,
   "metadata": {},
   "outputs": [
    {
     "data": {
      "text/plain": [
       "3×4 Matrix{Int64}:\n",
       " -1  -5   1   17\n",
       " -5  -5   5    5\n",
       "  2   5  -3  -10"
      ]
     },
     "execution_count": 42,
     "metadata": {},
     "output_type": "execute_result"
    }
   ],
   "source": [
    "# Matrix in Julia code\n",
    "m = [-1 -5 1 17;-5 -5 5 5;2 5 -3 -10]"
   ]
  },
  {
   "cell_type": "code",
   "execution_count": 43,
   "metadata": {},
   "outputs": [
    {
     "data": {
      "text/plain": [
       "3×4 Matrix{Int64}:\n",
       " -1  -5   1   17\n",
       " -1  -1   1    1\n",
       "  2   5  -3  -10"
      ]
     },
     "metadata": {},
     "output_type": "display_data"
    }
   ],
   "source": [
    "# divide 2nd row by 5\n",
    "m[2,:] = m[2,:] ./ 5\n",
    "display(m)"
   ]
  },
  {
   "cell_type": "code",
   "execution_count": 44,
   "metadata": {},
   "outputs": [
    {
     "data": {
      "text/plain": [
       "3×4 Matrix{Int64}:\n",
       "  1   5  -1  -17\n",
       " -1  -1   1    1\n",
       "  2   5  -3  -10"
      ]
     },
     "metadata": {},
     "output_type": "display_data"
    }
   ],
   "source": [
    "# multiply row 1 by -1 to get first pivot\n",
    "m[1,:] = m[1,:] .* -1\n",
    "display(m)"
   ]
  },
  {
   "cell_type": "code",
   "execution_count": 45,
   "metadata": {},
   "outputs": [
    {
     "data": {
      "text/plain": [
       "3×4 Matrix{Int64}:\n",
       " 1  5  -1  -17\n",
       " 0  4   0  -16\n",
       " 2  5  -3  -10"
      ]
     },
     "metadata": {},
     "output_type": "display_data"
    }
   ],
   "source": [
    "# add row 1 to row 2\n",
    "m[2,:] = m[2,:] .+ m[1,:]\n",
    "display(m)"
   ]
  },
  {
   "cell_type": "code",
   "execution_count": 46,
   "metadata": {},
   "outputs": [
    {
     "data": {
      "text/plain": [
       "3×4 Matrix{Int64}:\n",
       " 1   5  -1  -17\n",
       " 0   4   0  -16\n",
       " 0  -5  -1   24"
      ]
     },
     "metadata": {},
     "output_type": "display_data"
    }
   ],
   "source": [
    "# add 2*row 1 to row 3 to eliminate the 2 in column 1\n",
    "m[3,:] = m[3,:] .- 2 .* m[1,:]\n",
    "display(m)"
   ]
  },
  {
   "cell_type": "code",
   "execution_count": 47,
   "metadata": {},
   "outputs": [
    {
     "data": {
      "text/plain": [
       "3×4 Matrix{Int64}:\n",
       " 1   5  -1  -17\n",
       " 0   1   0   -4\n",
       " 0  -5  -1   24"
      ]
     },
     "metadata": {},
     "output_type": "display_data"
    }
   ],
   "source": [
    "# divide row 2 by 4 to get pivot\n",
    "m[2,:] = m[2,:] ./ 4\n",
    "display(m)"
   ]
  },
  {
   "cell_type": "code",
   "execution_count": 48,
   "metadata": {},
   "outputs": [
    {
     "data": {
      "text/plain": [
       "3×4 Matrix{Int64}:\n",
       " 1   0  -2   7\n",
       " 0   1   0  -4\n",
       " 0  -5  -1  24"
      ]
     },
     "metadata": {},
     "output_type": "display_data"
    }
   ],
   "source": [
    "# add row 3 to row 1 to eliminate the 5 in column 2\n",
    "m[1,:] = m[3,:] .+ m[1,:]\n",
    "display(m)"
   ]
  },
  {
   "cell_type": "code",
   "execution_count": 49,
   "metadata": {},
   "outputs": [
    {
     "data": {
      "text/plain": [
       "3×4 Matrix{Int64}:\n",
       " 1  0  -2   7\n",
       " 0  1   0  -4\n",
       " 0  0  -1   4"
      ]
     },
     "metadata": {},
     "output_type": "display_data"
    }
   ],
   "source": [
    "# add 5 * row 2 to row 3 to eliminate the -5 in column 2\n",
    "m[3,:] = m[3,:] .+ 5 .* m[2,:]\n",
    "display(m)"
   ]
  },
  {
   "cell_type": "code",
   "execution_count": 50,
   "metadata": {},
   "outputs": [
    {
     "data": {
      "text/plain": [
       "3×4 Matrix{Int64}:\n",
       " 1  0  -2   7\n",
       " 0  1   0  -4\n",
       " 0  0   1  -4"
      ]
     },
     "metadata": {},
     "output_type": "display_data"
    }
   ],
   "source": [
    "# multiply row 3 by -1 to reveal row 3 pivot\n",
    "m[3,:] = m[3,:] .* -1\n",
    "display(m)"
   ]
  },
  {
   "cell_type": "code",
   "execution_count": 51,
   "metadata": {},
   "outputs": [],
   "source": [
    "# add 2 * row 3 to row 1 to eliminate the -2 in row 3\n",
    "m[1,:] = m[1,:] .+ 2 .* m[3,:];"
   ]
  },
  {
   "cell_type": "code",
   "execution_count": 52,
   "metadata": {},
   "outputs": [
    {
     "data": {
      "text/plain": [
       "3×4 Matrix{Int64}:\n",
       " 1  0  0  -1\n",
       " 0  1  0  -4\n",
       " 0  0  1  -4"
      ]
     },
     "metadata": {},
     "output_type": "display_data"
    }
   ],
   "source": [
    "# The result:\n",
    "display(m)"
   ]
  },
  {
   "cell_type": "markdown",
   "metadata": {},
   "source": [
    "### Therefore:\n",
    "$$\n",
    "x = -1; y = -4; z = -4\n",
    "$$"
   ]
  }
 ],
 "metadata": {
  "kernelspec": {
   "display_name": "Julia Speedy Plots 1.6.0",
   "language": "julia",
   "name": "julia-speedy-plots-1.6"
  },
  "language_info": {
   "file_extension": ".jl",
   "mimetype": "application/julia",
   "name": "julia",
   "version": "1.6.0"
  }
 },
 "nbformat": 4,
 "nbformat_minor": 4
}
