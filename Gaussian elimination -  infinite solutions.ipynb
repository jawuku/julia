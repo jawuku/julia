{
 "cells": [
  {
   "cell_type": "markdown",
   "metadata": {},
   "source": [
    "### Solve system of equations using Gaussian elimination method:\n",
    "$$\n",
    "q - r + 2s = -3\n",
    "$$\n",
    "\n",
    "$$\n",
    "4q + 4r -2s = 1\n",
    "$$\n",
    "\n",
    "$$\n",
    "-2q +2r -4s = 6\n",
    "$$"
   ]
  },
  {
   "cell_type": "code",
   "execution_count": 49,
   "metadata": {},
   "outputs": [],
   "source": [
    "#=\n",
    "Put into augmented matrix:\n",
    "\n",
    "[1 -1  2 -3]\n",
    "|4  4 -2  1|\n",
    "[-2 2 -4  6]\n",
    "=#"
   ]
  },
  {
   "cell_type": "code",
   "execution_count": 50,
   "metadata": {},
   "outputs": [
    {
     "data": {
      "text/plain": [
       "3×4 Matrix{Float64}:\n",
       "  1.0  -1.0   2.0  -3.0\n",
       "  4.0   4.0  -2.0   1.0\n",
       " -2.0   2.0  -4.0   6.0"
      ]
     },
     "execution_count": 50,
     "metadata": {},
     "output_type": "execute_result"
    }
   ],
   "source": [
    "m = (Float64)[1 -1 2 -3;4 4 -2 1;-2 2 -4 6]"
   ]
  },
  {
   "cell_type": "code",
   "execution_count": 51,
   "metadata": {},
   "outputs": [
    {
     "data": {
      "text/plain": [
       "3×4 Matrix{Float64}:\n",
       "  1.0  -1.0   2.0  -3.0\n",
       "  4.0   4.0  -2.0   1.0\n",
       " -1.0   1.0  -2.0   3.0"
      ]
     },
     "metadata": {},
     "output_type": "display_data"
    }
   ],
   "source": [
    "# divide row 3 by 2\n",
    "m[3,:] = m[3,:] ./ 2\n",
    "display(m)"
   ]
  },
  {
   "cell_type": "code",
   "execution_count": 52,
   "metadata": {},
   "outputs": [
    {
     "data": {
      "text/plain": [
       "3×4 Matrix{Float64}:\n",
       " 1.0  -1.0   2.0  -3.0\n",
       " 4.0   4.0  -2.0   1.0\n",
       " 0.0   0.0   0.0   0.0"
      ]
     },
     "metadata": {},
     "output_type": "display_data"
    }
   ],
   "source": [
    "# delete bottom row by adding 1st row to it\n",
    "m[3,:] = m[3,:] .+ m[1,:]\n",
    "display(m)"
   ]
  },
  {
   "cell_type": "code",
   "execution_count": 53,
   "metadata": {},
   "outputs": [
    {
     "data": {
      "text/plain": [
       "3×4 Matrix{Float64}:\n",
       " 1.0  -1.0    2.0  -3.0\n",
       " 0.0   8.0  -10.0  13.0\n",
       " 0.0   0.0    0.0   0.0"
      ]
     },
     "metadata": {},
     "output_type": "display_data"
    }
   ],
   "source": [
    "# clear out 4 from 1st column\n",
    "# row 2 = row 2 - 4 * row 1\n",
    "m[2,:] = m[2,:] .- (4 .* m[1,:])\n",
    "display(m)"
   ]
  },
  {
   "cell_type": "code",
   "execution_count": 54,
   "metadata": {},
   "outputs": [
    {
     "data": {
      "text/plain": [
       "3×4 Matrix{Float64}:\n",
       " 1.0  -1.0   2.0   -3.0\n",
       " 0.0   1.0  -1.25   1.625\n",
       " 0.0   0.0   0.0    0.0"
      ]
     },
     "metadata": {},
     "output_type": "display_data"
    }
   ],
   "source": [
    "# divide row 2 by 8 to get pivot\n",
    "m[2,:] = m[2,:] ./ 8\n",
    "display(m)"
   ]
  },
  {
   "cell_type": "code",
   "execution_count": 55,
   "metadata": {},
   "outputs": [
    {
     "data": {
      "text/plain": [
       "4-element view(::Matrix{Float64}, 1, :) with eltype Float64:\n",
       "  1.0\n",
       "  0.0\n",
       "  0.75\n",
       " -1.375"
      ]
     },
     "execution_count": 55,
     "metadata": {},
     "output_type": "execute_result"
    }
   ],
   "source": [
    "# add row 2 to row 1\n",
    "m[1,:] .+= m[2,:]"
   ]
  },
  {
   "cell_type": "code",
   "execution_count": 56,
   "metadata": {},
   "outputs": [
    {
     "data": {
      "text/plain": [
       "3×4 Matrix{Float64}:\n",
       " 1.0  0.0   0.75  -1.375\n",
       " 0.0  1.0  -1.25   1.625\n",
       " 0.0  0.0   0.0    0.0"
      ]
     },
     "metadata": {},
     "output_type": "display_data"
    }
   ],
   "source": [
    "display(m)"
   ]
  },
  {
   "cell_type": "markdown",
   "metadata": {},
   "source": [
    "#### Thus we can say\n",
    "$$q + 0.75s = -1.375$$\n",
    "$$r - 1.25s = 1.625$$\n",
    "\n",
    "#### s is a free variable, which could have any value, and would not affect the rest of the system."
   ]
  },
  {
   "cell_type": "markdown",
   "metadata": {},
   "source": [
    "#### if\n",
    "$$s = 0$$\n",
    "\n",
    "#### then\n",
    "$$ q = -1.375; r = 1.625$$\n",
    "\n",
    "and if s is another value, q and r are affected"
   ]
  }
 ],
 "metadata": {
  "kernelspec": {
   "display_name": "Julia Speedy Plots 1.6.0",
   "language": "julia",
   "name": "julia-speedy-plots-1.6"
  },
  "language_info": {
   "file_extension": ".jl",
   "mimetype": "application/julia",
   "name": "julia",
   "version": "1.6.0"
  }
 },
 "nbformat": 4,
 "nbformat_minor": 4
}
