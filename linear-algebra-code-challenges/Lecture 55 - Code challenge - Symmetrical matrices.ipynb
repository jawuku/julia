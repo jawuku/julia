{
 "cells": [
  {
   "cell_type": "markdown",
   "metadata": {},
   "source": [
    "## What happens when two symmetric matrices are combined?\n",
    "\n",
    "### create 2 symmetric matrices\n",
    "\n",
    "### compute sum, standard multiplication and hadamard multiplication of 2 matrices\n",
    "\n",
    "### determine whether result is still symmetric\n"
   ]
  },
  {
   "cell_type": "code",
   "execution_count": 4,
   "metadata": {},
   "outputs": [
    {
     "data": {
      "text/plain": [
       "5×5 Matrix{Int64}:\n",
       "   0  -1   18   -3  -6\n",
       " -10  12    4  -10  -5\n",
       " -17  15    1  -10   6\n",
       "  -2  -2  -12    9  -2\n",
       "  -7   9    6    1   2"
      ]
     },
     "execution_count": 4,
     "metadata": {},
     "output_type": "execute_result"
    }
   ],
   "source": [
    "# Create 2  matrices\n",
    "r(x) = round(Int, x)\n",
    "\n",
    "A = r.(10*randn(5,5))"
   ]
  },
  {
   "cell_type": "code",
   "execution_count": 5,
   "metadata": {},
   "outputs": [
    {
     "data": {
      "text/plain": [
       "5×5 Matrix{Int64}:\n",
       "   5   -1   -4   3  13\n",
       "   3  -14   -2  11  -1\n",
       " -10   11  -10  -5  -3\n",
       "   1   -6  -26   2   7\n",
       "   4   -8    9   2  11"
      ]
     },
     "execution_count": 5,
     "metadata": {},
     "output_type": "execute_result"
    }
   ],
   "source": [
    "B = r.(10*randn(5,5))"
   ]
  },
  {
   "cell_type": "code",
   "execution_count": 6,
   "metadata": {},
   "outputs": [
    {
     "data": {
      "text/plain": [
       "symm (generic function with 1 method)"
      ]
     },
     "execution_count": 6,
     "metadata": {},
     "output_type": "execute_result"
    }
   ],
   "source": [
    "# make them symmetrical\n",
    "symm(x::Matrix) = (x + x')/2"
   ]
  },
  {
   "cell_type": "code",
   "execution_count": 7,
   "metadata": {},
   "outputs": [
    {
     "data": {
      "text/plain": [
       "5×5 Matrix{Float64}:\n",
       "  0.0  -5.5    0.5   -2.5  -6.5\n",
       " -5.5  12.0    9.5   -6.0   2.0\n",
       "  0.5   9.5    1.0  -11.0   6.0\n",
       " -2.5  -6.0  -11.0    9.0  -0.5\n",
       " -6.5   2.0    6.0   -0.5   2.0"
      ]
     },
     "execution_count": 7,
     "metadata": {},
     "output_type": "execute_result"
    }
   ],
   "source": [
    "A = symm(A)"
   ]
  },
  {
   "cell_type": "code",
   "execution_count": 8,
   "metadata": {},
   "outputs": [
    {
     "data": {
      "text/plain": [
       "5×5 Matrix{Float64}:\n",
       "  5.0    1.0   -7.0    2.0   8.5\n",
       "  1.0  -14.0    4.5    2.5  -4.5\n",
       " -7.0    4.5  -10.0  -15.5   3.0\n",
       "  2.0    2.5  -15.5    2.0   4.5\n",
       "  8.5   -4.5    3.0    4.5  11.0"
      ]
     },
     "execution_count": 8,
     "metadata": {},
     "output_type": "execute_result"
    }
   ],
   "source": [
    "B = symm(B)"
   ]
  },
  {
   "cell_type": "markdown",
   "metadata": {},
   "source": [
    "### Symmetrical Matrices added together are still symmetrical"
   ]
  },
  {
   "cell_type": "code",
   "execution_count": 9,
   "metadata": {},
   "outputs": [
    {
     "data": {
      "text/plain": [
       "5×5 Matrix{Float64}:\n",
       "  5.0  -4.5   -6.5   -0.5   2.0\n",
       " -4.5  -2.0   14.0   -3.5  -2.5\n",
       " -6.5  14.0   -9.0  -26.5   9.0\n",
       " -0.5  -3.5  -26.5   11.0   4.0\n",
       "  2.0  -2.5    9.0    4.0  13.0"
      ]
     },
     "execution_count": 9,
     "metadata": {},
     "output_type": "execute_result"
    }
   ],
   "source": [
    "# add two matrices together\n",
    "C = A + B"
   ]
  },
  {
   "cell_type": "code",
   "execution_count": 10,
   "metadata": {},
   "outputs": [
    {
     "data": {
      "text/plain": [
       "5×5 Matrix{Float64}:\n",
       " 0.0  0.0  0.0  0.0  0.0\n",
       " 0.0  0.0  0.0  0.0  0.0\n",
       " 0.0  0.0  0.0  0.0  0.0\n",
       " 0.0  0.0  0.0  0.0  0.0\n",
       " 0.0  0.0  0.0  0.0  0.0"
      ]
     },
     "execution_count": 10,
     "metadata": {},
     "output_type": "execute_result"
    }
   ],
   "source": [
    "# is the sum still symmetric? test by minusing the transpose from the original (would be zero)\n",
    "C - C'"
   ]
  },
  {
   "cell_type": "markdown",
   "metadata": {},
   "source": [
    "### Symmetrical Matrices multiplied by standard method does not produce a symmetrical product\n",
    "\n",
    "#### But interestingly, the signs are reversed each side of the diagonal (Skew-Symmetric)"
   ]
  },
  {
   "cell_type": "code",
   "execution_count": 12,
   "metadata": {},
   "outputs": [
    {
     "data": {
      "text/plain": [
       "5×5 Matrix{Float64}:\n",
       " -69.25   102.25  -10.5    -55.75  -56.5\n",
       " -77.0   -154.75   96.5   -131.25  -77.25\n",
       "  34.0   -182.5   217.75    14.25  -19.0\n",
       "  72.25    56.75  -40.5    166.25    7.75\n",
       " -56.5    -17.75    8.25   -93.0   -26.5"
      ]
     },
     "execution_count": 12,
     "metadata": {},
     "output_type": "execute_result"
    }
   ],
   "source": [
    "# do standard matrix multiplication\n",
    "D = A * B"
   ]
  },
  {
   "cell_type": "code",
   "execution_count": 13,
   "metadata": {},
   "outputs": [
    {
     "data": {
      "text/plain": [
       "5×5 Matrix{Float64}:\n",
       "    0.0    179.25  -44.5   -128.0     0.0\n",
       " -179.25     0.0   279.0   -188.0   -59.5\n",
       "   44.5   -279.0     0.0     54.75  -27.25\n",
       "  128.0    188.0   -54.75     0.0   100.75\n",
       "    0.0     59.5    27.25  -100.75    0.0"
      ]
     },
     "execution_count": 13,
     "metadata": {},
     "output_type": "execute_result"
    }
   ],
   "source": [
    "# still symmetrical?\n",
    "D - D'"
   ]
  },
  {
   "cell_type": "code",
   "execution_count": 14,
   "metadata": {},
   "outputs": [
    {
     "data": {
      "text/plain": [
       "false"
      ]
     },
     "execution_count": 14,
     "metadata": {},
     "output_type": "execute_result"
    }
   ],
   "source": [
    "\n",
    "iszero(D - D')"
   ]
  },
  {
   "cell_type": "markdown",
   "metadata": {},
   "source": [
    "### Hadamard Multiplication of 2 symmetrical matrices"
   ]
  },
  {
   "cell_type": "markdown",
   "metadata": {},
   "source": [
    "#### Firstly, A .* B is identical to B .* A\n",
    "#### unlike standard multiplication"
   ]
  },
  {
   "cell_type": "code",
   "execution_count": 15,
   "metadata": {},
   "outputs": [
    {
     "data": {
      "text/plain": [
       "5×5 Matrix{Float64}:\n",
       "   0.0     -5.5    -3.5    -5.0   -55.25\n",
       "  -5.5   -168.0    42.75  -15.0    -9.0\n",
       "  -3.5     42.75  -10.0   170.5    18.0\n",
       "  -5.0    -15.0   170.5    18.0    -2.25\n",
       " -55.25    -9.0    18.0    -2.25   22.0"
      ]
     },
     "execution_count": 15,
     "metadata": {},
     "output_type": "execute_result"
    }
   ],
   "source": [
    "# Hadamard multiplication\n",
    "E = A .* B"
   ]
  },
  {
   "cell_type": "code",
   "execution_count": 16,
   "metadata": {},
   "outputs": [
    {
     "data": {
      "text/plain": [
       "5×5 Matrix{Float64}:\n",
       "   0.0     -5.5    -3.5    -5.0   -55.25\n",
       "  -5.5   -168.0    42.75  -15.0    -9.0\n",
       "  -3.5     42.75  -10.0   170.5    18.0\n",
       "  -5.0    -15.0   170.5    18.0    -2.25\n",
       " -55.25    -9.0    18.0    -2.25   22.0"
      ]
     },
     "execution_count": 16,
     "metadata": {},
     "output_type": "execute_result"
    }
   ],
   "source": [
    "# is A .* B == B. * A?\n",
    "F = B .* A"
   ]
  },
  {
   "cell_type": "code",
   "execution_count": 17,
   "metadata": {},
   "outputs": [
    {
     "data": {
      "text/plain": [
       "true"
      ]
     },
     "execution_count": 17,
     "metadata": {},
     "output_type": "execute_result"
    }
   ],
   "source": [
    "isequal(E, F)"
   ]
  },
  {
   "cell_type": "markdown",
   "metadata": {},
   "source": [
    "#### Are these both symmetrical? - true\n",
    "#### E - E' and F - F' both give a zero matrix"
   ]
  },
  {
   "cell_type": "code",
   "execution_count": 21,
   "metadata": {},
   "outputs": [
    {
     "data": {
      "text/plain": [
       "true"
      ]
     },
     "execution_count": 21,
     "metadata": {},
     "output_type": "execute_result"
    }
   ],
   "source": [
    "iszero(E - E')"
   ]
  },
  {
   "cell_type": "code",
   "execution_count": 22,
   "metadata": {},
   "outputs": [
    {
     "data": {
      "text/plain": [
       "true"
      ]
     },
     "execution_count": 22,
     "metadata": {},
     "output_type": "execute_result"
    }
   ],
   "source": [
    "iszero(F - F')"
   ]
  },
  {
   "cell_type": "code",
   "execution_count": 24,
   "metadata": {},
   "outputs": [
    {
     "data": {
      "text/plain": [
       "5×5 Matrix{Float64}:\n",
       " 0.0  0.0  0.0  0.0  0.0\n",
       " 0.0  0.0  0.0  0.0  0.0\n",
       " 0.0  0.0  0.0  0.0  0.0\n",
       " 0.0  0.0  0.0  0.0  0.0\n",
       " 0.0  0.0  0.0  0.0  0.0"
      ]
     },
     "execution_count": 24,
     "metadata": {},
     "output_type": "execute_result"
    }
   ],
   "source": [
    "E - E'"
   ]
  },
  {
   "cell_type": "code",
   "execution_count": 25,
   "metadata": {},
   "outputs": [
    {
     "data": {
      "text/plain": [
       "5×5 Matrix{Float64}:\n",
       " 0.0  0.0  0.0  0.0  0.0\n",
       " 0.0  0.0  0.0  0.0  0.0\n",
       " 0.0  0.0  0.0  0.0  0.0\n",
       " 0.0  0.0  0.0  0.0  0.0\n",
       " 0.0  0.0  0.0  0.0  0.0"
      ]
     },
     "execution_count": 25,
     "metadata": {},
     "output_type": "execute_result"
    }
   ],
   "source": [
    "F - F'"
   ]
  },
  {
   "cell_type": "code",
   "execution_count": null,
   "metadata": {},
   "outputs": [],
   "source": []
  }
 ],
 "metadata": {
  "kernelspec": {
   "display_name": "Julia 1.6.0",
   "language": "julia",
   "name": "julia-1.6"
  },
  "language_info": {
   "file_extension": ".jl",
   "mimetype": "application/julia",
   "name": "julia",
   "version": "1.6.0"
  }
 },
 "nbformat": 4,
 "nbformat_minor": 4
}
