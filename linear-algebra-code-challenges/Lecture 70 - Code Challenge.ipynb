{
 "cells": [
  {
   "cell_type": "markdown",
   "metadata": {},
   "source": [
    "### Rank of multiplied and summed matrices"
   ]
  },
  {
   "cell_type": "code",
   "execution_count": 3,
   "metadata": {},
   "outputs": [
    {
     "data": {
      "text/plain": [
       "2×5 Matrix{Float64}:\n",
       " 10.8857   -12.4524     3.25823   3.82122   1.13\n",
       "  3.24774   -0.150868  -8.55525  -3.77081  10.6512"
      ]
     },
     "execution_count": 3,
     "metadata": {},
     "output_type": "execute_result"
    }
   ],
   "source": [
    "# generate two matrices (A and B) both 2x5 size\n",
    "A = randn(2,5) * 10"
   ]
  },
  {
   "cell_type": "code",
   "execution_count": 6,
   "metadata": {},
   "outputs": [
    {
     "data": {
      "text/plain": [
       "2×5 Matrix{Float64}:\n",
       " 7.81224  17.5512   -19.5711   5.04286  -13.2398\n",
       " 4.85657   2.76728    4.45882  3.79165   -2.96471"
      ]
     },
     "execution_count": 6,
     "metadata": {},
     "output_type": "execute_result"
    }
   ],
   "source": [
    "B = randn(2,5) * 10"
   ]
  },
  {
   "cell_type": "code",
   "execution_count": 7,
   "metadata": {},
   "outputs": [
    {
     "data": {
      "text/plain": [
       "5×5 Matrix{Float64}:\n",
       "  129.045    -136.042     7.68274   29.3499   46.8932\n",
       " -136.042     155.084   -39.2819   -47.0143  -15.6781\n",
       "    7.68274   -39.2819   83.8084    44.7106  -87.4421\n",
       "   29.3499    -47.0143   44.7106    28.8207  -35.8457\n",
       "   46.8932    -15.6781  -87.4421   -35.8457  114.725"
      ]
     },
     "execution_count": 7,
     "metadata": {},
     "output_type": "execute_result"
    }
   ],
   "source": [
    "# calculate A' * A and B' * B\n",
    "AtA = A' * A"
   ]
  },
  {
   "cell_type": "code",
   "execution_count": 8,
   "metadata": {},
   "outputs": [
    {
     "data": {
      "text/plain": [
       "5×5 Matrix{Float64}:\n",
       "   84.6174   150.554   -131.239    57.8104  -117.83\n",
       "  150.554    315.702   -331.157    99.0006  -240.578\n",
       " -131.239   -331.157    402.909   -81.7879   245.897\n",
       "   57.8104    99.0006   -81.7879   39.807    -78.0073\n",
       " -117.83    -240.578    245.897   -78.0073   184.081"
      ]
     },
     "execution_count": 8,
     "metadata": {},
     "output_type": "execute_result"
    }
   ],
   "source": [
    "BtB = B' * B"
   ]
  },
  {
   "cell_type": "code",
   "execution_count": 9,
   "metadata": {},
   "outputs": [
    {
     "name": "stdout",
     "output_type": "stream",
     "text": [
      "Rank of A = 2\n",
      "Rank of B = 2\n",
      "Rank of A' * A = 2\n",
      "Rank of B' * B = 2\n"
     ]
    }
   ],
   "source": [
    "# find their ranks\n",
    "using LinearAlgebra\n",
    "println(\"Rank of A = $(rank(A))\")\n",
    "println(\"Rank of B = $(rank(B))\")\n",
    "println(\"Rank of A' * A = $(rank(AtA))\")\n",
    "println(\"Rank of B' * B = $(rank(BtB))\")"
   ]
  },
  {
   "cell_type": "code",
   "execution_count": 12,
   "metadata": {},
   "outputs": [
    {
     "name": "stdout",
     "output_type": "stream",
     "text": [
      "Rank of (A' * A) + (B' * B) = 4\n"
     ]
    }
   ],
   "source": [
    "# find rank of (A' * A) + (B' * B)\n",
    "println(\"Rank of (A' * A) + (B' * B) = $(rank(AtA + BtB))\")"
   ]
  },
  {
   "cell_type": "code",
   "execution_count": 14,
   "metadata": {},
   "outputs": [
    {
     "name": "stdout",
     "output_type": "stream",
     "text": [
      "Rank of (A' * A) * (B' * B) = 2\n"
     ]
    }
   ],
   "source": [
    "# find rank of (A' * A) * (B' * B)\n",
    "println(\"Rank of (A' * A) * (B' * B) = $(rank(AtA * BtB))\")"
   ]
  },
  {
   "cell_type": "markdown",
   "metadata": {},
   "source": [
    "### Rules to determine maximum rank of (A+B)\n",
    "\n",
    "#### rank(A+B) <= rank(A) + rank(B)\n",
    "\n",
    "#### The rank cannot be larger than the sum of rank A and rank B.\n",
    "\n",
    "\n",
    "#### The rank cannot be larger than  the smaller of either the rows or columns in a matrix.\n",
    "\n",
    "### Rules to determine maximum rank of (A*B)\n",
    "\n",
    "#### rank(A*B) <= min{rank(A), rank(B)}\n",
    "\n",
    "#### Rank of (A*B) is not larger than the lesser value of rank(A) or rank(B)"
   ]
  }
 ],
 "metadata": {
  "kernelspec": {
   "display_name": "Julia 1.6.0",
   "language": "julia",
   "name": "julia-1.6"
  },
  "language_info": {
   "file_extension": ".jl",
   "mimetype": "application/julia",
   "name": "julia",
   "version": "1.6.0"
  }
 },
 "nbformat": 4,
 "nbformat_minor": 4
}
