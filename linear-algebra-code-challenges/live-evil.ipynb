{
 "cells": [
  {
   "cell_type": "code",
   "execution_count": 1,
   "metadata": {},
   "outputs": [
    {
     "data": {
      "text/plain": [
       "12"
      ]
     },
     "execution_count": 1,
     "metadata": {},
     "output_type": "execute_result"
    }
   ],
   "source": [
    "n = 12"
   ]
  },
  {
   "cell_type": "code",
   "execution_count": 2,
   "metadata": {},
   "outputs": [
    {
     "data": {
      "text/plain": [
       "12×12 Matrix{Float64}:\n",
       " -1.00431    0.218931   -1.57496    …  -0.131101  -0.0741794   1.53133\n",
       " -1.25533   -0.147198    0.0496785      0.391175  -0.119446    0.473985\n",
       "  0.735857  -1.11751    -0.526612       1.65978   -0.508533   -1.07706\n",
       "  0.178075   0.74406    -1.54932       -0.778054  -0.483101   -0.873234\n",
       " -0.46942    0.0997517  -1.03198        1.89816   -0.967491    0.456795\n",
       " -0.698359   1.25812     1.48374    …   1.42949   -0.599474   -0.313622\n",
       "  1.46027    0.48103    -0.579197       0.398087  -2.633       0.966866\n",
       "  0.122123  -1.04093     0.335653       0.762751  -0.197594    0.432196\n",
       "  0.131347  -0.173166    2.67356       -0.385273   1.14414    -0.845229\n",
       " -1.90722   -1.04006     0.894133      -1.09654   -1.43199    -0.247839\n",
       " -0.286707   1.76411     0.0109024  …   1.98127    0.104011    0.0849359\n",
       "  1.0553     0.602205    1.07469       -0.552965   0.147953    0.276778"
      ]
     },
     "execution_count": 2,
     "metadata": {},
     "output_type": "execute_result"
    }
   ],
   "source": [
    "l = randn(12,12)"
   ]
  },
  {
   "cell_type": "code",
   "execution_count": 3,
   "metadata": {},
   "outputs": [
    {
     "data": {
      "text/plain": [
       "12×12 Matrix{Float64}:\n",
       " -0.211385    0.0122186    0.285876    0.103746  …   0.000187364   0.899114\n",
       " -0.0684646  -0.210114    -0.962386    0.329673      0.273122      1.1153\n",
       " -1.78654    -2.06385     -0.181315   -0.748425      1.15807      -0.154097\n",
       "  1.18361     0.458364     0.934325    0.865739     -0.591772      1.01537\n",
       "  0.320743   -0.43866     -1.47239    -0.548163      0.453018     -1.20999\n",
       " -0.801839   -2.30357     -0.696221   -0.491008  …  -0.403618      1.71943\n",
       "  1.11053     0.00144627   0.0215571   1.20749      -1.79891       0.525887\n",
       "  0.95723    -1.37352      0.58083     0.128793      0.694296     -0.937666\n",
       " -1.62434     0.566345     1.96694     1.64216       0.848961     -1.14089\n",
       " -1.34357     0.417197     0.570732    0.382406     -0.531036     -1.25619\n",
       "  0.656925   -1.96476e-5  -1.07617     1.82635   …   0.244939     -0.334189\n",
       "  0.854758   -0.214568     0.680428    1.52003      -1.68722      -0.0167832"
      ]
     },
     "execution_count": 3,
     "metadata": {},
     "output_type": "execute_result"
    }
   ],
   "source": [
    "i = randn(12,12)"
   ]
  },
  {
   "cell_type": "code",
   "execution_count": 4,
   "metadata": {},
   "outputs": [
    {
     "data": {
      "text/plain": [
       "12×12 Matrix{Float64}:\n",
       " -0.154236  -0.858698     1.35957    …   1.61713     1.04865     0.773933\n",
       "  1.33562    0.979997    -0.508802       1.57258    -0.154773   -0.553603\n",
       "  0.317205   0.994333     1.05195        1.29868    -0.205138   -0.696051\n",
       " -1.35373   -0.192164    -0.206791       1.01491     2.01062     1.11763\n",
       " -0.773304   0.660917    -0.405325      -1.50235     2.18557     0.956612\n",
       "  0.726368   0.182823    -1.2798     …   0.0597469   0.741015    2.25724\n",
       " -0.435583   0.444116    -2.19102        2.10339    -0.0636407  -0.989263\n",
       " -0.564909   0.339493    -0.677924       0.442206   -0.13518     1.3871\n",
       "  0.306933  -0.626017    -0.155902      -1.30212     1.21897     0.47584\n",
       " -1.6393    -0.460067     0.0688484     -0.764091    0.334041   -1.34244\n",
       " -0.677112   0.117229     0.0388266  …  -0.47157     1.92121    -0.619016\n",
       " -1.20941   -0.00219983  -0.211849       1.71473    -0.47462    -0.12314"
      ]
     },
     "execution_count": 4,
     "metadata": {},
     "output_type": "execute_result"
    }
   ],
   "source": [
    "v = randn(12,12)"
   ]
  },
  {
   "cell_type": "code",
   "execution_count": 5,
   "metadata": {},
   "outputs": [
    {
     "data": {
      "text/plain": [
       "12×12 Matrix{Float64}:\n",
       "  0.173926  -0.365508   -0.438747   …  -0.890675   -0.67663    0.757471\n",
       "  0.183564   0.607086    0.450952      -0.602487   -1.21724    2.49928\n",
       "  0.04409   -0.958689   -1.00883       -0.485193   -1.15788    0.380738\n",
       " -0.695413  -0.712882    1.27464        0.132955   -0.286018   0.583396\n",
       " -0.233965   0.596435    0.592382       0.0873611  -0.708452  -0.123649\n",
       "  0.121284   0.778565    0.476122   …   1.02854    -0.244001   3.0661\n",
       " -1.35897    0.134362    1.51325       -0.588177    0.168526   0.713663\n",
       "  0.258845  -1.22393    -0.967697       0.014911    0.847125  -0.320242\n",
       " -1.32232    0.0165114   2.0114         0.520348   -0.31474    0.488437\n",
       "  0.71442   -0.0384955   0.9           -0.846696    0.874428  -0.717975\n",
       " -0.655799   0.683284   -0.0713211  …   0.885787   -0.783734  -1.32781\n",
       " -1.12847    1.04186     0.756977      -1.18304     1.83478    0.0588684"
      ]
     },
     "execution_count": 5,
     "metadata": {},
     "output_type": "execute_result"
    }
   ],
   "source": [
    "e = randn(12,12)"
   ]
  },
  {
   "cell_type": "code",
   "execution_count": 6,
   "metadata": {},
   "outputs": [
    {
     "data": {
      "text/plain": [
       "12×12 adjoint(::Matrix{Float64}) with eltype Float64:\n",
       " -50.9202     9.08493     8.08742  …    2.99222  -65.8349      1.00287\n",
       "  28.2959   -15.7831    -70.9204      -57.4079    49.4617     47.2007\n",
       "  46.0147   -30.7636   -102.776        -2.0454    13.1695      7.82583\n",
       "  89.7769     7.24696    65.889         6.53507   18.5893    -33.7793\n",
       " -37.9013    36.737      31.6407       15.2336    -1.00462    32.3054\n",
       " -24.7344    32.8766    -32.6519   …  -31.1952   -45.6028     44.4694\n",
       "  53.9216   -12.0305     -6.04913      -5.628     -9.70164   -12.737\n",
       "  -3.97973   -0.72483    76.2638       21.9538    58.5561    -38.4387\n",
       "  -9.28124    2.32833     3.39336      10.026      6.22298     8.93896\n",
       "  12.2953    -8.7384     58.0689      -14.9689    30.8268    -17.9415\n",
       "   7.7559    27.895     -23.5679   …  -17.8974   -19.8955     53.0603\n",
       " -37.6899   -36.9369    -19.8827       44.5288    -0.520468  -43.9588"
      ]
     },
     "execution_count": 6,
     "metadata": {},
     "output_type": "execute_result"
    }
   ],
   "source": [
    "r1 = (l*i*v*e)'"
   ]
  },
  {
   "cell_type": "code",
   "execution_count": 7,
   "metadata": {},
   "outputs": [
    {
     "data": {
      "text/plain": [
       "12×12 Matrix{Float64}:\n",
       " -50.9202     9.08493     8.08742  …    2.99222  -65.8349      1.00287\n",
       "  28.2959   -15.7831    -70.9204      -57.4079    49.4617     47.2007\n",
       "  46.0147   -30.7636   -102.776        -2.0454    13.1695      7.82583\n",
       "  89.7769     7.24696    65.889         6.53507   18.5893    -33.7793\n",
       " -37.9013    36.737      31.6407       15.2336    -1.00462    32.3054\n",
       " -24.7344    32.8766    -32.6519   …  -31.1952   -45.6028     44.4694\n",
       "  53.9216   -12.0305     -6.04913      -5.628     -9.70164   -12.737\n",
       "  -3.97973   -0.72483    76.2638       21.9538    58.5561    -38.4387\n",
       "  -9.28124    2.32833     3.39336      10.026      6.22298     8.93896\n",
       "  12.2953    -8.7384     58.0689      -14.9689    30.8268    -17.9415\n",
       "   7.7559    27.895     -23.5679   …  -17.8974   -19.8955     53.0603\n",
       " -37.6899   -36.9369    -19.8827       44.5288    -0.520468  -43.9588"
      ]
     },
     "execution_count": 7,
     "metadata": {},
     "output_type": "execute_result"
    }
   ],
   "source": [
    "r2 = e' * v' * i' * l'"
   ]
  },
  {
   "cell_type": "code",
   "execution_count": 8,
   "metadata": {},
   "outputs": [
    {
     "data": {
      "text/plain": [
       "12×12 Matrix{Float64}:\n",
       "  7.10543e-15  -8.88178e-15  -1.77636e-15  …   1.42109e-14  -1.19904e-14\n",
       "  0.0           5.32907e-15   0.0              0.0           1.42109e-14\n",
       " -7.10543e-15   0.0          -2.84217e-14      1.77636e-14   1.06581e-14\n",
       " -1.42109e-14  -2.66454e-15  -2.84217e-14      1.42109e-14   0.0\n",
       "  7.10543e-15   0.0          -1.77636e-14      1.4877e-14    7.10543e-15\n",
       "  7.10543e-15   0.0           7.10543e-15  …   1.42109e-14  -7.10543e-15\n",
       "  7.10543e-15   1.77636e-15   3.55271e-15      1.42109e-14   0.0\n",
       "  1.28786e-14  -5.32907e-15   0.0             -7.10543e-15  -7.10543e-15\n",
       "  1.77636e-15  -1.33227e-15   0.0             -1.33227e-14  -3.55271e-15\n",
       " -1.06581e-14   3.55271e-15  -7.10543e-15     -1.42109e-14  -3.55271e-15\n",
       "  6.21725e-15   0.0          -7.10543e-15  …   3.55271e-15   7.10543e-15\n",
       " -3.55271e-14   0.0           0.0             -9.21485e-15  -2.13163e-14"
      ]
     },
     "execution_count": 8,
     "metadata": {},
     "output_type": "execute_result"
    }
   ],
   "source": [
    "# should be close to 0\n",
    "r1 - r2"
   ]
  },
  {
   "cell_type": "code",
   "execution_count": 12,
   "metadata": {},
   "outputs": [
    {
     "name": "stdout",
     "output_type": "stream",
     "text": [
      "search: \u001b[0m\u001b[1mr\u001b[22m\u001b[0m\u001b[1me\u001b[22m\u001b[0m\u001b[1ms\u001b[22m\u001b[0m\u001b[1mh\u001b[22m\u001b[0m\u001b[1ma\u001b[22m\u001b[0m\u001b[1mp\u001b[22m\u001b[0m\u001b[1me\u001b[22m p\u001b[0m\u001b[1mr\u001b[22momot\u001b[0m\u001b[1me\u001b[22m_\u001b[0m\u001b[1ms\u001b[22m\u001b[0m\u001b[1mh\u001b[22m\u001b[0m\u001b[1ma\u001b[22m\u001b[0m\u001b[1mp\u001b[22m\u001b[0m\u001b[1me\u001b[22m\n",
      "\n"
     ]
    },
    {
     "data": {
      "text/latex": [
       "\\begin{verbatim}\n",
       "reshape(A, dims...) -> AbstractArray\n",
       "reshape(A, dims) -> AbstractArray\n",
       "\\end{verbatim}\n",
       "Return an array with the same data as \\texttt{A}, but with different dimension sizes or number of dimensions. The two arrays share the same underlying data, so that the result is mutable if and only if \\texttt{A} is mutable, and setting elements of one alters the values of the other.\n",
       "\n",
       "The new dimensions may be specified either as a list of arguments or as a shape tuple. At most one dimension may be specified with a \\texttt{:}, in which case its length is computed such that its product with all the specified dimensions is equal to the length of the original array \\texttt{A}. The total number of elements must not change.\n",
       "\n",
       "\\section{Examples}\n",
       "\\begin{verbatim}\n",
       "julia> A = Vector(1:16)\n",
       "16-element Vector{Int64}:\n",
       "  1\n",
       "  2\n",
       "  3\n",
       "  4\n",
       "  5\n",
       "  6\n",
       "  7\n",
       "  8\n",
       "  9\n",
       " 10\n",
       " 11\n",
       " 12\n",
       " 13\n",
       " 14\n",
       " 15\n",
       " 16\n",
       "\n",
       "julia> reshape(A, (4, 4))\n",
       "4×4 Matrix{Int64}:\n",
       " 1  5   9  13\n",
       " 2  6  10  14\n",
       " 3  7  11  15\n",
       " 4  8  12  16\n",
       "\n",
       "julia> reshape(A, 2, :)\n",
       "2×8 Matrix{Int64}:\n",
       " 1  3  5  7   9  11  13  15\n",
       " 2  4  6  8  10  12  14  16\n",
       "\n",
       "julia> reshape(1:6, 2, 3)\n",
       "2×3 reshape(::UnitRange{Int64}, 2, 3) with eltype Int64:\n",
       " 1  3  5\n",
       " 2  4  6\n",
       "\\end{verbatim}\n"
      ],
      "text/markdown": [
       "```\n",
       "reshape(A, dims...) -> AbstractArray\n",
       "reshape(A, dims) -> AbstractArray\n",
       "```\n",
       "\n",
       "Return an array with the same data as `A`, but with different dimension sizes or number of dimensions. The two arrays share the same underlying data, so that the result is mutable if and only if `A` is mutable, and setting elements of one alters the values of the other.\n",
       "\n",
       "The new dimensions may be specified either as a list of arguments or as a shape tuple. At most one dimension may be specified with a `:`, in which case its length is computed such that its product with all the specified dimensions is equal to the length of the original array `A`. The total number of elements must not change.\n",
       "\n",
       "# Examples\n",
       "\n",
       "```jldoctest\n",
       "julia> A = Vector(1:16)\n",
       "16-element Vector{Int64}:\n",
       "  1\n",
       "  2\n",
       "  3\n",
       "  4\n",
       "  5\n",
       "  6\n",
       "  7\n",
       "  8\n",
       "  9\n",
       " 10\n",
       " 11\n",
       " 12\n",
       " 13\n",
       " 14\n",
       " 15\n",
       " 16\n",
       "\n",
       "julia> reshape(A, (4, 4))\n",
       "4×4 Matrix{Int64}:\n",
       " 1  5   9  13\n",
       " 2  6  10  14\n",
       " 3  7  11  15\n",
       " 4  8  12  16\n",
       "\n",
       "julia> reshape(A, 2, :)\n",
       "2×8 Matrix{Int64}:\n",
       " 1  3  5  7   9  11  13  15\n",
       " 2  4  6  8  10  12  14  16\n",
       "\n",
       "julia> reshape(1:6, 2, 3)\n",
       "2×3 reshape(::UnitRange{Int64}, 2, 3) with eltype Int64:\n",
       " 1  3  5\n",
       " 2  4  6\n",
       "```\n"
      ],
      "text/plain": [
       "\u001b[36m  reshape(A, dims...) -> AbstractArray\u001b[39m\n",
       "\u001b[36m  reshape(A, dims) -> AbstractArray\u001b[39m\n",
       "\n",
       "  Return an array with the same data as \u001b[36mA\u001b[39m, but with different dimension sizes\n",
       "  or number of dimensions. The two arrays share the same underlying data, so\n",
       "  that the result is mutable if and only if \u001b[36mA\u001b[39m is mutable, and setting elements\n",
       "  of one alters the values of the other.\n",
       "\n",
       "  The new dimensions may be specified either as a list of arguments or as a\n",
       "  shape tuple. At most one dimension may be specified with a \u001b[36m:\u001b[39m, in which case\n",
       "  its length is computed such that its product with all the specified\n",
       "  dimensions is equal to the length of the original array \u001b[36mA\u001b[39m. The total number\n",
       "  of elements must not change.\n",
       "\n",
       "\u001b[1m  Examples\u001b[22m\n",
       "\u001b[1m  ≡≡≡≡≡≡≡≡≡≡\u001b[22m\n",
       "\n",
       "\u001b[36m  julia> A = Vector(1:16)\u001b[39m\n",
       "\u001b[36m  16-element Vector{Int64}:\u001b[39m\n",
       "\u001b[36m    1\u001b[39m\n",
       "\u001b[36m    2\u001b[39m\n",
       "\u001b[36m    3\u001b[39m\n",
       "\u001b[36m    4\u001b[39m\n",
       "\u001b[36m    5\u001b[39m\n",
       "\u001b[36m    6\u001b[39m\n",
       "\u001b[36m    7\u001b[39m\n",
       "\u001b[36m    8\u001b[39m\n",
       "\u001b[36m    9\u001b[39m\n",
       "\u001b[36m   10\u001b[39m\n",
       "\u001b[36m   11\u001b[39m\n",
       "\u001b[36m   12\u001b[39m\n",
       "\u001b[36m   13\u001b[39m\n",
       "\u001b[36m   14\u001b[39m\n",
       "\u001b[36m   15\u001b[39m\n",
       "\u001b[36m   16\u001b[39m\n",
       "\u001b[36m  \u001b[39m\n",
       "\u001b[36m  julia> reshape(A, (4, 4))\u001b[39m\n",
       "\u001b[36m  4×4 Matrix{Int64}:\u001b[39m\n",
       "\u001b[36m   1  5   9  13\u001b[39m\n",
       "\u001b[36m   2  6  10  14\u001b[39m\n",
       "\u001b[36m   3  7  11  15\u001b[39m\n",
       "\u001b[36m   4  8  12  16\u001b[39m\n",
       "\u001b[36m  \u001b[39m\n",
       "\u001b[36m  julia> reshape(A, 2, :)\u001b[39m\n",
       "\u001b[36m  2×8 Matrix{Int64}:\u001b[39m\n",
       "\u001b[36m   1  3  5  7   9  11  13  15\u001b[39m\n",
       "\u001b[36m   2  4  6  8  10  12  14  16\u001b[39m\n",
       "\u001b[36m  \u001b[39m\n",
       "\u001b[36m  julia> reshape(1:6, 2, 3)\u001b[39m\n",
       "\u001b[36m  2×3 reshape(::UnitRange{Int64}, 2, 3) with eltype Int64:\u001b[39m\n",
       "\u001b[36m   1  3  5\u001b[39m\n",
       "\u001b[36m   2  4  6\u001b[39m"
      ]
     },
     "execution_count": 12,
     "metadata": {},
     "output_type": "execute_result"
    }
   ],
   "source": [
    "?reshape"
   ]
  },
  {
   "cell_type": "code",
   "execution_count": 13,
   "metadata": {},
   "outputs": [
    {
     "data": {
      "text/plain": [
       "3×3 adjoint(reshape(::UnitRange{Int64}, 3, 3)) with eltype Int64:\n",
       " 1  2  3\n",
       " 4  5  6\n",
       " 7  8  9"
      ]
     },
     "execution_count": 13,
     "metadata": {},
     "output_type": "execute_result"
    }
   ],
   "source": [
    "(reshape(1:9, 3, 3))'"
   ]
  },
  {
   "cell_type": "code",
   "execution_count": 14,
   "metadata": {},
   "outputs": [
    {
     "data": {
      "text/plain": [
       "12×12 Matrix{Int64}:\n",
       "  1   2   3   4   5   6   7   8    9   10   11   12\n",
       "  2   4   6   8  10  12  14  16   18   20   22   24\n",
       "  3   6   9  12  15  18  21  24   27   30   33   36\n",
       "  4   8  12  16  20  24  28  32   36   40   44   48\n",
       "  5  10  15  20  25  30  35  40   45   50   55   60\n",
       "  6  12  18  24  30  36  42  48   54   60   66   72\n",
       "  7  14  21  28  35  42  49  56   63   70   77   84\n",
       "  8  16  24  32  40  48  56  64   72   80   88   96\n",
       "  9  18  27  36  45  54  63  72   81   90   99  108\n",
       " 10  20  30  40  50  60  70  80   90  100  110  120\n",
       " 11  22  33  44  55  66  77  88   99  110  121  132\n",
       " 12  24  36  48  60  72  84  96  108  120  132  144"
      ]
     },
     "execution_count": 14,
     "metadata": {},
     "output_type": "execute_result"
    }
   ],
   "source": [
    "collect(1:12) * (collect(1:12))'"
   ]
  },
  {
   "cell_type": "code",
   "execution_count": null,
   "metadata": {},
   "outputs": [],
   "source": []
  }
 ],
 "metadata": {
  "kernelspec": {
   "display_name": "Julia 1.6.0",
   "language": "julia",
   "name": "julia-1.6"
  },
  "language_info": {
   "file_extension": ".jl",
   "mimetype": "application/julia",
   "name": "julia",
   "version": "1.6.0"
  }
 },
 "nbformat": 4,
 "nbformat_minor": 4
}
