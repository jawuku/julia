{
 "cells": [
  {
   "cell_type": "markdown",
   "metadata": {},
   "source": [
    "### Hadamard multiplication - simple element-wise multiplication of 2 equally sized matrices"
   ]
  },
  {
   "cell_type": "code",
   "execution_count": 7,
   "metadata": {},
   "outputs": [
    {
     "data": {
      "text/plain": [
       "6"
      ]
     },
     "execution_count": 7,
     "metadata": {},
     "output_type": "execute_result"
    }
   ],
   "source": [
    "# define sizes\n",
    "n = 4; m = 6"
   ]
  },
  {
   "cell_type": "code",
   "execution_count": 8,
   "metadata": {},
   "outputs": [
    {
     "data": {
      "text/plain": [
       "4×6 Matrix{Int64}:\n",
       "  4   5  -6   2  -8   3\n",
       " -7   5  -4   5   9   3\n",
       "  8  -3   1   7  -6   2\n",
       " -2   2   2  -8   0  -1"
      ]
     },
     "execution_count": 8,
     "metadata": {},
     "output_type": "execute_result"
    }
   ],
   "source": [
    "# generate two matrices\n",
    "A = rand(-9:9, n,m)"
   ]
  },
  {
   "cell_type": "code",
   "execution_count": 9,
   "metadata": {},
   "outputs": [
    {
     "data": {
      "text/plain": [
       "4×6 Matrix{Int64}:\n",
       "  7   6   5  -3  -9   2\n",
       "  6  -4   3  -2  -4  -9\n",
       " -6  -5   4   7   6  -7\n",
       " -7   4  -3  -5  -4   6"
      ]
     },
     "execution_count": 9,
     "metadata": {},
     "output_type": "execute_result"
    }
   ],
   "source": [
    "B = rand(-9:9, n,m)"
   ]
  },
  {
   "cell_type": "code",
   "execution_count": 10,
   "metadata": {},
   "outputs": [
    {
     "data": {
      "text/plain": [
       "4×6 Matrix{Int64}:\n",
       "  28   30  -30   -6   72    6\n",
       " -42  -20  -12  -10  -36  -27\n",
       " -48   15    4   49  -36  -14\n",
       "  14    8   -6   40    0   -6"
      ]
     },
     "execution_count": 10,
     "metadata": {},
     "output_type": "execute_result"
    }
   ],
   "source": [
    "# Hadamard multiply - use broadcast function .* to do element-wise multiplication\n",
    "C = A .* B"
   ]
  },
  {
   "cell_type": "code",
   "execution_count": null,
   "metadata": {},
   "outputs": [],
   "source": []
  }
 ],
 "metadata": {
  "kernelspec": {
   "display_name": "Julia 1.6.0",
   "language": "julia",
   "name": "julia-1.6"
  },
  "language_info": {
   "file_extension": ".jl",
   "mimetype": "application/julia",
   "name": "julia",
   "version": "1.6.0"
  }
 },
 "nbformat": 4,
 "nbformat_minor": 4
}
