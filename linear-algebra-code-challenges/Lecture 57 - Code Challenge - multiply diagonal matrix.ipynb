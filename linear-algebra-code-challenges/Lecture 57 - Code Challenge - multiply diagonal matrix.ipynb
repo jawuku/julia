{
 "cells": [
  {
   "cell_type": "markdown",
   "metadata": {},
   "source": [
    "## special property of diagonal matrix multiplied\n",
    "\n",
    "### create 2 4x4 matrices - one a full matrix, other diagonal\n",
    "\n",
    "### multiply each matrix by itself, A * A and B * B\n",
    "\n",
    "### for Standard and Hadamard methods"
   ]
  },
  {
   "cell_type": "code",
   "execution_count": 2,
   "metadata": {},
   "outputs": [
    {
     "data": {
      "text/plain": [
       "4×4 Matrix{Int64}:\n",
       " -6   -2  -25  25\n",
       " -9  -28    3   1\n",
       " 10   11   17   7\n",
       " -1   -3   -7  -4"
      ]
     },
     "execution_count": 2,
     "metadata": {},
     "output_type": "execute_result"
    }
   ],
   "source": [
    "# create matrices - A = random 4x4 matrix\n",
    "r(x) = round(Int, x)\n",
    "\n",
    "A = r.(randn(4,4) * 10)"
   ]
  },
  {
   "cell_type": "code",
   "execution_count": 3,
   "metadata": {},
   "outputs": [
    {
     "data": {
      "text/plain": [
       "4×4 Matrix{Int64}:\n",
       " 1  0  0  0\n",
       " 0  3  0  0\n",
       " 0  0  2  0\n",
       " 0  0  0  4"
      ]
     },
     "execution_count": 3,
     "metadata": {},
     "output_type": "execute_result"
    }
   ],
   "source": [
    "# B = diagonal matrix\n",
    "B = [1 0 0 0;0 3 0 0; 0 0 2 0;0 0 0 4]"
   ]
  },
  {
   "cell_type": "code",
   "execution_count": 4,
   "metadata": {},
   "outputs": [
    {
     "data": {
      "text/plain": [
       "4×4 Matrix{Int64}:\n",
       " -221  -282  -456  -427\n",
       "  335   832   185  -236\n",
       "    4  -162    23   352\n",
       "  -33    21   -75   -61"
      ]
     },
     "execution_count": 4,
     "metadata": {},
     "output_type": "execute_result"
    }
   ],
   "source": [
    "# standard multiplication\n",
    "A * A"
   ]
  },
  {
   "cell_type": "code",
   "execution_count": 5,
   "metadata": {},
   "outputs": [
    {
     "data": {
      "text/plain": [
       "4×4 Matrix{Int64}:\n",
       " 1  0  0   0\n",
       " 0  9  0   0\n",
       " 0  0  4   0\n",
       " 0  0  0  16"
      ]
     },
     "execution_count": 5,
     "metadata": {},
     "output_type": "execute_result"
    }
   ],
   "source": [
    "B * B"
   ]
  },
  {
   "cell_type": "code",
   "execution_count": 6,
   "metadata": {},
   "outputs": [
    {
     "data": {
      "text/plain": [
       "4×4 Matrix{Int64}:\n",
       "  36    4  625  625\n",
       "  81  784    9    1\n",
       " 100  121  289   49\n",
       "   1    9   49   16"
      ]
     },
     "execution_count": 6,
     "metadata": {},
     "output_type": "execute_result"
    }
   ],
   "source": [
    "# Hadamard multiplication\n",
    "A .* A"
   ]
  },
  {
   "cell_type": "code",
   "execution_count": 7,
   "metadata": {},
   "outputs": [
    {
     "data": {
      "text/plain": [
       "4×4 Matrix{Int64}:\n",
       " 1  0  0   0\n",
       " 0  9  0   0\n",
       " 0  0  4   0\n",
       " 0  0  0  16"
      ]
     },
     "execution_count": 7,
     "metadata": {},
     "output_type": "execute_result"
    }
   ],
   "source": [
    "B .* B"
   ]
  },
  {
   "cell_type": "markdown",
   "metadata": {},
   "source": [
    "#### Thus for diagonal matrices, Standard and Hadamard multiplication\n",
    "#### produces the same result"
   ]
  },
  {
   "cell_type": "code",
   "execution_count": null,
   "metadata": {},
   "outputs": [],
   "source": []
  }
 ],
 "metadata": {
  "kernelspec": {
   "display_name": "Julia 1.6.0",
   "language": "julia",
   "name": "julia-1.6"
  },
  "language_info": {
   "file_extension": ".jl",
   "mimetype": "application/julia",
   "name": "julia",
   "version": "1.6.0"
  }
 },
 "nbformat": 4,
 "nbformat_minor": 4
}
