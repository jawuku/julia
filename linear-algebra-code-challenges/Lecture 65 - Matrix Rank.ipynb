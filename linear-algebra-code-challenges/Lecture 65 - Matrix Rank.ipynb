{
 "cells": [
  {
   "cell_type": "code",
   "execution_count": 4,
   "metadata": {},
   "outputs": [],
   "source": [
    "using LinearAlgebra"
   ]
  },
  {
   "cell_type": "code",
   "execution_count": 1,
   "metadata": {},
   "outputs": [],
   "source": [
    "m = 4; n = 6;"
   ]
  },
  {
   "cell_type": "code",
   "execution_count": 2,
   "metadata": {},
   "outputs": [
    {
     "data": {
      "text/plain": [
       "4×6 Matrix{Float64}:\n",
       " 0.702599  -0.290625  -1.27618   0.513855  0.887435   0.822077\n",
       " 0.299949   0.344186  -1.42929   1.0226    0.749212   0.904661\n",
       " 0.231657   0.391004   0.337157  0.282473  0.801053  -0.0668477\n",
       " 0.29825   -1.23134   -0.963435  1.61349   0.41395   -0.655137"
      ]
     },
     "execution_count": 2,
     "metadata": {},
     "output_type": "execute_result"
    }
   ],
   "source": [
    "A = randn(m,n)"
   ]
  },
  {
   "cell_type": "code",
   "execution_count": null,
   "metadata": {},
   "outputs": [],
   "source": [
    "#### It's pretty safe to assume that a matrix of random numbers has the rank at its maximum possible number\n",
    "#### i.e lesser of the number or rows or columns"
   ]
  },
  {
   "cell_type": "code",
   "execution_count": 5,
   "metadata": {},
   "outputs": [
    {
     "data": {
      "text/plain": [
       "4"
      ]
     },
     "execution_count": 5,
     "metadata": {},
     "output_type": "execute_result"
    }
   ],
   "source": [
    "ra = rank(A)"
   ]
  },
  {
   "cell_type": "code",
   "execution_count": 6,
   "metadata": {},
   "outputs": [
    {
     "name": "stdout",
     "output_type": "stream",
     "text": [
      "rank(A) = 4\n"
     ]
    }
   ],
   "source": [
    "println(\"rank(A) = $(ra)\")"
   ]
  },
  {
   "cell_type": "code",
   "execution_count": 9,
   "metadata": {},
   "outputs": [],
   "source": [
    "# create new matrix from A\n",
    "B = A;\n",
    "# set last column to be a repeat of the penultimate column\n",
    "B[:,end] = B[:,end-1];"
   ]
  },
  {
   "cell_type": "code",
   "execution_count": 10,
   "metadata": {},
   "outputs": [
    {
     "data": {
      "text/plain": [
       "4×6 Matrix{Float64}:\n",
       " 0.702599  -0.290625  -1.27618   0.513855  0.887435  0.887435\n",
       " 0.299949   0.344186  -1.42929   1.0226    0.749212  0.749212\n",
       " 0.231657   0.391004   0.337157  0.282473  0.801053  0.801053\n",
       " 0.29825   -1.23134   -0.963435  1.61349   0.41395   0.41395"
      ]
     },
     "execution_count": 10,
     "metadata": {},
     "output_type": "execute_result"
    }
   ],
   "source": [
    "# resulting in\n",
    "B"
   ]
  },
  {
   "cell_type": "code",
   "execution_count": 13,
   "metadata": {},
   "outputs": [
    {
     "data": {
      "text/plain": [
       "4"
      ]
     },
     "execution_count": 13,
     "metadata": {},
     "output_type": "execute_result"
    }
   ],
   "source": [
    "rb = rank(B)"
   ]
  },
  {
   "cell_type": "code",
   "execution_count": 14,
   "metadata": {},
   "outputs": [
    {
     "name": "stdout",
     "output_type": "stream",
     "text": [
      "rank(B) = 4\n"
     ]
    }
   ],
   "source": [
    "println(\"rank(B) = $(rb)\")"
   ]
  },
  {
   "cell_type": "code",
   "execution_count": 15,
   "metadata": {},
   "outputs": [],
   "source": [
    "# change final row of matrix B to equal the penultimate row\n",
    "# to create a reduced-rank matrix\n",
    "B[end,:] = B[end-1,:];"
   ]
  },
  {
   "cell_type": "code",
   "execution_count": 16,
   "metadata": {},
   "outputs": [
    {
     "data": {
      "text/plain": [
       "4×6 Matrix{Float64}:\n",
       " 0.702599  -0.290625  -1.27618   0.513855  0.887435  0.887435\n",
       " 0.299949   0.344186  -1.42929   1.0226    0.749212  0.749212\n",
       " 0.231657   0.391004   0.337157  0.282473  0.801053  0.801053\n",
       " 0.231657   0.391004   0.337157  0.282473  0.801053  0.801053"
      ]
     },
     "execution_count": 16,
     "metadata": {},
     "output_type": "execute_result"
    }
   ],
   "source": [
    "B"
   ]
  },
  {
   "cell_type": "code",
   "execution_count": 17,
   "metadata": {},
   "outputs": [
    {
     "data": {
      "text/plain": [
       "3"
      ]
     },
     "execution_count": 17,
     "metadata": {},
     "output_type": "execute_result"
    }
   ],
   "source": [
    "# now calculate rank\n",
    "rank(B)"
   ]
  },
  {
   "cell_type": "code",
   "execution_count": 21,
   "metadata": {},
   "outputs": [
    {
     "data": {
      "text/plain": [
       "4×4 Matrix{Int64}:\n",
       "   5   -3   -4  5\n",
       "  12   -7  -17  6\n",
       "   0   -5    1  7\n",
       " -12  -13   -8  5"
      ]
     },
     "execution_count": 21,
     "metadata": {},
     "output_type": "execute_result"
    }
   ],
   "source": [
    "# Create an example full-rank matrix of integers\n",
    "rd(x) = round(Int, x)\n",
    "C = rd.(10 * randn(m,m))"
   ]
  },
  {
   "cell_type": "code",
   "execution_count": 22,
   "metadata": {},
   "outputs": [
    {
     "data": {
      "text/plain": [
       "4"
      ]
     },
     "execution_count": 22,
     "metadata": {},
     "output_type": "execute_result"
    }
   ],
   "source": [
    "rank(C)"
   ]
  },
  {
   "cell_type": "code",
   "execution_count": 23,
   "metadata": {},
   "outputs": [
    {
     "data": {
      "text/plain": [
       "4×4 Matrix{Int64}:\n",
       "  -3   -3   -4  5\n",
       "  -7   -7  -17  6\n",
       "  -5   -5    1  7\n",
       " -13  -13   -8  5"
      ]
     },
     "execution_count": 23,
     "metadata": {},
     "output_type": "execute_result"
    }
   ],
   "source": [
    "# reduce the rank by making the first column equal to the second\n",
    "C[:,1] = C[:,2];\n",
    "C"
   ]
  },
  {
   "cell_type": "code",
   "execution_count": 24,
   "metadata": {},
   "outputs": [
    {
     "data": {
      "text/plain": [
       "3"
      ]
     },
     "execution_count": 24,
     "metadata": {},
     "output_type": "execute_result"
    }
   ],
   "source": [
    "rank(C)"
   ]
  },
  {
   "cell_type": "code",
   "execution_count": 59,
   "metadata": {},
   "outputs": [
    {
     "data": {
      "text/plain": [
       "1.0e-6"
      ]
     },
     "execution_count": 59,
     "metadata": {},
     "output_type": "execute_result"
    }
   ],
   "source": [
    "# add some noise factor\n",
    "noise = 0.000001"
   ]
  },
  {
   "cell_type": "code",
   "execution_count": 60,
   "metadata": {},
   "outputs": [
    {
     "data": {
      "text/plain": [
       "4×4 Matrix{Float64}:\n",
       "  -3.0   -3.0   -4.0  5.0\n",
       "  -7.0   -7.0  -17.0  6.0\n",
       "  -5.0   -5.0    1.0  7.0\n",
       " -13.0  -13.0   -8.0  5.0"
      ]
     },
     "execution_count": 60,
     "metadata": {},
     "output_type": "execute_result"
    }
   ],
   "source": [
    "D = C + noise*randn(size(C))"
   ]
  },
  {
   "cell_type": "code",
   "execution_count": 61,
   "metadata": {},
   "outputs": [
    {
     "name": "stdout",
     "output_type": "stream",
     "text": [
      "Rank without noise = 3\n",
      "Rank with noise    = 4\n"
     ]
    }
   ],
   "source": [
    "# noise can artificially raise rank, even with a small noise level\n",
    "println(\"Rank without noise = $(rank(C))\")\n",
    "println(\"Rank with noise    = $(rank(D))\")"
   ]
  },
  {
   "cell_type": "code",
   "execution_count": 67,
   "metadata": {},
   "outputs": [
    {
     "data": {
      "text/plain": [
       "1.0e-14"
      ]
     },
     "execution_count": 67,
     "metadata": {},
     "output_type": "execute_result"
    }
   ],
   "source": [
    "# the threshold is very low to reduce noise to insignificant level\n",
    "noise = 0.00000000000001"
   ]
  },
  {
   "cell_type": "code",
   "execution_count": 68,
   "metadata": {},
   "outputs": [
    {
     "data": {
      "text/plain": [
       "4×4 Matrix{Float64}:\n",
       "  -3.0   -3.0   -4.0  5.0\n",
       "  -7.0   -7.0  -17.0  6.0\n",
       "  -5.0   -5.0    1.0  7.0\n",
       " -13.0  -13.0   -8.0  5.0"
      ]
     },
     "execution_count": 68,
     "metadata": {},
     "output_type": "execute_result"
    }
   ],
   "source": [
    "D = C + noise*randn(size(C))"
   ]
  },
  {
   "cell_type": "code",
   "execution_count": 70,
   "metadata": {},
   "outputs": [
    {
     "name": "stdout",
     "output_type": "stream",
     "text": [
      "Rank without noise         = 3\n",
      "Rank with reduced noise    = 3\n"
     ]
    }
   ],
   "source": [
    "println(\"Rank without noise         = $(rank(C))\")\n",
    "println(\"Rank with reduced noise    = $(rank(D))\")"
   ]
  },
  {
   "cell_type": "code",
   "execution_count": null,
   "metadata": {},
   "outputs": [],
   "source": []
  }
 ],
 "metadata": {
  "kernelspec": {
   "display_name": "Julia 1.6.0",
   "language": "julia",
   "name": "julia-1.6"
  },
  "language_info": {
   "file_extension": ".jl",
   "mimetype": "application/julia",
   "name": "julia",
   "version": "1.6.0"
  }
 },
 "nbformat": 4,
 "nbformat_minor": 4
}
