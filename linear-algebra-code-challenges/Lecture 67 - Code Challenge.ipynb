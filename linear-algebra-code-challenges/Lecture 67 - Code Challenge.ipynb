{
 "cells": [
  {
   "cell_type": "markdown",
   "metadata": {},
   "source": [
    "### Create reduced-rank matrices using matrix multiplication"
   ]
  },
  {
   "cell_type": "code",
   "execution_count": 1,
   "metadata": {},
   "outputs": [],
   "source": [
    "# 1) create 10*10 matrix with rank of 4 with matrix multiplication\n",
    "# 2) generalise procedure to create any mxn matrix with rank r"
   ]
  },
  {
   "cell_type": "code",
   "execution_count": 6,
   "metadata": {},
   "outputs": [
    {
     "data": {
      "text/plain": [
       "roundint (generic function with 1 method)"
      ]
     },
     "execution_count": 6,
     "metadata": {},
     "output_type": "execute_result"
    }
   ],
   "source": [
    "# create a helper function to round a number to its nearest integer\n",
    "roundint(x) = round(Int, x)"
   ]
  },
  {
   "cell_type": "code",
   "execution_count": 5,
   "metadata": {},
   "outputs": [
    {
     "data": {
      "text/plain": [
       "10×4 Matrix{Int64}:\n",
       "  18    6    0   0\n",
       "   6   -1   18  -2\n",
       " -10   -8    2  -8\n",
       " -18    5   -7  -2\n",
       "   1  -18   -7   9\n",
       "  18    2    8   0\n",
       "  12   -7   13  -6\n",
       "  -3   -8   -5  -5\n",
       "  10    5  -16   7\n",
       "  -3   10   10   6"
      ]
     },
     "execution_count": 5,
     "metadata": {},
     "output_type": "execute_result"
    }
   ],
   "source": [
    "# create a 10x4 random matrix and round each element to nearest integer\n",
    "# using the helper function\n",
    "A = roundint.(10*randn(10,4))"
   ]
  },
  {
   "cell_type": "code",
   "execution_count": 7,
   "metadata": {},
   "outputs": [
    {
     "data": {
      "text/plain": [
       "4×10 Matrix{Int64}:\n",
       " 1  1  10  10  6  4  2   3  6  10\n",
       " 7  5   5   9  1  1  1   0  9   1\n",
       " 2  9   9   2  8  1  4  10  5   0\n",
       " 8  4   0   1  3  5  7   6  8   5"
      ]
     },
     "execution_count": 7,
     "metadata": {},
     "output_type": "execute_result"
    }
   ],
   "source": [
    "# Do the same instead with a 4x10 random matrix\n",
    "B = roundint.(10*rand(4,10))"
   ]
  },
  {
   "cell_type": "code",
   "execution_count": 12,
   "metadata": {},
   "outputs": [
    {
     "data": {
      "text/plain": [
       "10×10 Matrix{Int64}:\n",
       "   60    48   210   234   114   78   42    54   162   186\n",
       "   19   155   217    85   173   31   69   186   101    49\n",
       " -126   -64  -122  -176   -76  -86  -76   -58  -186  -148\n",
       "  -13   -64  -218  -151  -165  -84  -73  -136  -114  -185\n",
       "  -67  -116  -143  -157   -41   24   19   -13  -119    37\n",
       "   48   100   262   214   174   82   70   134   166   182\n",
       "  -59    70   202    77   151   24   27   130    26    83\n",
       " -109  -108  -115  -117   -81  -50  -69   -89  -155   -63\n",
       "   69   -81   -19   120   -42   64   10   -88    81   140\n",
       "  135   161   110    86    90   38   86   127   170    10"
      ]
     },
     "execution_count": 12,
     "metadata": {},
     "output_type": "execute_result"
    }
   ],
   "source": [
    "# create a square 10x10 matrix by multiplying A * B\n",
    "# Could also do (A * A') or (A' * A)\n",
    "C = A*B"
   ]
  },
  {
   "cell_type": "code",
   "execution_count": 10,
   "metadata": {},
   "outputs": [],
   "source": [
    "using LinearAlgebra"
   ]
  },
  {
   "cell_type": "code",
   "execution_count": 13,
   "metadata": {},
   "outputs": [
    {
     "data": {
      "text/plain": [
       "4"
      ]
     },
     "execution_count": 13,
     "metadata": {},
     "output_type": "execute_result"
    }
   ],
   "source": [
    "rank(C)"
   ]
  },
  {
   "cell_type": "code",
   "execution_count": 14,
   "metadata": {},
   "outputs": [
    {
     "data": {
      "text/plain": [
       "4"
      ]
     },
     "execution_count": 14,
     "metadata": {},
     "output_type": "execute_result"
    }
   ],
   "source": [
    "rank(A*A')"
   ]
  },
  {
   "cell_type": "code",
   "execution_count": 15,
   "metadata": {},
   "outputs": [
    {
     "data": {
      "text/plain": [
       "4"
      ]
     },
     "execution_count": 15,
     "metadata": {},
     "output_type": "execute_result"
    }
   ],
   "source": [
    "rank(A'*A)"
   ]
  },
  {
   "cell_type": "code",
   "execution_count": 34,
   "metadata": {},
   "outputs": [
    {
     "data": {
      "text/plain": [
       "rankmatrix (generic function with 2 methods)"
      ]
     },
     "execution_count": 34,
     "metadata": {},
     "output_type": "execute_result"
    }
   ],
   "source": [
    "# generalise procedure to create mxn matrix with rank r\n",
    "function rankmatrix(m, n, r=min(m,n))\n",
    "    if r > min(m, n)\n",
    "        throw(\"Error - Rank cannot be higher than the lesser dimension of the matrix.\")\n",
    "    end\n",
    "    \n",
    "    roundint.(10 * randn(m,r)) * roundint.(10 * randn(r,n))\n",
    "end"
   ]
  },
  {
   "cell_type": "code",
   "execution_count": 35,
   "metadata": {},
   "outputs": [
    {
     "data": {
      "text/plain": [
       "3×4 Matrix{Int64}:\n",
       " 0  0  0  0\n",
       " 0  0  0  0\n",
       " 0  0  0  0"
      ]
     },
     "execution_count": 35,
     "metadata": {},
     "output_type": "execute_result"
    }
   ],
   "source": [
    "rankmatrix(3,4,0)"
   ]
  },
  {
   "cell_type": "code",
   "execution_count": 36,
   "metadata": {},
   "outputs": [
    {
     "data": {
      "text/plain": [
       "3×5 Matrix{Int64}:\n",
       "  266  -224  -14  -28   56\n",
       "  275   -32  143  -66  212\n",
       " -111    81   -4   14  -33"
      ]
     },
     "execution_count": 36,
     "metadata": {},
     "output_type": "execute_result"
    }
   ],
   "source": [
    "rankmatrix(3,5,2)"
   ]
  },
  {
   "cell_type": "code",
   "execution_count": 37,
   "metadata": {},
   "outputs": [
    {
     "data": {
      "text/plain": [
       "2"
      ]
     },
     "execution_count": 37,
     "metadata": {},
     "output_type": "execute_result"
    }
   ],
   "source": [
    "rank(rankmatrix(3,5,2))"
   ]
  },
  {
   "cell_type": "code",
   "execution_count": 38,
   "metadata": {},
   "outputs": [
    {
     "data": {
      "text/plain": [
       "10×10 Matrix{Int64}:\n",
       "  -72    45   18   126   -72  -198  -27  -243   -81  -27\n",
       "  -72    45   18   126   -72  -198  -27  -243   -81  -27\n",
       "  104   -65  -26  -182   104   286   39   351   117   39\n",
       "  -88    55   22   154   -88  -242  -33  -297   -99  -33\n",
       "  -96    60   24   168   -96  -264  -36  -324  -108  -36\n",
       " -168   105   42   294  -168  -462  -63  -567  -189  -63\n",
       "   56   -35  -14   -98    56   154   21   189    63   21\n",
       "   64   -40  -16  -112    64   176   24   216    72   24\n",
       "  224  -140  -56  -392   224   616   84   756   252   84\n",
       "   24   -15   -6   -42    24    66    9    81    27    9"
      ]
     },
     "execution_count": 38,
     "metadata": {},
     "output_type": "execute_result"
    }
   ],
   "source": [
    "rankmatrix(10,10,1)"
   ]
  },
  {
   "cell_type": "code",
   "execution_count": 39,
   "metadata": {},
   "outputs": [
    {
     "data": {
      "text/plain": [
       "1"
      ]
     },
     "execution_count": 39,
     "metadata": {},
     "output_type": "execute_result"
    }
   ],
   "source": [
    "rank(rankmatrix(10,10,1))"
   ]
  },
  {
   "cell_type": "code",
   "execution_count": null,
   "metadata": {},
   "outputs": [],
   "source": []
  }
 ],
 "metadata": {
  "kernelspec": {
   "display_name": "Julia 1.6.0",
   "language": "julia",
   "name": "julia-1.6"
  },
  "language_info": {
   "file_extension": ".jl",
   "mimetype": "application/julia",
   "name": "julia",
   "version": "1.6.0"
  }
 },
 "nbformat": 4,
 "nbformat_minor": 4
}
