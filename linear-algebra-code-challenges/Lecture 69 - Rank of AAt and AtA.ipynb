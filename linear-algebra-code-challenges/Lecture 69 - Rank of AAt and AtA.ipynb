{
 "cells": [
  {
   "cell_type": "markdown",
   "metadata": {},
   "source": [
    "### Rank of A * A' and A' * A"
   ]
  },
  {
   "cell_type": "code",
   "execution_count": 2,
   "metadata": {},
   "outputs": [],
   "source": [
    "# matrix sizes\n",
    "m = 14; n = 3;"
   ]
  },
  {
   "cell_type": "code",
   "execution_count": 3,
   "metadata": {},
   "outputs": [
    {
     "data": {
      "text/plain": [
       "roundint (generic function with 1 method)"
      ]
     },
     "execution_count": 3,
     "metadata": {},
     "output_type": "execute_result"
    }
   ],
   "source": [
    "roundint(q) = round(Int, q)"
   ]
  },
  {
   "cell_type": "code",
   "execution_count": 4,
   "metadata": {},
   "outputs": [
    {
     "data": {
      "text/plain": [
       "14×3 Matrix{Int64}:\n",
       "  11    8   -9\n",
       " -26   -4    7\n",
       "   2   -4   20\n",
       "   0   10  -10\n",
       "  12  -21   10\n",
       "   7   -2    9\n",
       "  13  -19  -13\n",
       " -13   12    2\n",
       "  -8   -1    8\n",
       "  -3   -3   -6\n",
       "  11   16  -27\n",
       " -10    9   -6\n",
       "  10   -4   -4\n",
       "   0   -8   -2"
      ]
     },
     "execution_count": 4,
     "metadata": {},
     "output_type": "execute_result"
    }
   ],
   "source": [
    "A = roundint.(10 * randn(m,n))"
   ]
  },
  {
   "cell_type": "code",
   "execution_count": 5,
   "metadata": {},
   "outputs": [
    {
     "data": {
      "text/plain": [
       "14×14 Matrix{Int64}:\n",
       "  266  -381  -190   170  -126   -20  …  -168    -3   492    16   114   -46\n",
       " -381   741   104  -110  -158  -111      268    48  -539   182  -272    18\n",
       " -190   104   420  -240   308   202      148  -114  -582  -176   -44    -8\n",
       "  170  -110  -240   200  -310  -110      -90    30   430   150     0   -60\n",
       " -126  -158   308  -310   685   216        5   -33  -474  -369   164   148\n",
       "  -20  -111   202  -110   216   134  …    18   -69  -198  -142    42    -2\n",
       "  108  -353  -158   -60   425    12     -189    96   190  -223   258   178\n",
       "  -65   304   -34   100  -388   -97      108    -9    -5   226  -186  -100\n",
       " -168   268   148   -90     5    18      129   -21  -320    23  -108    -8\n",
       "   -3    48  -114    30   -33   -69      -21    54    81    39     6    36\n",
       "  492  -539  -582   430  -474  -198  …  -320    81  1106   196   154   -74\n",
       "   16   182  -176   150  -369  -142       23    39   196   217  -112   -60\n",
       "  114  -272   -44     0   164    42     -108     6   154  -112   132    40\n",
       "  -46    18    -8   -60   148    -2       -8    36   -74   -60    40    68"
      ]
     },
     "execution_count": 5,
     "metadata": {},
     "output_type": "execute_result"
    }
   ],
   "source": [
    "AAt = A * A'"
   ]
  },
  {
   "cell_type": "code",
   "execution_count": 6,
   "metadata": {},
   "outputs": [
    {
     "data": {
      "text/plain": [
       "3×3 Matrix{Int64}:\n",
       " 1726  -422  -576\n",
       " -422  1573  -681\n",
       " -576  -681  1869"
      ]
     },
     "execution_count": 6,
     "metadata": {},
     "output_type": "execute_result"
    }
   ],
   "source": [
    "AtA = A' * A"
   ]
  },
  {
   "cell_type": "code",
   "execution_count": 7,
   "metadata": {},
   "outputs": [],
   "source": [
    "using LinearAlgebra"
   ]
  },
  {
   "cell_type": "code",
   "execution_count": 9,
   "metadata": {},
   "outputs": [
    {
     "name": "stdout",
     "output_type": "stream",
     "text": [
      "A * A' has a size of (14, 14) and a rank of 3\n"
     ]
    }
   ],
   "source": [
    "println(\"A * A' has a size of $(size(AAt)) and a rank of $(rank(AAt))\")"
   ]
  },
  {
   "cell_type": "code",
   "execution_count": 10,
   "metadata": {},
   "outputs": [
    {
     "name": "stdout",
     "output_type": "stream",
     "text": [
      "A' * A has a size of (3, 3) and a rank of 3\n"
     ]
    }
   ],
   "source": [
    "println(\"A' * A has a size of $(size(AtA)) and a rank of $(rank(AtA))\")"
   ]
  },
  {
   "cell_type": "code",
   "execution_count": 12,
   "metadata": {},
   "outputs": [
    {
     "name": "stdout",
     "output_type": "stream",
     "text": [
      "A has a rank of 3\n"
     ]
    }
   ],
   "source": [
    "println(\"A also has a rank of $(rank(A))\")"
   ]
  },
  {
   "cell_type": "code",
   "execution_count": 13,
   "metadata": {},
   "outputs": [
    {
     "name": "stdout",
     "output_type": "stream",
     "text": [
      "A' too has a rank of 3\n"
     ]
    }
   ],
   "source": [
    "println(\"A' too has a rank of $(rank(A'))\")"
   ]
  },
  {
   "cell_type": "markdown",
   "metadata": {},
   "source": [
    "## Thus A, A', A' * A and A * A' all have the same rank"
   ]
  }
 ],
 "metadata": {
  "kernelspec": {
   "display_name": "Julia 1.6.0",
   "language": "julia",
   "name": "julia-1.6"
  },
  "language_info": {
   "file_extension": ".jl",
   "mimetype": "application/julia",
   "name": "julia",
   "version": "1.6.0"
  }
 },
 "nbformat": 4,
 "nbformat_minor": 4
}
