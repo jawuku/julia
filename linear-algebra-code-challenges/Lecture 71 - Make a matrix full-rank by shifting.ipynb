{
 "cells": [
  {
   "cell_type": "code",
   "execution_count": 1,
   "metadata": {},
   "outputs": [
    {
     "data": {
      "text/plain": [
       "3×3 Matrix{Float64}:\n",
       " 0.0  0.0  0.0\n",
       " 0.0  0.0  0.0\n",
       " 0.0  0.0  0.0"
      ]
     },
     "execution_count": 1,
     "metadata": {},
     "output_type": "execute_result"
    }
   ],
   "source": [
    "# adding an Identity Matrix to a zero matrix promotes rank from 0 to 3\n",
    "A = zeros(3,3)"
   ]
  },
  {
   "cell_type": "code",
   "execution_count": 2,
   "metadata": {},
   "outputs": [],
   "source": [
    "using LinearAlgebra"
   ]
  },
  {
   "cell_type": "code",
   "execution_count": 5,
   "metadata": {},
   "outputs": [
    {
     "data": {
      "text/plain": [
       "0"
      ]
     },
     "execution_count": 5,
     "metadata": {},
     "output_type": "execute_result"
    }
   ],
   "source": [
    "rank(A)"
   ]
  },
  {
   "cell_type": "code",
   "execution_count": 3,
   "metadata": {},
   "outputs": [
    {
     "data": {
      "text/plain": [
       "3×3 Matrix{Float64}:\n",
       " 1.0  0.0  0.0\n",
       " 0.0  1.0  0.0\n",
       " 0.0  0.0  1.0"
      ]
     },
     "execution_count": 3,
     "metadata": {},
     "output_type": "execute_result"
    }
   ],
   "source": [
    "A + I"
   ]
  },
  {
   "cell_type": "code",
   "execution_count": 4,
   "metadata": {},
   "outputs": [
    {
     "data": {
      "text/plain": [
       "3"
      ]
     },
     "execution_count": 4,
     "metadata": {},
     "output_type": "execute_result"
    }
   ],
   "source": [
    "rank(A+I)"
   ]
  },
  {
   "cell_type": "code",
   "execution_count": 6,
   "metadata": {},
   "outputs": [
    {
     "data": {
      "text/plain": [
       "3×3 Matrix{Int64}:\n",
       "  1   3  -19\n",
       "  5  -7   59\n",
       " -5   2  -24"
      ]
     },
     "execution_count": 6,
     "metadata": {},
     "output_type": "execute_result"
    }
   ],
   "source": [
    "# Promote a rank 2 matrix to rank 3\n",
    "B = [1 3 -19;5 -7 59;-5 2 -24]"
   ]
  },
  {
   "cell_type": "code",
   "execution_count": 7,
   "metadata": {},
   "outputs": [
    {
     "data": {
      "text/plain": [
       "2"
      ]
     },
     "execution_count": 7,
     "metadata": {},
     "output_type": "execute_result"
    }
   ],
   "source": [
    "rank(B)"
   ]
  },
  {
   "cell_type": "code",
   "execution_count": 8,
   "metadata": {},
   "outputs": [
    {
     "data": {
      "text/plain": [
       "3×3 Matrix{Float64}:\n",
       "  1.01   3.0   -19.0\n",
       "  5.0   -6.99   59.0\n",
       " -5.0    2.0   -23.99"
      ]
     },
     "execution_count": 8,
     "metadata": {},
     "output_type": "execute_result"
    }
   ],
   "source": [
    "B + 0.01I"
   ]
  },
  {
   "cell_type": "code",
   "execution_count": 9,
   "metadata": {},
   "outputs": [
    {
     "data": {
      "text/plain": [
       "3"
      ]
     },
     "execution_count": 9,
     "metadata": {},
     "output_type": "execute_result"
    }
   ],
   "source": [
    "rank(B + 0.01I)"
   ]
  },
  {
   "cell_type": "code",
   "execution_count": 10,
   "metadata": {},
   "outputs": [
    {
     "data": {
      "text/plain": [
       "3×3 Matrix{Int64}:\n",
       " 1001    3  -19\n",
       "    5  993   59\n",
       "   -5    2  976"
      ]
     },
     "execution_count": 10,
     "metadata": {},
     "output_type": "execute_result"
    }
   ],
   "source": [
    "# A too large scalar on the identity matrix can cause noise\n",
    "# the matrix is overshadowed by an identity matrix\n",
    "B + 1000I"
   ]
  },
  {
   "cell_type": "code",
   "execution_count": 11,
   "metadata": {},
   "outputs": [],
   "source": [
    "# the trick is to make a matrix full-rank, but to alter the information inside the matrix as little as possible"
   ]
  },
  {
   "cell_type": "code",
   "execution_count": 12,
   "metadata": {},
   "outputs": [],
   "source": [
    "# This addition of a scalar*I is sometimes called regularisation"
   ]
  },
  {
   "cell_type": "code",
   "execution_count": 19,
   "metadata": {},
   "outputs": [
    {
     "data": {
      "text/plain": [
       "30×30 Matrix{Int64}:\n",
       "  32   -1  -16    1  -2  -6   10   -4  …   4    6    7   10   1   0   8   -7\n",
       "  -1   56   10    7  -2  -3    8   12     14  -14  -10  -12   0  -6  11    5\n",
       " -16   10   24   -1   4   2   -9    5      3   -6   -9   -3  -6   0  -1   -1\n",
       "   1    7   -1   45   8   6    9  -13      1   -1    2    6  11   0   9    8\n",
       "  -2   -2    4    8  39  -1   11   -5     -1    0    5   -6   1  -6  15    0\n",
       "  -6   -3    2    6  -1  35   -4   -4  …  -8    0    3    7  10   2   1    4\n",
       "  10    8   -9    9  11  -4   34   -7      1   -5    1    3   8  -2  11   12\n",
       "  -4   12    5  -13  -5  -4   -7   55      8   -6  -14    3  -6  -2  -4    4\n",
       "  -1   -6    0   -3  -6  -2  -11   10      2    4    3   -7   4  -2  -3    2\n",
       "  -1  -11    0    6   1   4    6   -3      1   -5   -4    5   7   2   0   -6\n",
       "   7    6   -4    6  -5   2    5    1  …   0    6   -4   14  10   0   7    6\n",
       "   3    0   -7    1   8   8   12   -5     -8    3    4    5   9  -3  13   16\n",
       "   1    3    4   11  -5   8   -4   -1      7   -2    7    2  -1   6  -7   -2\n",
       "   ⋮                      ⋮            ⋱                  ⋮              \n",
       "  -1    7   -4  -10   2  -1    2    8     -1   -8    6   -4   4  -3   5    3\n",
       "  -1    3   -3   12  -2   0   -1  -15      0    0   -1   -7  10  -1  11    2\n",
       " -12   -9    6   -4   0   6    4   20  …  -3   -3  -16    5   5  -7  -2   15\n",
       "   8    8    0   -5  -2  -1   -5    8      5   -2    3    0  -7  -5  -3  -13\n",
       "   4   14    3    1  -1  -8    1    8     18   -8   -1   -7  -4   0  -1   -5\n",
       "   6  -14   -6   -1   0   0   -5   -6     -8   35   -2    3   1  -3  -1    0\n",
       "   7  -10   -9    2   5   3    1  -14     -1   -2   33   -9   6   3  -1    0\n",
       "  10  -12   -3    6  -6   7    3    3  …  -7    3   -9   39   7   5   7   -4\n",
       "   1    0   -6   11   1  10    8   -6     -4    1    6    7  32  -3  12    9\n",
       "   0   -6    0    0  -6   2   -2   -2      0   -3    3    5  -3  11  -3   -3\n",
       "   8   11   -1    9  15   1   11   -4     -1   -1   -1    7  12  -3  44    2\n",
       "  -7    5   -1    8   0   4   12    4     -5    0    0   -4   9  -3   2   31"
      ]
     },
     "execution_count": 19,
     "metadata": {},
     "output_type": "execute_result"
    }
   ],
   "source": [
    "# another example - random integers in a 30x30 matrix\n",
    "m = 30;\n",
    "r(x) = round(Int, x)\n",
    "A = r.(randn(m,m))\n",
    "A = A * A'"
   ]
  },
  {
   "cell_type": "code",
   "execution_count": 20,
   "metadata": {},
   "outputs": [
    {
     "data": {
      "text/plain": [
       "30"
      ]
     },
     "execution_count": 20,
     "metadata": {},
     "output_type": "execute_result"
    }
   ],
   "source": [
    "# rank is 30\n",
    "rank(A)"
   ]
  },
  {
   "cell_type": "code",
   "execution_count": 22,
   "metadata": {},
   "outputs": [],
   "source": [
    "# reduce rank\n",
    "A[:,2] = A[:,1];"
   ]
  },
  {
   "cell_type": "code",
   "execution_count": 23,
   "metadata": {},
   "outputs": [
    {
     "data": {
      "text/plain": [
       "29"
      ]
     },
     "execution_count": 23,
     "metadata": {},
     "output_type": "execute_result"
    }
   ],
   "source": [
    "rank(A)"
   ]
  },
  {
   "cell_type": "code",
   "execution_count": 24,
   "metadata": {},
   "outputs": [
    {
     "data": {
      "text/plain": [
       "0.01"
      ]
     },
     "execution_count": 24,
     "metadata": {},
     "output_type": "execute_result"
    }
   ],
   "source": [
    "# shifting factor (λ)\n",
    "λ = 0.01"
   ]
  },
  {
   "cell_type": "code",
   "execution_count": 26,
   "metadata": {},
   "outputs": [
    {
     "data": {
      "text/plain": [
       "30×30 Matrix{Float64}:\n",
       "  32.01   32.0   -16.0     1.0   …   10.0    1.0    0.0    8.0    -7.0\n",
       "  -1.0    -0.99   10.0     7.0      -12.0    0.0   -6.0   11.0     5.0\n",
       " -16.0   -16.0    24.01   -1.0       -3.0   -6.0    0.0   -1.0    -1.0\n",
       "   1.0     1.0    -1.0    45.01       6.0   11.0    0.0    9.0     8.0\n",
       "  -2.0    -2.0     4.0     8.0       -6.0    1.0   -6.0   15.0     0.0\n",
       "  -6.0    -6.0     2.0     6.0   …    7.0   10.0    2.0    1.0     4.0\n",
       "  10.0    10.0    -9.0     9.0        3.0    8.0   -2.0   11.0    12.0\n",
       "  -4.0    -4.0     5.0   -13.0        3.0   -6.0   -2.0   -4.0     4.0\n",
       "  -1.0    -1.0     0.0    -3.0       -7.0    4.0   -2.0   -3.0     2.0\n",
       "  -1.0    -1.0     0.0     6.0        5.0    7.0    2.0    0.0    -6.0\n",
       "   7.0     7.0    -4.0     6.0   …   14.0   10.0    0.0    7.0     6.0\n",
       "   3.0     3.0    -7.0     1.0        5.0    9.0   -3.0   13.0    16.0\n",
       "   1.0     1.0     4.0    11.0        2.0   -1.0    6.0   -7.0    -2.0\n",
       "   ⋮                             ⋱    ⋮                          \n",
       "  -1.0    -1.0    -4.0   -10.0       -4.0    4.0   -3.0    5.0     3.0\n",
       "  -1.0    -1.0    -3.0    12.0       -7.0   10.0   -1.0   11.0     2.0\n",
       " -12.0   -12.0     6.0    -4.0   …    5.0    5.0   -7.0   -2.0    15.0\n",
       "   8.0     8.0     0.0    -5.0        0.0   -7.0   -5.0   -3.0   -13.0\n",
       "   4.0     4.0     3.0     1.0       -7.0   -4.0    0.0   -1.0    -5.0\n",
       "   6.0     6.0    -6.0    -1.0        3.0    1.0   -3.0   -1.0     0.0\n",
       "   7.0     7.0    -9.0     2.0       -9.0    6.0    3.0   -1.0     0.0\n",
       "  10.0    10.0    -3.0     6.0   …   39.01   7.0    5.0    7.0    -4.0\n",
       "   1.0     1.0    -6.0    11.0        7.0   32.01  -3.0   12.0     9.0\n",
       "   0.0     0.0     0.0     0.0        5.0   -3.0   11.01  -3.0    -3.0\n",
       "   8.0     8.0    -1.0     9.0        7.0   12.0   -3.0   44.01    2.0\n",
       "  -7.0    -7.0    -1.0     8.0       -4.0    9.0   -3.0    2.0    31.01"
      ]
     },
     "execution_count": 26,
     "metadata": {},
     "output_type": "execute_result"
    }
   ],
   "source": [
    "# Shifting matrix\n",
    "B = A + λ*I"
   ]
  },
  {
   "cell_type": "code",
   "execution_count": 27,
   "metadata": {},
   "outputs": [
    {
     "name": "stdout",
     "output_type": "stream",
     "text": [
      "Rank without shifting is 29\n",
      "Rank with    shifting is 30\n"
     ]
    }
   ],
   "source": [
    "println(\"Rank without shifting is $(rank(A))\")\n",
    "println(\"Rank with    shifting is $(rank(B))\")"
   ]
  },
  {
   "cell_type": "code",
   "execution_count": 29,
   "metadata": {},
   "outputs": [
    {
     "data": {
      "text/plain": [
       "Plots.GRBackend()"
      ]
     },
     "execution_count": 29,
     "metadata": {},
     "output_type": "execute_result"
    }
   ],
   "source": [
    "using Plots; gr()"
   ]
  },
  {
   "cell_type": "code",
   "execution_count": 30,
   "metadata": {},
   "outputs": [
    {
     "data": {
      "image/svg+xml": [
       "<?xml version=\"1.0\" encoding=\"utf-8\"?>\n",
       "<svg xmlns=\"http://www.w3.org/2000/svg\" xmlns:xlink=\"http://www.w3.org/1999/xlink\" width=\"600\" height=\"400\" viewBox=\"0 0 2400 1600\">\n",
       "<defs>\n",
       "  <clipPath id=\"clip210\">\n",
       "    <rect x=\"0\" y=\"0\" width=\"2400\" height=\"1600\"/>\n",
       "  </clipPath>\n",
       "</defs>\n",
       "<path clip-path=\"url(#clip210)\" d=\"\n",
       "M0 1600 L2400 1600 L2400 0 L0 0  Z\n",
       "  \" fill=\"#ffffff\" fill-rule=\"evenodd\" fill-opacity=\"1\"/>\n",
       "<defs>\n",
       "  <clipPath id=\"clip211\">\n",
       "    <rect x=\"480\" y=\"0\" width=\"1681\" height=\"1600\"/>\n",
       "  </clipPath>\n",
       "</defs>\n",
       "<path clip-path=\"url(#clip210)\" d=\"\n",
       "M140.696 1486.45 L2112.76 1486.45 L2112.76 47.2441 L140.696 47.2441  Z\n",
       "  \" fill=\"#ffffff\" fill-rule=\"evenodd\" fill-opacity=\"1\"/>\n",
       "<defs>\n",
       "  <clipPath id=\"clip212\">\n",
       "    <rect x=\"140\" y=\"47\" width=\"1973\" height=\"1440\"/>\n",
       "  </clipPath>\n",
       "</defs>\n",
       "<polyline clip-path=\"url(#clip212)\" style=\"stroke:#000000; stroke-width:2; stroke-opacity:0.1; fill:none\" points=\"\n",
       "  436.505,1486.45 436.505,47.2441 \n",
       "  \"/>\n",
       "<polyline clip-path=\"url(#clip212)\" style=\"stroke:#000000; stroke-width:2; stroke-opacity:0.1; fill:none\" points=\"\n",
       "  765.181,1486.45 765.181,47.2441 \n",
       "  \"/>\n",
       "<polyline clip-path=\"url(#clip212)\" style=\"stroke:#000000; stroke-width:2; stroke-opacity:0.1; fill:none\" points=\"\n",
       "  1093.86,1486.45 1093.86,47.2441 \n",
       "  \"/>\n",
       "<polyline clip-path=\"url(#clip212)\" style=\"stroke:#000000; stroke-width:2; stroke-opacity:0.1; fill:none\" points=\"\n",
       "  1422.53,1486.45 1422.53,47.2441 \n",
       "  \"/>\n",
       "<polyline clip-path=\"url(#clip212)\" style=\"stroke:#000000; stroke-width:2; stroke-opacity:0.1; fill:none\" points=\"\n",
       "  1751.21,1486.45 1751.21,47.2441 \n",
       "  \"/>\n",
       "<polyline clip-path=\"url(#clip212)\" style=\"stroke:#000000; stroke-width:2; stroke-opacity:0.1; fill:none\" points=\"\n",
       "  2079.89,1486.45 2079.89,47.2441 \n",
       "  \"/>\n",
       "<polyline clip-path=\"url(#clip210)\" style=\"stroke:#000000; stroke-width:4; stroke-opacity:1; fill:none\" points=\"\n",
       "  140.696,1486.45 2112.76,1486.45 \n",
       "  \"/>\n",
       "<polyline clip-path=\"url(#clip210)\" style=\"stroke:#000000; stroke-width:4; stroke-opacity:1; fill:none\" points=\"\n",
       "  436.505,1486.45 436.505,1469.18 \n",
       "  \"/>\n",
       "<polyline clip-path=\"url(#clip210)\" style=\"stroke:#000000; stroke-width:4; stroke-opacity:1; fill:none\" points=\"\n",
       "  765.181,1486.45 765.181,1469.18 \n",
       "  \"/>\n",
       "<polyline clip-path=\"url(#clip210)\" style=\"stroke:#000000; stroke-width:4; stroke-opacity:1; fill:none\" points=\"\n",
       "  1093.86,1486.45 1093.86,1469.18 \n",
       "  \"/>\n",
       "<polyline clip-path=\"url(#clip210)\" style=\"stroke:#000000; stroke-width:4; stroke-opacity:1; fill:none\" points=\"\n",
       "  1422.53,1486.45 1422.53,1469.18 \n",
       "  \"/>\n",
       "<polyline clip-path=\"url(#clip210)\" style=\"stroke:#000000; stroke-width:4; stroke-opacity:1; fill:none\" points=\"\n",
       "  1751.21,1486.45 1751.21,1469.18 \n",
       "  \"/>\n",
       "<polyline clip-path=\"url(#clip210)\" style=\"stroke:#000000; stroke-width:4; stroke-opacity:1; fill:none\" points=\"\n",
       "  2079.89,1486.45 2079.89,1469.18 \n",
       "  \"/>\n",
       "<path clip-path=\"url(#clip210)\" d=\"M 0 0 M426.782 1512.56 L445.139 1512.56 L445.139 1516.5 L431.065 1516.5 L431.065 1524.97 Q432.083 1524.62 433.102 1524.46 Q434.12 1524.27 435.139 1524.27 Q440.926 1524.27 444.305 1527.44 Q447.685 1530.62 447.685 1536.03 Q447.685 1541.61 444.213 1544.71 Q440.741 1547.79 434.421 1547.79 Q432.245 1547.79 429.977 1547.42 Q427.731 1547.05 425.324 1546.31 L425.324 1541.61 Q427.407 1542.74 429.63 1543.3 Q431.852 1543.86 434.329 1543.86 Q438.333 1543.86 440.671 1541.75 Q443.009 1539.64 443.009 1536.03 Q443.009 1532.42 440.671 1530.31 Q438.333 1528.21 434.329 1528.21 Q432.454 1528.21 430.579 1528.62 Q428.727 1529.04 426.782 1529.92 L426.782 1512.56 Z\" fill=\"#000000\" fill-rule=\"evenodd\" fill-opacity=\"1\" /><path clip-path=\"url(#clip210)\" d=\"M 0 0 M739.869 1543.18 L747.508 1543.18 L747.508 1516.82 L739.198 1518.49 L739.198 1514.23 L747.462 1512.56 L752.137 1512.56 L752.137 1543.18 L759.776 1543.18 L759.776 1547.12 L739.869 1547.12 L739.869 1543.18 Z\" fill=\"#000000\" fill-rule=\"evenodd\" fill-opacity=\"1\" /><path clip-path=\"url(#clip210)\" d=\"M 0 0 M779.221 1515.64 Q775.61 1515.64 773.781 1519.2 Q771.975 1522.75 771.975 1529.87 Q771.975 1536.98 773.781 1540.55 Q775.61 1544.09 779.221 1544.09 Q782.855 1544.09 784.66 1540.55 Q786.489 1536.98 786.489 1529.87 Q786.489 1522.75 784.66 1519.2 Q782.855 1515.64 779.221 1515.64 M779.221 1511.93 Q785.031 1511.93 788.086 1516.54 Q791.165 1521.12 791.165 1529.87 Q791.165 1538.6 788.086 1543.21 Q785.031 1547.79 779.221 1547.79 Q773.41 1547.79 770.332 1543.21 Q767.276 1538.6 767.276 1529.87 Q767.276 1521.12 770.332 1516.54 Q773.41 1511.93 779.221 1511.93 Z\" fill=\"#000000\" fill-rule=\"evenodd\" fill-opacity=\"1\" /><path clip-path=\"url(#clip210)\" d=\"M 0 0 M1069.04 1543.18 L1076.68 1543.18 L1076.68 1516.82 L1068.37 1518.49 L1068.37 1514.23 L1076.64 1512.56 L1081.31 1512.56 L1081.31 1543.18 L1088.95 1543.18 L1088.95 1547.12 L1069.04 1547.12 L1069.04 1543.18 Z\" fill=\"#000000\" fill-rule=\"evenodd\" fill-opacity=\"1\" /><path clip-path=\"url(#clip210)\" d=\"M 0 0 M1098.44 1512.56 L1116.8 1512.56 L1116.8 1516.5 L1102.72 1516.5 L1102.72 1524.97 Q1103.74 1524.62 1104.76 1524.46 Q1105.78 1524.27 1106.8 1524.27 Q1112.58 1524.27 1115.96 1527.44 Q1119.34 1530.62 1119.34 1536.03 Q1119.34 1541.61 1115.87 1544.71 Q1112.4 1547.79 1106.08 1547.79 Q1103.9 1547.79 1101.64 1547.42 Q1099.39 1547.05 1096.98 1546.31 L1096.98 1541.61 Q1099.07 1542.74 1101.29 1543.3 Q1103.51 1543.86 1105.99 1543.86 Q1109.99 1543.86 1112.33 1541.75 Q1114.67 1539.64 1114.67 1536.03 Q1114.67 1532.42 1112.33 1530.31 Q1109.99 1528.21 1105.99 1528.21 Q1104.11 1528.21 1102.24 1528.62 Q1100.39 1529.04 1098.44 1529.92 L1098.44 1512.56 Z\" fill=\"#000000\" fill-rule=\"evenodd\" fill-opacity=\"1\" /><path clip-path=\"url(#clip210)\" d=\"M 0 0 M1401.31 1543.18 L1417.63 1543.18 L1417.63 1547.12 L1395.68 1547.12 L1395.68 1543.18 Q1398.35 1540.43 1402.93 1535.8 Q1407.53 1531.15 1408.72 1529.81 Q1410.96 1527.28 1411.84 1525.55 Q1412.74 1523.79 1412.74 1522.1 Q1412.74 1519.34 1410.8 1517.61 Q1408.88 1515.87 1405.78 1515.87 Q1403.58 1515.87 1401.12 1516.63 Q1398.69 1517.4 1395.91 1518.95 L1395.91 1514.23 Q1398.74 1513.09 1401.19 1512.51 Q1403.65 1511.93 1405.68 1511.93 Q1411.05 1511.93 1414.25 1514.62 Q1417.44 1517.31 1417.44 1521.8 Q1417.44 1523.93 1416.63 1525.85 Q1415.84 1527.74 1413.74 1530.34 Q1413.16 1531.01 1410.06 1534.23 Q1406.96 1537.42 1401.31 1543.18 Z\" fill=\"#000000\" fill-rule=\"evenodd\" fill-opacity=\"1\" /><path clip-path=\"url(#clip210)\" d=\"M 0 0 M1437.44 1515.64 Q1433.83 1515.64 1432 1519.2 Q1430.2 1522.75 1430.2 1529.87 Q1430.2 1536.98 1432 1540.55 Q1433.83 1544.09 1437.44 1544.09 Q1441.08 1544.09 1442.88 1540.55 Q1444.71 1536.98 1444.71 1529.87 Q1444.71 1522.75 1442.88 1519.2 Q1441.08 1515.64 1437.44 1515.64 M1437.44 1511.93 Q1443.25 1511.93 1446.31 1516.54 Q1449.39 1521.12 1449.39 1529.87 Q1449.39 1538.6 1446.31 1543.21 Q1443.25 1547.79 1437.44 1547.79 Q1431.63 1547.79 1428.55 1543.21 Q1425.5 1538.6 1425.5 1529.87 Q1425.5 1521.12 1428.55 1516.54 Q1431.63 1511.93 1437.44 1511.93 Z\" fill=\"#000000\" fill-rule=\"evenodd\" fill-opacity=\"1\" /><path clip-path=\"url(#clip210)\" d=\"M 0 0 M1730.48 1543.18 L1746.8 1543.18 L1746.8 1547.12 L1724.86 1547.12 L1724.86 1543.18 Q1727.52 1540.43 1732.1 1535.8 Q1736.71 1531.15 1737.89 1529.81 Q1740.14 1527.28 1741.01 1525.55 Q1741.92 1523.79 1741.92 1522.1 Q1741.92 1519.34 1739.97 1517.61 Q1738.05 1515.87 1734.95 1515.87 Q1732.75 1515.87 1730.3 1516.63 Q1727.87 1517.4 1725.09 1518.95 L1725.09 1514.23 Q1727.91 1513.09 1730.37 1512.51 Q1732.82 1511.93 1734.86 1511.93 Q1740.23 1511.93 1743.42 1514.62 Q1746.62 1517.31 1746.62 1521.8 Q1746.62 1523.93 1745.81 1525.85 Q1745.02 1527.74 1742.91 1530.34 Q1742.33 1531.01 1739.23 1534.23 Q1736.13 1537.42 1730.48 1543.18 Z\" fill=\"#000000\" fill-rule=\"evenodd\" fill-opacity=\"1\" /><path clip-path=\"url(#clip210)\" d=\"M 0 0 M1756.66 1512.56 L1775.02 1512.56 L1775.02 1516.5 L1760.95 1516.5 L1760.95 1524.97 Q1761.96 1524.62 1762.98 1524.46 Q1764 1524.27 1765.02 1524.27 Q1770.81 1524.27 1774.19 1527.44 Q1777.57 1530.62 1777.57 1536.03 Q1777.57 1541.61 1774.09 1544.71 Q1770.62 1547.79 1764.3 1547.79 Q1762.13 1547.79 1759.86 1547.42 Q1757.61 1547.05 1755.2 1546.31 L1755.2 1541.61 Q1757.29 1542.74 1759.51 1543.3 Q1761.73 1543.86 1764.21 1543.86 Q1768.21 1543.86 1770.55 1541.75 Q1772.89 1539.64 1772.89 1536.03 Q1772.89 1532.42 1770.55 1530.31 Q1768.21 1528.21 1764.21 1528.21 Q1762.33 1528.21 1760.46 1528.62 Q1758.61 1529.04 1756.66 1529.92 L1756.66 1512.56 Z\" fill=\"#000000\" fill-rule=\"evenodd\" fill-opacity=\"1\" /><path clip-path=\"url(#clip210)\" d=\"M 0 0 M2068.73 1528.49 Q2072.09 1529.2 2073.96 1531.47 Q2075.86 1533.74 2075.86 1537.07 Q2075.86 1542.19 2072.34 1544.99 Q2068.82 1547.79 2062.34 1547.79 Q2060.17 1547.79 2057.85 1547.35 Q2055.56 1546.93 2053.11 1546.08 L2053.11 1541.56 Q2055.05 1542.7 2057.37 1543.28 Q2059.68 1543.86 2062.2 1543.86 Q2066.6 1543.86 2068.89 1542.12 Q2071.21 1540.38 2071.21 1537.07 Q2071.21 1534.02 2069.05 1532.31 Q2066.93 1530.57 2063.11 1530.57 L2059.08 1530.57 L2059.08 1526.73 L2063.29 1526.73 Q2066.74 1526.73 2068.57 1525.36 Q2070.4 1523.97 2070.4 1521.38 Q2070.4 1518.72 2068.5 1517.31 Q2066.62 1515.87 2063.11 1515.87 Q2061.18 1515.87 2058.99 1516.29 Q2056.79 1516.7 2054.15 1517.58 L2054.15 1513.42 Q2056.81 1512.68 2059.12 1512.31 Q2061.46 1511.93 2063.52 1511.93 Q2068.85 1511.93 2071.95 1514.37 Q2075.05 1516.77 2075.05 1520.89 Q2075.05 1523.76 2073.41 1525.75 Q2071.76 1527.72 2068.73 1528.49 Z\" fill=\"#000000\" fill-rule=\"evenodd\" fill-opacity=\"1\" /><path clip-path=\"url(#clip210)\" d=\"M 0 0 M2094.73 1515.64 Q2091.12 1515.64 2089.29 1519.2 Q2087.48 1522.75 2087.48 1529.87 Q2087.48 1536.98 2089.29 1540.55 Q2091.12 1544.09 2094.73 1544.09 Q2098.36 1544.09 2100.17 1540.55 Q2101.99 1536.98 2101.99 1529.87 Q2101.99 1522.75 2100.17 1519.2 Q2098.36 1515.64 2094.73 1515.64 M2094.73 1511.93 Q2100.54 1511.93 2103.59 1516.54 Q2106.67 1521.12 2106.67 1529.87 Q2106.67 1538.6 2103.59 1543.21 Q2100.54 1547.79 2094.73 1547.79 Q2088.92 1547.79 2085.84 1543.21 Q2082.78 1538.6 2082.78 1529.87 Q2082.78 1521.12 2085.84 1516.54 Q2088.92 1511.93 2094.73 1511.93 Z\" fill=\"#000000\" fill-rule=\"evenodd\" fill-opacity=\"1\" /><polyline clip-path=\"url(#clip212)\" style=\"stroke:#000000; stroke-width:2; stroke-opacity:0.1; fill:none\" points=\"\n",
       "  140.696,1270.57 2112.76,1270.57 \n",
       "  \"/>\n",
       "<polyline clip-path=\"url(#clip212)\" style=\"stroke:#000000; stroke-width:2; stroke-opacity:0.1; fill:none\" points=\"\n",
       "  140.696,1030.7 2112.76,1030.7 \n",
       "  \"/>\n",
       "<polyline clip-path=\"url(#clip212)\" style=\"stroke:#000000; stroke-width:2; stroke-opacity:0.1; fill:none\" points=\"\n",
       "  140.696,790.833 2112.76,790.833 \n",
       "  \"/>\n",
       "<polyline clip-path=\"url(#clip212)\" style=\"stroke:#000000; stroke-width:2; stroke-opacity:0.1; fill:none\" points=\"\n",
       "  140.696,550.965 2112.76,550.965 \n",
       "  \"/>\n",
       "<polyline clip-path=\"url(#clip212)\" style=\"stroke:#000000; stroke-width:2; stroke-opacity:0.1; fill:none\" points=\"\n",
       "  140.696,311.098 2112.76,311.098 \n",
       "  \"/>\n",
       "<polyline clip-path=\"url(#clip212)\" style=\"stroke:#000000; stroke-width:2; stroke-opacity:0.1; fill:none\" points=\"\n",
       "  140.696,71.2308 2112.76,71.2308 \n",
       "  \"/>\n",
       "<polyline clip-path=\"url(#clip210)\" style=\"stroke:#000000; stroke-width:4; stroke-opacity:1; fill:none\" points=\"\n",
       "  140.696,1486.45 140.696,47.2441 \n",
       "  \"/>\n",
       "<polyline clip-path=\"url(#clip210)\" style=\"stroke:#000000; stroke-width:4; stroke-opacity:1; fill:none\" points=\"\n",
       "  140.696,1270.57 164.36,1270.57 \n",
       "  \"/>\n",
       "<polyline clip-path=\"url(#clip210)\" style=\"stroke:#000000; stroke-width:4; stroke-opacity:1; fill:none\" points=\"\n",
       "  140.696,1030.7 164.36,1030.7 \n",
       "  \"/>\n",
       "<polyline clip-path=\"url(#clip210)\" style=\"stroke:#000000; stroke-width:4; stroke-opacity:1; fill:none\" points=\"\n",
       "  140.696,790.833 164.36,790.833 \n",
       "  \"/>\n",
       "<polyline clip-path=\"url(#clip210)\" style=\"stroke:#000000; stroke-width:4; stroke-opacity:1; fill:none\" points=\"\n",
       "  140.696,550.965 164.36,550.965 \n",
       "  \"/>\n",
       "<polyline clip-path=\"url(#clip210)\" style=\"stroke:#000000; stroke-width:4; stroke-opacity:1; fill:none\" points=\"\n",
       "  140.696,311.098 164.36,311.098 \n",
       "  \"/>\n",
       "<polyline clip-path=\"url(#clip210)\" style=\"stroke:#000000; stroke-width:4; stroke-opacity:1; fill:none\" points=\"\n",
       "  140.696,71.2308 164.36,71.2308 \n",
       "  \"/>\n",
       "<path clip-path=\"url(#clip210)\" d=\"M 0 0 M83.7929 1253.29 L102.149 1253.29 L102.149 1257.22 L88.0753 1257.22 L88.0753 1265.69 Q89.0938 1265.35 90.1123 1265.19 Q91.1308 1265 92.1493 1265 Q97.9363 1265 101.316 1268.17 Q104.696 1271.34 104.696 1276.76 Q104.696 1282.34 101.223 1285.44 Q97.7511 1288.52 91.4317 1288.52 Q89.2558 1288.52 86.9873 1288.15 Q84.7419 1287.78 82.3346 1287.04 L82.3346 1282.34 Q84.4179 1283.47 86.6401 1284.03 Q88.8623 1284.58 91.3391 1284.58 Q95.3437 1284.58 97.6817 1282.48 Q100.02 1280.37 100.02 1276.76 Q100.02 1273.15 97.6817 1271.04 Q95.3437 1268.94 91.3391 1268.94 Q89.4641 1268.94 87.5892 1269.35 Q85.7373 1269.77 83.7929 1270.65 L83.7929 1253.29 Z\" fill=\"#000000\" fill-rule=\"evenodd\" fill-opacity=\"1\" /><path clip-path=\"url(#clip210)\" d=\"M 0 0 M53.3995 1044.04 L61.0384 1044.04 L61.0384 1017.68 L52.7282 1019.35 L52.7282 1015.09 L60.9921 1013.42 L65.668 1013.42 L65.668 1044.04 L73.3068 1044.04 L73.3068 1047.98 L53.3995 1047.98 L53.3995 1044.04 Z\" fill=\"#000000\" fill-rule=\"evenodd\" fill-opacity=\"1\" /><path clip-path=\"url(#clip210)\" d=\"M 0 0 M92.7512 1016.5 Q89.1401 1016.5 87.3114 1020.06 Q85.5058 1023.61 85.5058 1030.73 Q85.5058 1037.84 87.3114 1041.41 Q89.1401 1044.95 92.7512 1044.95 Q96.3854 1044.95 98.1909 1041.41 Q100.02 1037.84 100.02 1030.73 Q100.02 1023.61 98.1909 1020.06 Q96.3854 1016.5 92.7512 1016.5 M92.7512 1012.8 Q98.5613 1012.8 101.617 1017.4 Q104.696 1021.98 104.696 1030.73 Q104.696 1039.46 101.617 1044.07 Q98.5613 1048.65 92.7512 1048.65 Q86.941 1048.65 83.8623 1044.07 Q80.8068 1039.46 80.8068 1030.73 Q80.8068 1021.98 83.8623 1017.4 Q86.941 1012.8 92.7512 1012.8 Z\" fill=\"#000000\" fill-rule=\"evenodd\" fill-opacity=\"1\" /><path clip-path=\"url(#clip210)\" d=\"M 0 0 M54.3949 804.178 L62.0337 804.178 L62.0337 777.812 L53.7236 779.479 L53.7236 775.219 L61.9874 773.553 L66.6633 773.553 L66.6633 804.178 L74.3022 804.178 L74.3022 808.113 L54.3949 808.113 L54.3949 804.178 Z\" fill=\"#000000\" fill-rule=\"evenodd\" fill-opacity=\"1\" /><path clip-path=\"url(#clip210)\" d=\"M 0 0 M83.7929 773.553 L102.149 773.553 L102.149 777.488 L88.0753 777.488 L88.0753 785.96 Q89.0938 785.613 90.1123 785.451 Q91.1308 785.266 92.1493 785.266 Q97.9363 785.266 101.316 788.437 Q104.696 791.608 104.696 797.025 Q104.696 802.603 101.223 805.705 Q97.7511 808.784 91.4317 808.784 Q89.2558 808.784 86.9873 808.414 Q84.7419 808.043 82.3346 807.303 L82.3346 802.603 Q84.4179 803.738 86.6401 804.293 Q88.8623 804.849 91.3391 804.849 Q95.3437 804.849 97.6817 802.742 Q100.02 800.636 100.02 797.025 Q100.02 793.414 97.6817 791.307 Q95.3437 789.201 91.3391 789.201 Q89.4641 789.201 87.5892 789.617 Q85.7373 790.034 83.7929 790.914 L83.7929 773.553 Z\" fill=\"#000000\" fill-rule=\"evenodd\" fill-opacity=\"1\" /><path clip-path=\"url(#clip210)\" d=\"M 0 0 M56.6171 564.31 L72.9365 564.31 L72.9365 568.245 L50.9921 568.245 L50.9921 564.31 Q53.6541 561.556 58.2375 556.926 Q62.8439 552.273 64.0245 550.931 Q66.2698 548.408 67.1494 546.671 Q68.0522 544.912 68.0522 543.222 Q68.0522 540.468 66.1078 538.732 Q64.1865 536.996 61.0847 536.996 Q58.8856 536.996 56.4319 537.759 Q54.0014 538.523 51.2236 540.074 L51.2236 535.352 Q54.0477 534.218 56.5014 533.639 Q58.955 533.06 60.9921 533.06 Q66.3624 533.06 69.5568 535.746 Q72.7513 538.431 72.7513 542.921 Q72.7513 545.051 71.9411 546.972 Q71.1541 548.871 69.0476 551.463 Q68.4689 552.134 65.367 555.352 Q62.2652 558.546 56.6171 564.31 Z\" fill=\"#000000\" fill-rule=\"evenodd\" fill-opacity=\"1\" /><path clip-path=\"url(#clip210)\" d=\"M 0 0 M92.7512 536.764 Q89.1401 536.764 87.3114 540.329 Q85.5058 543.871 85.5058 551 Q85.5058 558.107 87.3114 561.671 Q89.1401 565.213 92.7512 565.213 Q96.3854 565.213 98.1909 561.671 Q100.02 558.107 100.02 551 Q100.02 543.871 98.1909 540.329 Q96.3854 536.764 92.7512 536.764 M92.7512 533.06 Q98.5613 533.06 101.617 537.667 Q104.696 542.25 104.696 551 Q104.696 559.727 101.617 564.333 Q98.5613 568.917 92.7512 568.917 Q86.941 568.917 83.8623 564.333 Q80.8068 559.727 80.8068 551 Q80.8068 542.25 83.8623 537.667 Q86.941 533.06 92.7512 533.06 Z\" fill=\"#000000\" fill-rule=\"evenodd\" fill-opacity=\"1\" /><path clip-path=\"url(#clip210)\" d=\"M 0 0 M57.6125 324.443 L73.9318 324.443 L73.9318 328.378 L51.9875 328.378 L51.9875 324.443 Q54.6495 321.688 59.2328 317.059 Q63.8393 312.406 65.0198 311.063 Q67.2652 308.54 68.1448 306.804 Q69.0476 305.045 69.0476 303.355 Q69.0476 300.6 67.1032 298.864 Q65.1819 297.128 62.08 297.128 Q59.881 297.128 57.4273 297.892 Q54.9967 298.656 52.219 300.207 L52.219 295.485 Q55.043 294.351 57.4967 293.772 Q59.9504 293.193 61.9874 293.193 Q67.3578 293.193 70.5522 295.878 Q73.7466 298.563 73.7466 303.054 Q73.7466 305.184 72.9365 307.105 Q72.1494 309.003 70.0429 311.596 Q69.4642 312.267 66.3624 315.485 Q63.2606 318.679 57.6125 324.443 Z\" fill=\"#000000\" fill-rule=\"evenodd\" fill-opacity=\"1\" /><path clip-path=\"url(#clip210)\" d=\"M 0 0 M83.7929 293.818 L102.149 293.818 L102.149 297.753 L88.0753 297.753 L88.0753 306.225 Q89.0938 305.878 90.1123 305.716 Q91.1308 305.531 92.1493 305.531 Q97.9363 305.531 101.316 308.702 Q104.696 311.874 104.696 317.29 Q104.696 322.869 101.223 325.971 Q97.7511 329.049 91.4317 329.049 Q89.2558 329.049 86.9873 328.679 Q84.7419 328.309 82.3346 327.568 L82.3346 322.869 Q84.4179 324.003 86.6401 324.559 Q88.8623 325.114 91.3391 325.114 Q95.3437 325.114 97.6817 323.008 Q100.02 320.901 100.02 317.29 Q100.02 313.679 97.6817 311.573 Q95.3437 309.466 91.3391 309.466 Q89.4641 309.466 87.5892 309.883 Q85.7373 310.3 83.7929 311.179 L83.7929 293.818 Z\" fill=\"#000000\" fill-rule=\"evenodd\" fill-opacity=\"1\" /><path clip-path=\"url(#clip210)\" d=\"M 0 0 M66.7559 69.8767 Q70.1124 70.5943 71.9874 72.8628 Q73.8855 75.1313 73.8855 78.4646 Q73.8855 83.5803 70.367 86.3812 Q66.8485 89.1821 60.3671 89.1821 Q58.1912 89.1821 55.8764 88.7423 Q53.5847 88.3256 51.131 87.4692 L51.131 82.9553 Q53.0754 84.0896 55.3903 84.6683 Q57.7051 85.247 60.2282 85.247 Q64.6263 85.247 66.918 83.5109 Q69.2328 81.7747 69.2328 78.4646 Q69.2328 75.409 67.08 73.6961 Q64.9504 71.96 61.131 71.96 L57.1032 71.96 L57.1032 68.1174 L61.3161 68.1174 Q64.7652 68.1174 66.5939 66.7517 Q68.4226 65.3628 68.4226 62.7702 Q68.4226 60.1082 66.5245 58.6962 Q64.6495 57.261 61.131 57.261 Q59.2097 57.261 57.0106 57.6777 Q54.8115 58.0943 52.1727 58.9739 L52.1727 54.8073 Q54.8347 54.0666 57.1495 53.6962 Q59.4875 53.3258 61.5476 53.3258 Q66.8717 53.3258 69.9735 55.7564 Q73.0753 58.1638 73.0753 62.2841 Q73.0753 65.1545 71.4318 67.1452 Q69.7883 69.1128 66.7559 69.8767 Z\" fill=\"#000000\" fill-rule=\"evenodd\" fill-opacity=\"1\" /><path clip-path=\"url(#clip210)\" d=\"M 0 0 M92.7512 57.0295 Q89.1401 57.0295 87.3114 60.5943 Q85.5058 64.136 85.5058 71.2655 Q85.5058 78.372 87.3114 81.9368 Q89.1401 85.4784 92.7512 85.4784 Q96.3854 85.4784 98.1909 81.9368 Q100.02 78.372 100.02 71.2655 Q100.02 64.136 98.1909 60.5943 Q96.3854 57.0295 92.7512 57.0295 M92.7512 53.3258 Q98.5613 53.3258 101.617 57.9323 Q104.696 62.5156 104.696 71.2655 Q104.696 79.9924 101.617 84.5988 Q98.5613 89.1821 92.7512 89.1821 Q86.941 89.1821 83.8623 84.5988 Q80.8068 79.9924 80.8068 71.2655 Q80.8068 62.5156 83.8623 57.9323 Q86.941 53.3258 92.7512 53.3258 Z\" fill=\"#000000\" fill-rule=\"evenodd\" fill-opacity=\"1\" /><g clip-path=\"url(#clip212)\">\n",
       "<image width=\"1972\" height=\"1439\" xlink:href=\"data:image/png;base64,\n",
       "iVBORw0KGgoAAAANSUhEUgAAB7QAAAWfCAYAAAArpcnjAAAgAElEQVR4nOzb34ulh13H8e85O3Nm\n",
       "szOzu7PbdLOdTXaT7YaVtUtk04CxIinFFtNWaCkhSIRiKzZFBXvnreCN9EIURRAq6I0oIYpKErBF\n",
       "YxVsl9Zsmq5JNmbZbJqt2R0nM5PZOXPmHC9i6Y3338/F6/UXfHh45vlx3vMM7l16dFbwf+6fneye\n",
       "EOHCkX3dE9pdWpt2T4hw7A7nQlXVhw6PuydEuPQ/o+4J7TZ3uxdk+O7u9e4JET5+cLV7QoSfvnO9\n",
       "e0K7P3l1f/eECKcXF7onRLixvdc9od3mdNI9IcLN2uieEOH44HD3hAjHFua6J7Qbe82uqqpfWN3s\n",
       "nhDhC//5D90TIpwdfbR7QruTw5XuCQT5wdQ1sqrqk3cud09o99wPb3dPiHDPwoHuCRH+8LFnuye0\n",
       "G3YPAAAAAAAAAID/j6ANAAAAAAAAQCRBGwAAAAAAAIBIgjYAAAAAAAAAkQRtAAAAAAAAACIJ2gAA\n",
       "AAAAAABEErQBAAAAAAAAiCRoAwAAAAAAABBJ0AYAAAAAAAAgkqANAAAAAAAAQCRBGwAAAAAAAIBI\n",
       "gjYAAAAAAAAAkQRtAAAAAAAAACIJ2gAAAAAAAABEErQBAAAAAAAAiCRoAwAAAAAAABBJ0AYAAAAA\n",
       "AAAgkqANAAAAAAAAQCRBGwAAAAAAAIBIgjYAAAAAAAAAkQRtAAAAAAAAACIJ2gAAAAAAAABEErQB\n",
       "AAAAAAAAiCRoAwAAAAAAABBJ0AYAAAAAAAAgkqANAAAAAAAAQCRBGwAAAAAAAIBIgjYAAAAAAAAA\n",
       "kQRtAAAAAAAAACIJ2gAAAAAAAABEErQBAAAAAAAAiCRoAwAAAAAAABBJ0AYAAAAAAAAgkqANAAAA\n",
       "AAAAQCRBGwAAAAAAAIBIgjYAAAAAAAAAkQRtAAAAAAAAACIJ2gAAAAAAAABEErQBAAAAAAAAiCRo\n",
       "AwAAAAAAABBJ0AYAAAAAAAAgkqANAAAAAAAAQCRBGwAAAAAAAIBIgjYAAAAAAAAAkQRtAAAAAAAA\n",
       "ACIJ2gAAAAAAAABEErQBAAAAAAAAiDT3+Mp93RsIcvHWXveECKPhrHtCu8+d3O6eEOHpa4vdEyKM\n",
       "p4PuCRG+u7XePaHdaDbfPSHCmX13dU+IMPKvkVVVtbaz0D2h3evDN7onRDg/d7p7QoSV0b7uCe3m\n",
       "Jy6QVVWjvcPdEyKcPzzXPSHC5qR7Qb8PLe12T4jwtf/yTlFV9eD8J7snRFgejLontBvP/A7Jjz2y\n",
       "cqh7QoSV0bh7AiH+/K/+tntChCc+9+nuCe28ZQMAAAAAAAAQSdAGAAAAAAAAIJKgDQAAAAAAAEAk\n",
       "QRsAAAAAAACASII2AAAAAAAAAJEEbQAAAAAAAAAiCdoAAAAAAAAARBK0AQAAAAAAAIgkaAMAAAAA\n",
       "AAAQSdAGAAAAAAAAIJKgDQAAAAAAAEAkQRsAAAAAAACASII2AAAAAAAAAJEEbQAAAAAAAAAiCdoA\n",
       "AAAAAAAARBK0AQAAAAAAAIgkaAMAAAAAAAAQSdAGAAAAAAAAIJKgDQAAAAAAAEAkQRsAAAAAAACA\n",
       "SII2AAAAAAAAAJEEbQAAAAAAAAAiCdoAAAAAAAAARBK0AQAAAAAAAIgkaAMAAAAAAAAQSdAGAAAA\n",
       "AAAAIJKgDQAAAAAAAEAkQRsAAAAAAACASII2AAAAAAAAAJEEbQAAAAAAAAAiCdoAAAAAAAAARBK0\n",
       "AQAAAAAAAIgkaAMAAAAAAAAQSdAGAAAAAAAAIJKgDQAAAAAAAEAkQRsAAAAAAACASII2AAAAAAAA\n",
       "AJEEbQAAAAAAAAAiCdoAAAAAAAAARBK0AQAAAAAAAIgkaAMAAAAAAAAQSdAGAAAAAAAAIJKgDQAA\n",
       "AAAAAEAkQRsAAAAAAACASII2AAAAAAAAAJEEbQAAAAAAAAAiCdoAAAAAAAAARBp8aunLs+4RQJ5X\n",
       "Zm91T4jwwPxq94QIN8Y73RMgyrHRQveECFuTve4JEW7uuUZ++PCB7gkRXlh3LlRVbdTt7gntHlg8\n",
       "1D0hwq0dPzdUVa1Nxt0TIuzMPDcsD0fdEyK8PLjaPSHC8tS9oqrq5HCle0I77xPv+eAd3imqqhbn\n",
       "uxdk+I933u2e0O4zH3AyVFU99eZu9wRC+EIbAAAAAAAAgEiCNgAAAAAAAACRBG0AAAAAAAAAIgna\n",
       "AAAAAAAAAEQStAEAAAAAAACIJGgDAAAAAAAAEEnQBgAAAAAAACCSoA0AAAAAAABAJEEbAAAAAAAA\n",
       "gEiCNgAAAAAAAACRBG0AAAAAAAAAIgnaAAAAAAAAAEQStAEAAAAAAACIJGgDAAAAAAAAEEnQBgAA\n",
       "AAAAACCSoA0AAAAAAABAJEEbAAAAAAAAgEiCNgAAAAAAAACRBG0AAAAAAAAAIgnaAAAAAAAAAEQS\n",
       "tAEAAAAAAACIJGgDAAAAAAAAEEnQBgAAAAAAACCSoA0AAAAAAABAJEEbAAAAAAAAgEiCNgAAAAAA\n",
       "AACRBG0AAAAAAAAAIgnaAAAAAAAAAEQStAEAAAAAAACIJGgDAAAAAAAAEEnQBgAAAAAAACCSoA0A\n",
       "AAAAAABAJEEbAAAAAAAAgEiCNgAAAAAAAACRBG0AAAAAAAAAIgnaAAAAAAAAAEQStAEAAAAAAACI\n",
       "JGgDAAAAAAAAEEnQBgAAAAAAACCSoA0AAAAAAABAJEEbAAAAAAAAgEiCNgAAAAAAAACRBG0AAAAA\n",
       "AAAAIgnaAAAAAAAAAEQStAEAAAAAAACIJGgDAAAAAAAAEEnQBgAAAAAAACDS3PxQ0+bHXtp7s3tC\n",
       "hF+56/3dE9rN//cHuidEOL+y1z0hwuZk1D0hwlO3XCM/cmC1e0KEFX8SVeU4/Mh4ur97Qrt/e3vS\n",
       "PSHCRt3unhBhc7DZPaHdU1svdE+IsLZ9uXtChJ8/8PnuCRFOLy50T2h335L3y6qq+9493T0hwjNb\n",
       "V7onRPjBdL57Qrt75g92T4iw4jZRVVUjuaaqqv7+C1/vntDu0T/9aPeECI+dmOueEGFt7Di4PAIA\n",
       "AAAAAAAQSdAGAAAAAAAAIJKgDQAAAAAAAEAkQRsAAAAAAACASII2AAAAAAAAAJEEbQAAAAAAAAAi\n",
       "CdoAAAAAAAAARBK0AQAAAAAAAIgkaAMAAAAAAAAQSdAGAAAAAAAAIJKgDQAAAAAAAEAkQRsAAAAA\n",
       "AACASII2AAAAAAAAAJEEbQAAAAAAAAAiCdoAAAAAAAAARBK0AQAAAAAAAIgkaAMAAAAAAAAQSdAG\n",
       "AAAAAAAAIJKgDQAAAAAAAEAkQRsAAAAAAACASII2AAAAAAAAAJEEbQAAAAAAAAAiCdoAAAAAAAAA\n",
       "RBK0AQAAAAAAAIgkaAMAAAAAAAAQSdAGAAAAAAAAIJKgDQAAAAAAAEAkQRsAAAAAAACASII2AAAA\n",
       "AAAAAJEEbQAAAAAAAAAiCdoAAAAAAAAARBK0AQAAAAAAAIgkaAMAAAAAAAAQSdAGAAAAAAAAIJKg\n",
       "DQAAAAAAAEAkQRsAAAAAAACASII2AAAAAAAAAJEEbQAAAAAAAAAiCdoAAAAAAAAARBK0AQAAAAAA\n",
       "AIgkaAMAAAAAAAAQSdAGAAAAAAAAIJKgDQAAAAAAAEAkQRsAAAAAAACASII2AAAAAAAAAJEEbQAA\n",
       "AAAAAAAiCdoAAAAAAAAARBr87r1fnnWPIMffvbXTPSHChw8f6J7Q7tl3rndPiPCpw6vdEyLc2O5e\n",
       "QIrnx1e6J0T4xOLp7gkRHjzybveECN++5blhzSNkVVWNp16tqqpe2nuze0K7pdlS94QIo9l894QI\n",
       "C4N93RMibNTt7gntbg7f7p4QwbP0e97Y2uueEOHFer17QrufHfmbqKp6Zufb3RMiXP+q41BV9du/\n",
       "82vdE9ptTroXZFia616Q4Rtr690T2vlCGwAAAAAAAIBIgjYAAAAAAAAAkQRtAAAAAAAAACIJ2gAA\n",
       "AAAAAABEErQBAAAAAAAAiCRoAwAAAAAAABBJ0AYAAAAAAAAgkqANAAAAAAAAQCRBGwAAAAAAAIBI\n",
       "gjYAAAAAAAAAkQRtAAAAAAAAACIJ2gAAAAAAAABEErQBAAAAAAAAiCRoAwAAAAAAABBJ0AYAAAAA\n",
       "AAAgkqANAAAAAAAAQCRBGwAAAAAAAIBIgjYAAAAAAAAAkQRtAAAAAAAAACIJ2gAAAAAAAABEErQB\n",
       "AAAAAAAAiCRoAwAAAAAAABBJ0AYAAAAAAAAgkqANAAAAAAAAQCRBGwAAAAAAAIBIgjYAAAAAAAAA\n",
       "kQRtAAAAAAAAACIJ2gAAAAAAAABEErQBAAAAAAAAiCRoAwAAAAAAABBJ0AYAAAAAAAAgkqANAAAA\n",
       "AAAAQCRBGwAAAAAAAIBIgjYAAAAAAAAAkQRtAAAAAAAAACIJ2gAAAAAAAABEErQBAAAAAAAAiCRo\n",
       "AwAAAAAAABBJ0AYAAAAAAAAgkqANAAAAAAAAQCRBGwAAAAAAAIBIgjYAAAAAAAAAkQRtAAAAAAAA\n",
       "ACIJ2gAAAAAAAABEErQBAAAAAAAAiCRoAwAAAAAAABBJ0AYAAAAAAAAg0tzaeF/3BoK8Onype0KE\n",
       "e7Yf7J7Q7pGl1e4JEW5sdy/IsDmZdU+I8Debf9E9od0vHX6ie0KEb22sd0+I8K2N7gUZHljsXtDv\n",
       "bsegqqpubA+6J0Q4srvSPaHdeLDbPSHC5cHF7gkRfmb4cPeECOeXD3VPaHf5HTfMqqo/vvFH3RMi\n",
       "/PKRJ7snRLh/52T3hHbXbu90T4jwypeudU+IsPoVv0tXVT1+sHtBvy2vFFVV9drmpHtChOPDpe4J\n",
       "7XyhDQAAAAAAAEAkQRsAAAAAAACASII2AAAAAAAAAJEEbQAAAAAAAAAiCdoAAAAAAAAARBK0AQAA\n",
       "AAAAAIgkaAMAAAAAAAAQSdAGAAAAAAAAIJKgDQAAAAAAAEAkQRsAAAAAAACASII2AAAAAAAAAJEE\n",
       "bQAAAAAAAAAiCdoAAAAAAAAARBK0AQAAAAAAAIgkaAMAAAAAAAAQSdAGAAAAAAAAIJKgDQAAAAAA\n",
       "AEAkQRsAAAAAAACASII2AAAAAAAAAJEEbQAAAAAAAAAiCdoAAAAAAAAARBK0AQAAAAAAAIgkaAMA\n",
       "AAAAAAAQSdAGAAAAAAAAIJKgDQAAAAAAAEAkQRsAAAAAAACASII2AAAAAAAAAJEEbQAAAAAAAAAi\n",
       "CdoAAAAAAAAARBK0AQAAAAAAAIgkaAMAAAAAAAAQSdAGAAAAAAAAIJKgDQAAAAAAAEAkQRsAAAAA\n",
       "AACASII2AAAAAAAAAJEEbQAAAAAAAAAiCdoAAAAAAAAARBK0AQAAAAAAAIgkaAMAAAAAAAAQSdAG\n",
       "AAAAAAAAIJKgDQAAAAAAAEAkQRsAAAAAAACASII2AAAAAAAAAJEEbQAAAAAAAAAiCdoAAAAAAAAA\n",
       "RBK0AQAAAAAAAIgkaAMAAAAAAAAQafCbx39j1j2CHM++c717QoSTdax7QrvRYNA9gSBXp2vdEyKM\n",
       "BzvdE9p95MBq94QI/771dveECI8cel/3hAhrLg117baDUFU1GuzrnhDhwhHH4dLatHtChBOLzoUq\n",
       "94kf+ZfJi90T2v1U/UT3hAg39/xRVFUteG6oqqpXhq90T2j38lde6J4Q4dHf+2z3hAh371/onhBh\n",
       "cyJbvbW73T0hwvJw1D0hgl7jC20AAAAAAAAAQgnaAAAAAAAAAEQStAEAAAAAAACIJGgDAAAAAAAA\n",
       "EEnQBgAAAAAAACCSoA0AAAAAAABAJEEbAAAAAAAAgEiCNgAAAAAAAACRBG0AAAAAAAAAIgnaAAAA\n",
       "AAAAAEQStAEAAAAAAACIJGgDAAAAAAAAEEnQBgAAAAAAACCSoA0AAAAAAABAJEEbAAAAAAAAgEiC\n",
       "NgAAAAAAAACRBG0AAAAAAAAAIgnaAAAAAAAAAEQStAEAAAAAAACIJGgDAAAAAAAAEEnQBgAAAAAA\n",
       "ACCSoA0AAAAAAABAJEEbAAAAAAAAgEiCNgAAAAAAAACRBG0AAAAAAAAAIgnaAAAAAAAAAEQStAEA\n",
       "AAAAAACIJGgDAAAAAAAAEEnQBgAAAAAAACCSoA0AAAAAAABAJEEbAAAAAAAAgEiCNgAAAAAAAACR\n",
       "BG0AAAAAAAAAIgnaAAAAAAAAAEQStAEAAAAAAACIJGgDAAAAAAAAEEnQBgAAAAAAACCSoA0AAAAA\n",
       "AABAJEEbAAAAAAAAgEiCNgAAAAAAAACRBG0AAAAAAAAAIgnaAAAAAAAAAEQStAEAAAAAAACIJGgD\n",
       "AAAAAAAAEEnQBgAAAAAAACCSoA0AAAAAAABAJEEbAAAAAAAAgEhzW5PuCSR5aGG1e0KEzcmse0K7\n",
       "rb297gkRvje43D0hwkNz57onRDh7qHtBv9c2uhdk+ODc0e4JEV7bcK+oqvpOfb97QrvHV36ye0KE\n",
       "v16/0j0hwmjtVPeEdlena90TIqzsvq97QoTx1PtlVdW52dnuCf0G3QNIcnZ5oXtChN86cax7Qrv7\n",
       "v3q+e0KEc4N93RMiPD/2TlFVdXTqOfL4vqXuCRHGM8/SVd4xq3yhDQAAAAAAAEAoQRsAAAAAAACA\n",
       "SII2AAAAAAAAAJEEbQAAAAAAAAAiCdoAAAAAAAAARBK0AQAAAAAAAIgkaAMAAAAAAAAQSdAGAAAA\n",
       "AAAAIJKgDQAAAAAAAEAkQRsAAAAAAACASII2AAAAAAAAAJEEbQAAAAAAAAAiCdoAAAAAAAAARBK0\n",
       "AQAAAAAAAIgkaAMAAAAAAAAQSdAGAAAAAAAAIJKgDQAAAAAAAEAkQRsAAAAAAACASII2AAAAAAAA\n",
       "AJEEbQAAAAAAAAAiCdoAAAAAAAAARBK0AQAAAAAAAIgkaAMAAAAAAAAQSdAGAAAAAAAAIJKgDQAA\n",
       "AAAAAEAkQRsAAAAAAACASII2AAAAAAAAAJEEbQAAAAAAAAAiCdoAAAAAAAAARBK0AQAAAAAAAIgk\n",
       "aAMAAAAAAAAQSdAGAAAAAAAAIJKgDQAAAAAAAEAkQRsAAAAAAACASII2AAAAAAAAAJEEbQAAAAAA\n",
       "AAAiCdoAAAAAAAAARBK0AQAAAAAAAIgkaAMAAAAAAAAQSdAGAAAAAAAAIJKgDQAAAAAAAEAkQRsA\n",
       "AAAAAACASII2AAAAAAAAAJEEbQAAAAAAAAAiCdoAAAAAAAAARBK0AQAAAAAAAIgkaAMAAAAAAAAQ\n",
       "ae79+2fdGwhyaW3aPSHC1ela94R2R2u5e0KEc3W2e0KEVyc3uydEOFtHuye025rsdU+I8J36fveE\n",
       "CGemZ7onRFgarHRPaPeNtfXuCRE+sXy6e0KE1zYn3RPaHR8c7p4Q4caOc6Gqajzz/MR7/nn32e4J\n",
       "Ec7MPdw9IcKvX3i1e0KEP7h4vntCuzPTg90TIhzbP9c9IcJofKp7QoQXh693T2g3nu52T4iwNDvQ\n",
       "PSHC5d2vd09o5wttAAAAAAAAACIJ2gAAAAAAAABEErQBAAAAAAAAiCRoAwAAAAAAABBJ0AYAAAAA\n",
       "AAAgkqANAAAAAAAAQCRBGwAAAAAAAIBIgjYAAAAAAAAAkQRtAAAAAAAAACIJ2gAAAAAAAABEErQB\n",
       "AAAAAAAAiCRoAwAAAAAAABBJ0AYAAAAAAAAgkqANAAAAAAAAQCRBGwAAAAAAAIBIgjYAAAAAAAAA\n",
       "kQRtAAAAAAAAACIJ2gAAAAAAAABEErQBAAAAAAAAiCRoAwAAAAAAABBJ0AYAAAAAAAAgkqANAAAA\n",
       "AAAAQCRBGwAAAAAAAIBIgjYAAAAAAAAAkQRtAAAAAAAAACIJ2gAAAAAAAABEErQBAAAAAAAAiCRo\n",
       "AwAAAAAAABBJ0AYAAAAAAAAgkqANAAAAAAAAQCRBGwAAAAAAAIBIgjYAAAAAAAAAkQRtAAAAAAAA\n",
       "ACIJ2gAAAAAAAABEErQBAAAAAAAAiCRoAwAAAAAAABBJ0AYAAAAAAAAgkqANAAAAAAAAQCRBGwAA\n",
       "AAAAAIBIgjYAAAAAAAAAkQRtAAAAAAAAACIJ2gAAAAAAAABEErQBAAAAAAAAiCRoAwAAAAAAABBJ\n",
       "0AYAAAAAAAAgkqANAAAAAAAAQCRBGwAAAAAAAIBIgztGp2bdI8jxq0c/3T0hwjfX17sntDs+XOqe\n",
       "EOG+5X3dEyJsTboXZHj89PXuCe2eubbaPSHC/NDjU1XVG1uD7gkRRm4V9cz2i90TIjw0PNc9IcLd\n",
       "i64NazvdCzKMp90LMjw3fr57QoSzswvdE9rdGq51T4hw6emL3RMiXPjFh7snRFiaHeieQIh/3f6z\n",
       "7gkRvnTsye4JhHhm60r3hAinpie6J0T4/L273RPa+UIbAAAAAAAAgEiCNgAAAAAAAACRBG0AAAAA\n",
       "AAAAIgnaAAAAAAAAAEQStAEAAAAAAACIJGgDAAAAAAAAEEnQBgAAAAAAACCSoA0AAAAAAABAJEEb\n",
       "AAAAAAAAgEiCNgAAAAAAAACRBG0AAAAAAAAAIgnaAAAAAAAAAEQStAEAAAAAAACIJGgDAAAAAAAA\n",
       "EEnQBgAAAAAAACCSoA0AAAAAAABAJEEbAAAAAAAAgEiCNgAAAAAAAACRBG0AAAAAAAAAIgnaAAAA\n",
       "AAAAAEQStAEAAAAAAACIJGgDAAAAAAAAEEnQBgAAAAAAACCSoA0AAAAAAABAJEEbAAAAAAAAgEiC\n",
       "NgAAAAAAAACRBG0AAAAAAAAAIgnaAAAAAAAAAEQStAEAAAAAAACIJGgDAAAAAAAAEEnQBgAAAAAA\n",
       "ACCSoA0AAAAAAABAJEEbAAAAAAAAgEiCNgAAAAAAAACRBG0AAAAAAAAAIgnaAAAAAAAAAEQStAEA\n",
       "AAAAAACIJGgDAAAAAAAAEEnQBgAAAAAAACCSoA0AAAAAAABAJEEbAAAAAAAAgEiCNgAAAAAAAACR\n",
       "BG0AAAAAAAAAIgnaAAAAAAAAAEQStAEAAAAAAACIJGgDAAAAAAAAEEnQBgAAAAAAACDS4OOLT866\n",
       "R5BjYzrunhDhsRNz3RPaPX3dpaGqamnoXKiqGs+cD1VVz737te4J7Z5Y+WL3hAgrC90LMnxzfb17\n",
       "QoR75g52T2i3NvEMWVV1sza6J0QY1Xz3hHaPrBzqnhDhyoZnyKqq8yuOQ1XV5XXfVPz+Z/6xe0KE\n",
       "n/vLs90TIlzdvdg9IcLHRo92TyCE357e8/LgaveECF+881T3hHb/9EN/E1VVH7vLcaiqunjTe7a3\n",
       "CQAAAAAAAAAiCdoAAAAAAAAARBK0AQAAAAAAAIgkaAMAAAAAAAAQSdAGAAAAAAAAIJKgDQAAAAAA\n",
       "AEAkQRsAAAAAAACASII2AAAAAAD8L/v20mL3QYdx/HdmzpxJMjOZnkwhKbZW04ixrW3VtqL1Qqu1\n",
       "guKtC3Ghq0LVor6CbhRcuBFEFy5ciYgLRUVBvFTFlkJbREsvgTRBkoZ2NMl0JjNN5szJjIsi+A5+\n",
       "z+LzeQUPh/lfv/MHACIJ2gAAAAAAAABEErQBAAAAAAAAiCRoAwAAAAAAABBJ0AYAAAAAAAAgkqAN\n",
       "AAAAAAAAQCRBGwAAAAAAAIBIgjYAAAAAAAAAkQRtAAAAAAAAACIJ2gAAAAAAAABEErQBAAAAAAAA\n",
       "iCRoAwAAAAAAABBJ0AYAAAAAAAAgkqANAAAAAAAAQCRBGwAAAAAAAIBIgjYAAAAAAAAAkQRtAAAA\n",
       "AAAAACIJ2gAAAAAAAABEErQBAAAAAAAAiCRoAwAAAAAAABBJ0AYAAAAAAAAgkqANAAAAAAAAQCRB\n",
       "GwAAAAAAAIBIgjYAAAAAAAAAkQRtAAAAAAAAACIJ2gAAAAAAAABEErQBAAAAAAAAiCRoAwAAAAAA\n",
       "ABBJ0AYAAAAAAAAgkqANAAAAAAAAQCRBGwAAAAAAAIBIgjYAAAAAAAAAkQRtAAAAAAAAACIJ2gAA\n",
       "AAAAAABEErQBAAAAAAAAiCRoAwAAAAAAABBJ0AYAAAAAAAAgkqANAAAAAAAAQCRBGwAAAAAAAIBI\n",
       "gjYAAAAAAAAAkQYPLHx1r3sEOS7sbXVPiHC6nu2e0O5jow92T4iwtjPtnhBhPDfsnhDh6JJL5stb\n",
       "g+4JEVa3nRuqqiZ7V7snRLhteb57QrufX3que0KEj++/tXtChIvbrpdnphvdEyLcs7zcPSHCwtAx\n",
       "UVX1jfsf657Q7hu/+Ej3hAhntl/vnhBhfjDbPSHCyO9Qzw9OdE+I8OCSe+mqqifW17snRLhjwX3k\n",
       "C5uul1VVtx880D0hwtZO94J+vtAGAAAAAAAAIJKgDQAAAAAAAEAkQRsAAAAAAACASII2AAAAAAAA\n",
       "AJEEbQAAAAAAAAAiCdoAAAAAAAAARBK0AQAAAAAAAIgkaAMAAAAAAAAQSdAGAAAAAAAAIJKgDQAA\n",
       "AAAAAEAkQRsAAAAAAACASII2AAAAAAAAAJEEbQAAAAAAAAAiCdoAAAAAAAAARBK0AQAAAAAAAIgk\n",
       "aAMAAAAAAAAQSdAGAAAAAAAAIJKgDQAAAAAAAEAkQRsAAAAAAACASII2AAAAAAAAAJEEbQAAAAAA\n",
       "AAAiCdoAAAAAAAAARBK0AQAAAAAAAIgkaAMAAAAAAAAQSdAGAAAAAAAAIJKgDQAAAAAAAEAkQRsA\n",
       "AAAAAACASII2AAAAAAAAAJEEbQAAAAAAAAAiCdoAAAAAAAAARBK0AQAAAAAAAIgkaAMAAAAAAAAQ\n",
       "SdAGAAAAAAAAIJKgDQAAAAAAAEAkQRsAAAAAAACASII2AAAAAAAAAJEEbQAAAAAAAAAiCdoAAAAA\n",
       "AAAARBK0AQAAAAAAAIgkaAMAAAAAAAAQSdAGAAAAAAAAIJKgDQAAAAAAAEAkQRsAAAAAAACASII2\n",
       "AAAAAAAAAJEEbQAAAAAAAAAiCdoAAAAAAAAARBK0AQAAAAAAAIg0+PZbH9nrHkGOP6xOuydE2N67\n",
       "2j2h3cWZte4JBLl7/k3dEyI8tX2ue0K7Q7vj7gkRVmbnuydEWBjOdk+IMPbnUKc33UNWVR2eH3ZP\n",
       "iLA59Yj54cM73RMinNgYdU+I8Oj9f+2eEOH7f/1Q94R2oxnnx6qq7/3nie4JEW6vu7snRBgPXStG\n",
       "M4PuCRG2pt7HVlVt7nq2qqoaDbxvmGgUVbWVmn0AACAASURBVFV1p5cuVVX17GvODb7QBgAAAAAA\n",
       "ACCSoA0AAAAAAABAJEEbAAAAAAAAgEiCNgAAAAAAAACRBG0AAAAAAAAAIgnaAAAAAAAAAEQStAEA\n",
       "AAAAAACIJGgDAAAAAAAAEEnQBgAAAAAAACCSoA0AAAAAAABAJEEbAAAAAAAAgEiCNgAAAAAAAACR\n",
       "BG0AAAAAAAAAIgnaAAAAAAAAAEQStAEAAAAAAACIJGgDAAAAAAAAEEnQBgAAAAAAACCSoA0AAAAA\n",
       "AABAJEEbAAAAAAAAgEiCNgAAAAAAAACRBG0AAAAAAAAAIgnaAAAAAAAAAEQStAEAAAAAAACIJGgD\n",
       "AAAAAAAAEEnQBgAAAAAAACCSoA0AAAAAAABAJEEbAAAAAAAAgEiCNgAAAAAAAACRBG0AAAAAAAAA\n",
       "IgnaAAAAAAAAAEQStAEAAAAAAACIJGgDAAAAAAAAEEnQBgAAAAAAACCSoA0AAAAAAABAJEEbAAAA\n",
       "AAAAgEiCNgAAAAAAAACRBG0AAAAAAAAAIgnaAAAAAAAAAEQStAEAAAAAAACIJGgDAAAAAAAAEEnQ\n",
       "BgAAAAAAACCSoA0AAAAAAABAJEEbAAAAAAAAgEiCNgAAAAAAAACRBG0AAAAAAAAAIgnaAAAAAAAA\n",
       "AEQStAEAAAAAAACINLj3wMN73SPIMR6OuidEODPd6J7Q7t7xcveECGe3uhdkWJ1sd0+I8L4V58if\n",
       "rp3unhBhZffa7gkEOTZyzXxhcr57QoS7F5wbqqrm/Nt0ffS6i90TInz4vU93T4jw6C8f6J4QYeTc\n",
       "UGe3vIKrqhrNDLonRFjbmXZPiHB4ftg9od3CXPeCDD+79LfuCRGO772ne0KEJ6/8pHtCu88uPdQ9\n",
       "IcLW1avdEyK8svda94R2HicAAAAAAAAAiCRoAwAAAAAAABBJ0AYAAAAAAAAgkqANAAAAAAAAQCRB\n",
       "GwAAAAAAAIBIgjYAAAAAAAAAkQRtAAAAAAAAACIJ2gAAAAAAAABEErQBAAAAAAAAiCRoAwAAAAAA\n",
       "ABBJ0AYAAAAAAAAgkqANAAAAAAAAQCRBGwAAAAAAAIBIgjYAAAAAAAAAkQRtAAAAAAAAACIJ2gAA\n",
       "AAAAAABEErQBAAAAAAAAiCRoAwAAAAAAABBJ0AYAAAAAAAAgkqANAAAAAAAAQCRBGwAAAAAAAIBI\n",
       "gjYAAAAAAAAAkQRtAAAAAAAAACIJ2gAAAAAAAABEErQBAAAAAAAAiCRoAwAAAAAAABBJ0AYAAAAA\n",
       "AAAgkqANAAAAAAAAQCRBGwAAAAAAAIBIgjYAAAAAAAAAkQRtAAAAAAAAACIJ2gAAAAAAAABEErQB\n",
       "AAAAAAAAiCRoAwAAAAAAABBJ0AYAAAAAAAAgkqANAAAAAAAAQCRBGwAAAAAAAIBIgjYAAAAAAAAA\n",
       "kQRtAAAAAAAAACIJ2gAAAAAAAABEErQBAAAAAAAAiCRoAwAAAAAAABBJ0AYAAAAAAAAgkqANAAAA\n",
       "AAAAQCRBGwAAAAAAAIBIgjYAAAAAAAAAkQRtAAAAAAAAACINL9WV7g0EWdwddk+IMKmd7gnt/ry2\n",
       "3j0hwh0Ly90TIqxOuhdkePKCH2Jn5nL3BIJcmDnfPSHCHXOuFS9PXuyeEOGemQ92T4jw8tbV7gnt\n",
       "Pv3ob7snRPjVtz7RPSHC8YPuIauqfnzOfeS9Y/cMVVWr/hT4P/+44pnixsm4e0KEo3Vb94QIk4H3\n",
       "0lVV4/3Huye0OzQ/6J6QYXu2e0GElelS94R2vtAGAAAAAAAAIJKgDQAAAAAAAEAkQRsAAAAAAACA\n",
       "SII2AAAAAAAAAJEEbQAAAAAAAAAiCdoAAAAAAAAARBK0AQAAAAAAAIgkaAMAAAAAAAAQSdAGAAAA\n",
       "AAAAIJKgDQAAAAAAAEAkQRsAAAAAAACASII2AAAAAAAAAJEEbQAAAAAAAAAiCdoAAAAAAAAARBK0\n",
       "AQAAAAAAAIgkaAMAAAAAAAAQSdAGAAAAAAAAIJKgDQAAAAAAAEAkQRsAAAAAAACASII2AAAAAAAA\n",
       "AJEEbQAAAAAAAAAiCdoAAAAAAAAARBK0AQAAAAAAAIgkaAMAAAAAAAAQSdAGAAAAAAAAIJKgDQAA\n",
       "AAAAAEAkQRsAAAAAAACASII2AAAAAAAAAJEEbQAAAAAAAAAiCdoAAAAAAAAARBK0AQAAAAAAAIgk\n",
       "aAMAAAAAAAAQSdAGAAAAAAAAIJKgDQAAAAAAAEAkQRsAAAAAAACASII2AAAAAAAAAJEEbQAAAAAA\n",
       "AAAiCdoAAAAAAAAARBK0AQAAAAAAAIgkaAMAAAAAAAAQSdAGAAAAAAAAIJKgDQAAAAAAAEAkQRsA\n",
       "AAAAAACASII2AAAAAAAAAJEEbQAAAAAAAAAiCdoAAAAAAAAARBK0AQAAAAAAAIg0eP/+h/a6R5Dj\n",
       "yNz+7gkR/jD5Y/eEdp9fur97QoTHXz/XPSHCod1x94QIzpFVNywMuidEeGJ9vXtChHuWl7snRDi7\n",
       "5Xb6pemF7gkRRjXXPSHCd27b7J7Q7rvPHemeEOH6hdnuCRFWL7tO8IYz043uCRHcQ77hxMa0e0KE\n",
       "0cAz5jvHvjmrqvrL+cvdEyJcnFnrnkCIxb3F7gkRbt7nvqGqam1ytXtCO1dLAAAAAAAAACIJ2gAA\n",
       "AAAAAABEErQBAAAAAAAAiCRoAwAAAAAAABBJ0AYAAAAAAAAgkqANAAAAAAAAQCRBGwAAAAAAAIBI\n",
       "gjYAAAAAAAAAkQRtAAAAAAAAACIJ2gAAAAAAAABEErQBAAAAAAAAiCRoAwAAAAAAABBJ0AYAAAAA\n",
       "AAAgkqANAAAAAAAAQCRBGwAAAAAAAIBIgjYAAAAAAAAAkQRtAAAAAAAAACIJ2gAAAAAAAABEErQB\n",
       "AAAAAAAAiCRoAwAAAAAAABBJ0AYAAAAAAAAgkqANAAAAAAAAQCRBGwAAAAAAAIBIgjYAAAAAAAAA\n",
       "kQRtAAAAAAAAACIJ2gAAAAAAAABEErQBAAAAAAAAiCRoAwAAAAAAABBJ0AYAAAAAAAAgkqANAAAA\n",
       "AAAAQCRBGwAAAAAAAIBIgjYAAAAAAAAAkQRtAAAAAAAAACIJ2gAAAAAAAABEErQBAAAAAAAAiCRo\n",
       "AwAAAAAAABBJ0AYAAAAAAAAgkqANAAAAAAAAQCRBGwAAAAAAAIBIgjYAAAAAAAAAkQRtAAAAAAAA\n",
       "ACIJ2gAAAAAAAABEErQBAAAAAAAAiCRoAwAAAAAAABBJ0AYAAAAAAAAgkqANAAAAAAAAQCRBGwAA\n",
       "AAAAAIBIwyNz+7s3EOT4cveCDDft3t89od14dLV7QoTNnTd1T4gw2d3rnhDhpemF7gnt1taXuidE\n",
       "eHXmbPeECE+/Ntc9IcLtBw90T2j31Nar3RMiPPUZ14mqqk/94o7uCe3uWprtnhBhZ7d7QYbF4aB7\n",
       "QoSRw6Jemu50T4hwdsvzZVXV0cVh94QIv9s61T2h3eTijd0TIhzb77mqqmpzqtdUVZ2ZbnRPaLdU\n",
       "+7onRBjPdy/IMJp1M+0LbQAAAAAAAAAiCdoAAAAAAAAARBK0AQAAAAAAAIgkaAMAAAAAAAAQSdAG\n",
       "AAAAAAAAIJKgDQAAAAAAAEAkQRsAAAAAAACASII2AAAAAAAAAJEEbQAAAAAAAAAiCdoAAAAAAAAA\n",
       "RBK0AQAAAAAAAIgkaAMAAAAAAAAQSdAGAAAAAAAAIJKgDQAAAAAAAEAkQRsAAAAAAACASII2AAAA\n",
       "AAAAAJEEbQAAAAAAAAAiCdoAAAAAAAAARBK0AQAAAAAAAIgkaAMAAAAAAAAQSdAGAAAAAAAAIJKg\n",
       "DQAAAAAAAEAkQRsAAAAAAACASII2AAAAAAAAAJEEbQAAAAAAAAAiCdoAAAAAAAAARBK0AQAAAAAA\n",
       "AIgkaAMAAAAAAAAQSdAGAAAAAAAAIJKgDQAAAAAAAEAkQRsAAAAAAACASII2AAAAAAAAAJEEbQAA\n",
       "AAAAAAAiCdoAAAAAAAAARBK0AQAAAAAAAIgkaAMAAAAAAAAQSdAGAAAAAAAAIJKgDQAAAAAAAEAk\n",
       "QRsAAAAAAACASII2AAAAAAAAAJEEbQAAAAAAAAAiCdoAAAAAAAAARBK0AQAAAAAAAIgkaAMAAAAA\n",
       "AAAQSdAGAAAAAAAAIJKgDQAAAAAAAEAkQRsAAAAAAACASIPPHfzaXvcIchyaH3RPiPD2gzvdE9r9\n",
       "+JX17gkRPrmy0j0hwu8vbHRPiLAyWOieQIj3HJrtnhDh9CX3DVVVj+080z2h3ckvn+2eEOGWH76t\n",
       "e0KEQ7tHuie0e7le7J4Q4fp6R/eECNcNrumeEOH5wYnuCe3etus6UVV1cuZk94QIR3Zv6J4Q4d7x\n",
       "cveEds+sbXdPiHDneL57QoSzW90LMqztTLsntDt+cNg9IcKvL53qnhDhLbvXd09o5wttAAAAAAAA\n",
       "ACIJ2gAAAAAAAABEErQBAAAAAAAAiCRoAwAAAAAAABBJ0AYAAAAAAAAgkqANAAAAAAAAQCRBGwAA\n",
       "AAAAAIBIgjYAAAAAAAAAkQRtAAAAAAAAACIJ2gAAAAAAAABEErQBAAAAAAAAiCRoAwAAAAAAABBJ\n",
       "0AYAAAAAAAAgkqANAAAAAAAAQCRBGwAAAAAAAIBIgjYAAAAAAAAAkQRtAAAAAAAAACIJ2gAAAAAA\n",
       "AABEErQBAAAAAAAAiCRoAwAAAAAAABBJ0AYAAAAAAAAgkqANAAAAAAAAQCRBGwAAAAAAAIBIgjYA\n",
       "AAAAAAAAkQRtAAAAAAAAACIJ2gAAAAAAAABEErQBAAAAAAAAiCRoAwAAAAAAABBJ0AYAAAAAAAAg\n",
       "kqANAAAAAAAAQCRBGwAAAAAAAIBIgjYAAAAAAAAAkQRtAAAAAAAAACIJ2gAAAAAAAABEErQBAAAA\n",
       "AAAAiCRoAwAAAAAAABBJ0AYAAAAAAAAgkqANAAAAAAAAQCRBGwAAAAAAAIBIgjYAAAAAAAAAkQRt\n",
       "AAAAAAAAACIJ2gAAAAAAAABEErQBAAAAAAAAiCRoAwAAAAAAABBJ0AYAAAAAAAAgkqANAAAAAAAA\n",
       "QCRBGwAAAAAAAIBIgy8d+vpe9why/G1yqntChHfNHO2e0O74cvcCkhzet9M9IcKPzm10T2g3qrnu\n",
       "CREuzJzvnhDhU0s3dU+I8Mhdf++e0O4Df9rtnhDhwcU7uydEWL3sEfPQ/KB7QoRNt5BVVTWe716Q\n",
       "YeSTijq75fxY5Rz5P4+/fq57QoTNwVr3hHb3jW7tnhBhNNu9IMOc62VVVR3e5xnz9/++0j0hwhff\n",
       "7KCoqhrPb3dPaOcvAQAAAAAAAIBIgjYAAAAAAAAAkQRtAAAAAAAAACIJ2gAAAAAAAABEErQBAAAA\n",
       "AAAAiCRoAwAAAAAAABBJ0AYAAAAAAAAgkqANAAAAAAAAQCRBGwAAAAAAAIBIgjYAAAAAAAAAkQRt\n",
       "AAAAAAAAACIJ2gAAAAAAAABEErQBAAAAAAAAiCRoAwAAAAAAABBJ0AYAAAAAAAAgkqANAAAAAAAA\n",
       "QCRBGwAAAAAAAIBIgjYAAAAAAAAAkQRtAAAAAAAAACIJ2gAAAAAAAABEErQBAAAAAAAAiCRoAwAA\n",
       "AAAAABBJ0AYAAAAAAAAgkqANAAAAAAAAQCRBGwAAAAAAAIBIgjYAAAAAAAAAkQRtAAAAAAAAACIJ\n",
       "2gAAAAAAAABEErQBAAAAAAAAiCRoAwAAAAAAABBJ0AYAAAAAAAAgkqANAAAAAAAAQCRBGwAAAAAA\n",
       "AIBIgjYAAAAAAAAAkQRtAAAAAAAAACIJ2gAAAAAAAABEErQBAAAAAAAAiCRoAwAAAAAAABBJ0AYA\n",
       "AAAAAAAgkqANAAAAAAAAQCRBGwAAAAAAAIBIgjYAAAAAAAAAkQRtAAAAAAAAACIJ2gAAAAAAAABE\n",
       "ErQBAAAAAAAAiCRoAwAAAAAAABBJ0AYAAAAAAAAg0vDw/u4JJFm5cm33hAg3LA26J7T7zYXz3RMi\n",
       "3DxyTFRVrU1G3RMiHBuudE9oN5pxfqyqWprs654Q4eF3Pds9IcIPnn5394R29811L8jwz43XuydE\n",
       "uOuaA90T2v360qnuCRFWdt1LV1Udq+XuCRFWJ9vdE9pdqivdEyIsDh0TVVXX7TlHVlUtDo50T2g3\n",
       "nu9ekOGJ9fXuCRG+cqOHq6qq1SsOjJVZv0FV1enN2e4JESYb3kX6QhsAAAAAAACASII2AAAAAAAA\n",
       "AJEEbQAAAAAAAAAiCdoAAAAAAAAARBK0AQAAAAAAAIgkaAMAAAAAAAAQSdAGAAAAAAAAIJKgDQAA\n",
       "AAAAAEAkQRsAAAAAAACASII2AAAAAAAAAJEEbQAAAAAAAAAiCdoAAAAAAAAARBK0AQAAAAAAAIgk\n",
       "aAMAAAAAAAAQSdAGAAAAAAAAIJKgDQAAAAAAAEAkQRsAAAAAAACASII2AAAAAAAAAJEEbQAAAAAA\n",
       "AAAiCdoAAAAAAAAARBK0AQAAAAAAAIgkaAMAAAAAAAAQSdAGAAAAAAAAIJKgDQAAAAAAAEAkQRsA\n",
       "AAAAAACASII2AAAAAAAAAJEEbQAAAAAAAAAiCdoAAAAAAAAARBK0AQAAAAAAAIgkaAMAAAAAAAAQ\n",
       "SdAGAAAAAAAAIJKgDQAAAAAAAEAkQRsAAAAAAACASII2AAAAAAAAAJEEbQAAAAAAAAAiCdoAAAAA\n",
       "AAAARBK0AQAAAAAAAIgkaAMAAAAAAAAQSdAGAAAAAAAAIJKgDQAAAAAAAEAkQRsAAAAAAACASII2\n",
       "AAAAAAAAAJEEbQAAAAAAAAAiCdoAAAAAAAAARBK0AQAAAAAAAIgkaAMAAAAAAAAQSdAGAAAAAAAA\n",
       "INLw2dem3RsIct3MYvcEQhwbrnRPiLA4170gw8i/P1VV1as7l7sntLvrmgPdEyJ880PPd0+I8PAf\n",
       "b+meEOFfM6e6J7T7wvho94QIj09Pd0+IMFm/oXtCu5W6tnsCQbamV7snRBgNZrsntLvn4HL3hAgL\n",
       "w73uCREem5zsnhDh7hnPFH9eP989IcKovISrqnrmovcuVVWLw+4F/Rb8BlVVdWLdvXRV1cm9V7sn\n",
       "tJMoAAAAAAAAAIgkaAMAAAAAAAAQSdAGAAAAAAAAIJKgDQAAAAAAAEAkQRsAAAAAAACASII2AAAA\n",
       "AAAAAJEEbQAAAAAAAAAiCdoAAAAAAAAARBK0AQAAAAAAAIgkaAMAAAAAAAAQSdAGAAAAAAAAIJKg\n",
       "DQAAAAAAAEAkQRsAAAAAAACASII2AAAAAAAAAJEEbQAAAAAAAAAiCdoAAAAAAAAARBK0AQAAAAAA\n",
       "AIgkaAMAAAAAAAAQSdAGAAAAAAAAIJKgDQAAAAAAAEAkQRv+2769/Hp+13Uc//ym55zpzJleDlM7\n",
       "HQoIbSEVAxEBTY1RBCsGcAMLTVAXSEzEEGM0JLrRFSYaEhMWumDXhfECLmi8h2jVGLFGvEBqgEkU\n",
       "hl7sdFpnhumcyxwXE+Kf8H4uHo+/4JWT7/f3vTzPFwAAAAAAAEgStAEAAAAAAABIErQBAAAAAAAA\n",
       "SBK0AQAAAAAAAEgStAEAAAAAAABIErQBAAAAAAAASBK0AQAAAAAAAEgStAEAAAAAAABIErQBAAAA\n",
       "AAAASBK0AQAAAAAAAEgStAEAAAAAAABIErQBAAAAAAAASBK0AQAAAAAAAEgStAEAAAAAAABIErQB\n",
       "AAAAAAAASBK0AQAAAAAAAEgStAEAAAAAAABIErQBAAAAAAAASBK0AQAAAAAAAEgStAEAAAAAAABI\n",
       "ErQBAAAAAAAASBK0AQAAAAAAAEgStAEAAAAAAABIErQBAAAAAAAASBK0AQAAAAAAAEgStAEAAAAA\n",
       "AABIErQBAAAAAAAASNq8e/cjx9Mj6NjZbKYnJFw6ujE9YdwLJy5PT0g4f3zP9ISEJ28+MT0h4VfO\n",
       "v3N6wrif/J5/nJ6Q8Iknvm96QsKz16cXNHxl/6XpCePObnanJyTsHx9NT0h4810npyeM+/SV/5ie\n",
       "kLC9Tk1PSDh/dH56QsJDp05PTyDinJ+GtdZaT73kvmGttXa3bpueMO7M9vSChn2nxFprrb/d/+r0\n",
       "hIR3nXpwesK4r17TKNZa64bn7LXWWq856V7aF9oAAAAAAAAAJAnaAAAAAAAAACQJ2gAAAAAAAAAk\n",
       "CdoAAAAAAAAAJAnaAAAAAAAAACQJ2gAAAAAAAAAkCdoAAAAAAAAAJAnaAAAAAAAAACQJ2gAAAAAA\n",
       "AAAkCdoAAAAAAAAAJAnaAAAAAAAAACQJ2gAAAAAAAAAkCdoAAAAAAAAAJAnaAAAAAAAAACQJ2gAA\n",
       "AAAAAAAkCdoAAAAAAAAAJAnaAAAAAAAAACQJ2gAAAAAAAAAkCdoAAAAAAAAAJAnaAAAAAAAAACQJ\n",
       "2gAAAAAAAAAkCdoAAAAAAAAAJAnaAAAAAAAAACQJ2gAAAAAAAAAkCdoAAAAAAAAAJAnaAAAAAAAA\n",
       "ACQJ2gAAAAAAAAAkCdoAAAAAAAAAJAnaAAAAAAAAACQJ2gAAAAAAAAAkCdoAAAAAAAAAJAnaAAAA\n",
       "AAAAACQJ2gAAAAAAAAAkCdoAAAAAAAAAJAnaAAAAAAAAACQJ2gAAAAAAAAAkCdoAAAAAAAAAJAna\n",
       "AAAAAAAAACQJ2gAAAAAAAAAkCdoAAAAAAAAAJAnaAAAAAAAAACQJ2gAAAAAAAAAkCdoAAAAAAAAA\n",
       "JAnaAAAAAAAAACQJ2gAAAAAAAAAkCdoAAAAAAAAAJAnaAAAAAAAAACRtXTq+Nr2BkLefuWt6QsKf\n",
       "X3p8esK4h3feOT0h4cp6eXpCwj1bD0xPSPjYhUemJ4z7TYfCWmutf3rxm9MTEu7bPjU9IWF/HUxP\n",
       "IOLSujI9IeFr13amJ4x7/c3XT09IeOSsY2GttT7zwjemJyS8atd9w298/VPTExL+6g3vmZ6QsH3i\n",
       "ldMTIo6nB4xznbjly9c/Nz0h4YN3/9T0hIS/++bF6Qnjzq97pick7G+8c1lrrTPb0wvm+UIbAAAA\n",
       "AAAAgCRBGwAAAAAAAIAkQRsAAAAAAACAJEEbAAAAAAAAgCRBGwAAAAAAAIAkQRsAAAAAAACAJEEb\n",
       "AAAAAAAAgCRBGwAAAAAAAIAkQRsAAAAAAACAJEEbAAAAAAAAgCRBGwAAAAAAAIAkQRsAAAAAAACA\n",
       "JEEbAAAAAAAAgCRBGwAAAAAAAIAkQRsAAAAAAACAJEEbAAAAAAAAgCRBGwAAAAAAAIAkQRsAAAAA\n",
       "AACAJEEbAAAAAAAAgCRBGwAAAAAAAIAkQRsAAAAAAACAJEEbAAAAAAAAgCRBGwAAAAAAAIAkQRsA\n",
       "AAAAAACAJEEbAAAAAAAAgCRBGwAAAAAAAIAkQRsAAAAAAACAJEEbAAAAAAAAgCRBGwAAAAAAAIAk\n",
       "QRsAAAAAAACAJEEbAAAAAAAAgCRBGwAAAAAAAIAkQRsAAAAAAACAJEEbAAAAAAAAgCRBGwAAAAAA\n",
       "AIAkQRsAAAAAAACAJEEbAAAAAAAAgCRBGwAAAAAAAIAkQRsAAAAAAACAJEEbAAAAAAAAgCRBGwAA\n",
       "AAAAAIAkQRsAAAAAAACAJEEbAAAAAAAAgCRBGwAAAAAAAIAkQRsAAAAAAACAJEEbAAAAAAAAgCRB\n",
       "GwAAAAAAAICkzcdf9/PH0yPo+O3n/mV6QsJH7vnu6QnjdreOpick/P7T35yekPDXv/AX0xMS3vRJ\n",
       "vw3PH16YnpDwob1Hpyck7N+cXtDw8J370xPGPXbx+vSEhNds3Tk9IeGZA8fDyc1t0xMIefXtJ6cn\n",
       "JLhvWOvyweH0hIRXn96anpDw+WvPT09IeGjr7PSEcV85vDQ9IcGxcMuZrc30hIRX7cpW/3DJu4a1\n",
       "1nrPed/lrrXWzgnnhCMBAAAAAAAAgCRBGwAAAAAAAIAkQRsAAAAAAACAJEEbAAAAAAAAgCRBGwAA\n",
       "AAAAAIAkQRsAAAAAAACAJEEbAAAAAAAAgCRBGwAAAAAAAIAkQRsAAAAAAACAJEEbAAAAAAAAgCRB\n",
       "GwAAAAAAAIAkQRsAAAAAAACAJEEbAAAAAAAAgCRBGwAAAAAAAIAkQRsAAAAAAACAJEEbAAAAAAAA\n",
       "gCRBGwAAAAAAAIAkQRsAAAAAAACAJEEbAAAAAAAAgCRBGwAAAAAAAIAkQRsAAAAAAACAJEEbAAAA\n",
       "AAAAgCRBGwAAAAAAAIAkQRsAAAAAAACAJEEbAAAAAAAAgCRBGwAAAAAAAIAkQRsAAAAAAACAJEEb\n",
       "AAAAAAAAgCRBGwAAAAAAAIAkQRsAAAAAAACAJEEbAAAAAAAAgCRBGwAAAAAAAIAkQRsAAAAAAACA\n",
       "JEEbAAAAAAAAgCRBGwAAAAAAAIAkQRsAAAAAAACAJEEbAAAAAAAAgCRBGwAAAAAAAIAkQRsAAAAA\n",
       "AACAJEEbAAAAAAAAgCRBGwAAAAAAAIAkQRsAAAAAAACAJEEbAAAAAAAAgCRBGwAAAAAAAIAkQRsA\n",
       "AAAAAACAJEEbAAAAAAAAgCRBGwAAAAAAAICkzcO7HzieHkHHd23fPz0h4dyp6QXznvrfw+kJCX/8\n",
       "y38wPSHhB37rvdMTiLhj3T49IeHB3ZPTExKuHkwvaHjgDrfT3HLhymZ6QsIXDi5OTxj3/ac9V63l\n",
       "OvEtzolbvn2dm54wbmfjOrHWWg/ccdv0hATvXW754uap6Qnj3rK+Y3pCwt6O34a1vJf+lr2do+kJ\n",
       "4/7tsnNirbX2b3rnstZarzjpPtIX2gAAAAAAAAAkCdoAAAAAAAAAJAnaAAAAAAAAACQJ2gAAAAAA\n",
       "AAAkCdoAAAAAAAAAJAnaAAAAAAAAACQJ2gAAAAAAAAAkCdoAAAAAAAAAJAnaAAAAAAAAACQJ2gAA\n",
       "AAAAAAAkCdoAAAAAAAAAJAnaAAAAAAAAACQJ2gAAAAAAAAAkCdoAAAAAAAAAJAnaAAAAAAAAACQJ\n",
       "2gAAAAAAAAAkCdoAAAAAAAAAJAnaAAAAAAAAACQJ2gAAAAAAAAAkCdoAAAAAAAAAJAnaAAAAAAAA\n",
       "ACQJ2gAAAAAAAAAkCdoAAAAAAAAAJAnaAAAAAAAAACQJ2gAAAAAAAAAkCdoAAAAAAAAAJAnaAAAA\n",
       "AAAAACQJ2gAAAAAAAAAkCdoAAAAA8TVrBwAADW1JREFUAAAAJAnaAAAAAAAAACQJ2gAAAAAAAAAk\n",
       "CdoAAAAAAAAAJAnaAAAAAAAAACQJ2gAAAAAAAAAkCdoAAAAAAAAAJAnaAAAAAAAAACQJ2gAAAAAA\n",
       "AAAkCdoAAAAAAAAAJAnaAAAAAAAAACQJ2gAAAAAAAAAkCdoAAAAAAAAAJAnaAAAAAAAAACQJ2gAA\n",
       "AAAAAAAkCdoAAAAAAAAAJAnaAAAAAAAAACQJ2gAAAAAAAAAkCdoAAAAAAAAAJG2dP75negMhZ7an\n",
       "FzTsbh1PTxj3+Cc+NT0h4X2/9OHpCQk/ft45sdZajz390vSEcU9vrk5PSNi78crpCQlfObw0PSHh\n",
       "gXV2esK4xy85FtZa6yfO7U1PSDhz9f7pCeO+cM09w1pr/dDeXdMTEr7w4vSChr3trekJ457dvzE9\n",
       "IeHClekFDfvHR9MTEr5zPTw9Yd5mekDDrvfSa621PvvixekJCW+8zXuXLx05FtZa61df65lirbX+\n",
       "8L9OTU8Y5wttAAAAAAAAAJIEbQAAAAAAAACSBG0AAAAAAAAAkgRtAAAAAAAAAJIEbQAAAAAAAACS\n",
       "BG0AAAAAAAAAkgRtAAAAAAAAAJIEbQAAAAAAAACSBG0AAAAAAAAAkgRtAAAAAAAAAJIEbQAAAAAA\n",
       "AACSBG0AAAAAAAAAkgRtAAAAAAAAAJIEbQAAAAAAAACSBG0AAAAAAAAAkgRtAAAAAAAAAJIEbQAA\n",
       "AAAAAACSBG0AAAAAAAAAkgRtAAAAAAAAAJIEbQAAAAAAAACSBG0AAAAAAAAAkgRtAAAAAAAAAJIE\n",
       "bQAAAAAAAACSBG0AAAAAAAAAkgRtAAAAAAAAAJIEbQAAAAAAAACSBG0AAAAAAAAAkgRtAAAAAAAA\n",
       "AJIEbQAAAAAAAACSBG0AAAAAAAAAkgRtAAAAAAAAAJIEbQAAAAAAAACSBG0AAAAAAAAAkgRtAAAA\n",
       "AAAAAJIEbQAAAAAAAACSBG0AAAAAAAAAkgRtAAAAAAAAAJIEbQAAAAAAAACSBG0AAAAAAAAAkgRt\n",
       "AAAAAAAAAJIEbQAAAAAAAACSBG0AAAAAAAAAkgRtAAAAAAAAAJIEbQAAAAAAAACSBG0AAAAAAAAA\n",
       "kgRtAAAAAAAAAJIEbQAAAAAAAACSNu+/86PH0yPouHZ0ND0h4bN/+rnpCeN+/YOPTk9IuHa4mZ6Q\n",
       "sLdzc3pCwscv/tH0hHFv237f9ISEt999enoCIV+75nb6kW87nJ6Q8NzL29MTEn730l9OTxj3uhNv\n",
       "mZ6QsLOcE2uttXPs77DWWk9t/nl6wrhfu/97pyckPHbx+vSEhP11MD0h4aGts9MTxnkfe8ve9tb0\n",
       "hIRzp6YXNLzqtN/IJ571Pepaa731rPfza621f9PfwRkBAAAAAAAAQJKgDQAAAAAAAECSoA0AAAAA\n",
       "AABAkqANAAAAAAAAQJKgDQAAAAAAAECSoA0AAAAAAABAkqANAAAAAAAAQJKgDQAAAAAAAECSoA0A\n",
       "AAAAAABAkqANAAAAAAAAQJKgDQAAAAAAAECSoA0AAAAAAABAkqANAAAAAAAAQJKgDQAAAAAAAECS\n",
       "oA0AAAAAAABAkqANAAAAAAAAQJKgDQAAAAAAAECSoA0AAAAAAABAkqANAAAAAAAAQJKgDQAAAAAA\n",
       "AECSoA0AAAAAAABAkqANAAAAAAAAQJKgDQAAAAAAAECSoA0AAAAAAABAkqANAAAAAAAAQJKgDQAA\n",
       "AAAAAECSoA0AAAAAAABAkqANAAAAAAAAQJKgDQAAAAAAAECSoA0AAAAAAABAkqANAAAAAAAAQJKg\n",
       "DQAAAAAAAECSoA0AAAAAAABAkqANAAAAAAAAQJKgDQAAAAAAAECSoA0AAAAAAABAkqANAAAAAAAA\n",
       "QJKgDQAAAAAAAECSoA0AAAAAAABAkqANAAAAAAAAQJKgDQAAAAAAAECSoA0AAAAAAABAkqANAAAA\n",
       "AAAAQJKgDQAAAAAAAECSoA0AAAAAAABAkqANAAAAAAAAQJKgDQAAAAAAAEDSZq2t4+kRdPzrj7xj\n",
       "ekLCx/7+DdMTxr369Nb0hISrB9MLGj538OT0hIQPnHnb9IRxX792ND2BkKdvXp2ekHDpxPPTE8a9\n",
       "69SD0xMS7r3do9Vaaz310vSCeQc3b05PSNg+4X/o11rr8uH+9ISEK+vl6Qnjdo63pyckvP3u09MT\n",
       "Ei5c8Wy11lp7O7dNTxj3+RsXpyckvLCenp6Q8NDNN05PSHjhxOXpCeNev7lvekLC/rHnbG7xdAkA\n",
       "AAAAAABAkqANAAAAAAAAQJKgDQAAAAAAAECSoA0AAAAAAABAkqANAAAAAAAAQJKgDQAAAAAAAECS\n",
       "oA0AAAAAAABAkqANAAAAAAAAQJKgDQAAAAAAAECSoA0AAAAAAABAkqANAAAAAAAAQJKgDQAAAAAA\n",
       "AECSoA0AAAAAAABAkqANAAAAAAAAQJKgDQAAAAAAAECSoA0AAAAAAABAkqANAAAAAAAAQJKgDQAA\n",
       "AAAAAECSoA0AAAAAAABAkqANAAAAAAAAQJKgDQAAAAAAAECSoA0AAAAAAABAkqANAAAAAAAAQJKg\n",
       "DQAAAAAAAECSoA0AAAAAAABAkqANAAAAAAAAQJKgDQAAAAAAAECSoA0AAAAAAABAkqANAAAAAAAA\n",
       "QJKgDQAAAAAAAECSoA0AAAAAAABAkqANAAAAAAAAQJKgDQAAAAAAAECSoA0AAAAAAABAkqANAAAA\n",
       "AAAAQJKgDQAAAAAAAECSoA0AAAAAAABAkqANAAAAAAAAQJKgDQAAAAAAAECSoA0AAAAAAABAkqAN\n",
       "AAAAAAAAQJKgDQAAAAAAAECSoA0AAAAAAABAkqANAAAAAAAAQJKgDQAAAAAAAECSoA0AAAAAAABA\n",
       "kqANAAAAAAAAQNLm3bsfOZ4eQccP3ruZnpBwef+26Qnjnrx8Y3pCwo3jo+kJCe+459T0hIRztx9M\n",
       "Txj3O9/4n+kJCRePvjQ9IeFDe49OT0i4cMW1Ym/HvdNaa1099Gi11lqXD/enJ4z74ubfpyck/OjJ\n",
       "t01PSNjdnl7QcGZresG8Z69PL2j4sxtPTk9I+PAr3jo9IeHBM06Mn/3PT09PSLjr9tdOT0i4fnh5\n",
       "ekLCD++8d3rCuC8fPzM9IeFn7rt3ekLChaseKnyhDQAAAAAAAECSoA0AAAAAAABAkqANAAAAAAAA\n",
       "QJKgDQAAAAAAAECSoA0AAAAAAABAkqANAAAAAAAAQJKgDQAAAAAAAECSoA0AAAAAAABAkqANAAAA\n",
       "AAAAQJKgDQAAAAAAAECSoA0AAAAAAABAkqANAAAAAAAAQJKgDQAAAAAAAECSoA0AAAAAAABAkqAN\n",
       "AAAAAAAAQJKgDQAAAAAAAECSoA0AAAAAAABAkqANAAAAAAAAQJKgDQAAAAAAAECSoA0AAAAAAABA\n",
       "kqANAAAAAAAAQJKgDQAAAAAAAECSoA0AAAAAAABAkqANAAAAAAAAQJKgDQAAAAAAAECSoA0AAAAA\n",
       "AABAkqANAAAAAAAAQJKgDQAAAAAAAECSoA0AAAAAAABAkqANAAAAAAAAQJKgDQAAAAAAAECSoA0A\n",
       "AAAAAABAkqANAAAAAAAAQJKgDQAAAAAAAECSoA0AAAAAAABAkqANAAAAAAAAQJKgDQAAAAAAAECS\n",
       "oA0AAAAAAABAkqANAAAAAAAAQJKgDQAAAAAAAECSoA0AAAAAAABAkqANAAAAAAAAQJKgDQAAAAAA\n",
       "AECSoA0AAAAAAABAkqANAAAAAAAAQJKgDQAAAAAAAECSoA0AAAAAAABA0ubyRx84nh5Bx94n/3t6\n",
       "QsL77/y56QnjLh/uT09IeHrz/PSEhJ++977pCQmfefbq9IRxZze70xMIefPdW9MTEp69Pr1g3tVD\n",
       "jxT8v2cOnBT7m4PpCQl3rNunJyQ8es71cq21/uY51wpueeLgT6YnJPziuR+bnpDw3Mub6Qnjdl0m\n",
       "1lpr7fj0bq211t7O0fSEhCcvOSAObt6cnpDwpj3Hwlpr/d7lC9MTxjkSAAAAAAAAAEgStAEAAAAA\n",
       "AABIErQBAAAAAAAASBK0AQAAAAAAAEgStAEAAAAAAABIErQBAAAAAAAASBK0AQAAAAAAAEgStAEA\n",
       "AAAAAABIErQBAAAAAAAASBK0AQAAAAAAAEgStAEAAAAAAABIErQBAAAAAAAASBK0AQAAAAAAAEgS\n",
       "tAEAAAAAAABIErQBAAAAAAAASBK0AQAAAAAAAEgStAEAAAAAAABIErQBAAAAAAAASBK0AQAAAAAA\n",
       "AEgStAEAAAAAAABIErQBAAAAAAAASBK0AQAAAAAAAEgStAEAAAAAAABIErQBAAAAAAAASBK0AQAA\n",
       "AAAAAEgStAEAAAAAAABIErQBAAAAAAAASBK0AQAAAAAAAEgStAEAAAAAAABIErQBAAAAAAAASBK0\n",
       "AQAAAAAAAEgStAEAAAAAAABIErQBAAAAAAAASBK0AQAAAAAAAEgStAEAAAAAAABIErQBAAAAAAAA\n",
       "SBK0AQAAAAAAAEgStAEAAAAAAABIErQBAAAAAAAASBK0AQAAAAAAAEgStAEAAAAAAABIErQBAAAA\n",
       "AAAASBK0AQAAAAAAAEgStAEAAAAAAABIErQBAAAAAAAASBK0AQAAAAAAAEj6P8vJqz5Rn9zGAAAA\n",
       "AElFTkSuQmCC\n",
       "\" transform=\"translate(141, 47)\"/>\n",
       "</g>\n",
       "<defs>\n",
       "  <clipPath id=\"clip213\">\n",
       "    <rect x=\"2160\" y=\"47\" width=\"73\" height=\"1440\"/>\n",
       "  </clipPath>\n",
       "</defs>\n",
       "<g clip-path=\"url(#clip213)\">\n",
       "<image width=\"72\" height=\"1439\" xlink:href=\"data:image/png;base64,\n",
       "iVBORw0KGgoAAAANSUhEUgAAAEgAAAWfCAYAAAAI7rB3AAAMWUlEQVR4nO3dwY0rRxAFwaZQ/lsh\n",
       "L6XfLQtUeSQPERYsEg8c9MyQ+/n3/v0O/+uvb/8Bv06gIFAQKAgU5r5/v/03/DQLCgIFgYJAQaAw\n",
       "7/359t/w0ywoCBQECgIFR41gQUGgIFAQKAgU5rmKrSwoCBQECgIFgcK86yq2saAgUBAoCBQcNYIF\n",
       "BYGCQEGgIFBwFQsWFAQKAgWBgvtBwYKCQEGgIFAQKMxx1FhZUBAoCBQECgIFN8yCBQWBgkBBoDDH\n",
       "DbOVBQWBgkBBoCBQmHP/+fbf8NMsKAgUBAoCBYGCxz7BgoJAQaAgUHDDLFhQECgIFAQKAgVXsWBB\n",
       "QaAgUBAouB8ULCgIFAQKAgWBwnwcNVYWFAQKAgWBgkBhzvWfWTYWFAQKAgWBgqNGsKAgUBAoCBQE\n",
       "Co4awYKCQEGgIFAQKHjDLFhQECgIFAQK83HUWFlQECgIFAQKAgXvSQcLCgIFgYJAwVEjWFAQKAgU\n",
       "BAoCBc/mgwUFgYJAQaAgUHAWCxYUBAoCBYGCo0awoCBQECgIFAQKjhrBgoJAQaAgUBAozLn323/D\n",
       "T7OgIFAQKAgUHDWCBQWBgkBBoCBQ8NgnWFAQKAgUBAo+pIMFBYGCQEGgIFCYj6caKwsKAgWBgkBB\n",
       "oOAsFiwoCBQECgIFL1AFCwoCBYGCQEGg4IZZsKAgUBAoCBTcDwoWFAQKAgWBgkDBDbNgQUGgIFAQ\n",
       "KAgUXMWCBQWBgkBBoOB788GCgkBBoCBQECg4agQLCgIFgYJAQaDgKhYsKAgUBAoCBR/SwYKCQEGg\n",
       "IFAQKLiKBQsKAgWBgkBhzvMhvbGgIFAQKAgUBAqOGsGCgkBBoCBQECi4igULCgIFgYJAwYd0sKAg\n",
       "UBAoCBQECnPu+/bf8NMsKAgUBAoCBYGCs1iwoCBQECgIFBw1ggUFgYJAQaAgUHDUCBYUBAoCBYGC\n",
       "o0awoCBQECgIFAQKc5w0VhYUBAoCBYGCQGHOcxbbWFAQKAgUBAqOGsGCgkBBoCBQECi4igULCgIF\n",
       "gYJAQaAwfohzZ0FBoCBQECg4agQLCgIFgYJAQaDgKhYsKAgUBAoChTn38+2/4adZUBAoCBQECgKF\n",
       "ec9VbGNBQaAgUBAoCBTcMAsWFAQKAgWBghtmwYKCQEGgIFAQKMy7Gm3UCQIFgYJAwVEjWFAQKAgU\n",
       "BAoChTmeza8sKAgUBAoCBYHCPGexlQUFgYJAQaAwx1ONlTpBoCBQECgIFBw1ggUFgYJAQaAgUPDY\n",
       "J1hQECgIFAQKXgMO6gSBgkBBoCBQ8J50sKAgUBAoCBQ81QgWFAQKAgWBgkBh3tNoo04QKAgUBAoC\n",
       "BTfMggUFgYJAQaDghlmwoCBQECgIFAQKc9wwW6kTBAoCBYGCQMFZLFhQECgIFAQKPqSDBQWBgkBB\n",
       "oCBQ8L35YEFBoCBQECj43nxQJwgUBAoCBYHCPEeNlQUFgYJAQaAgUPDYJ1hQECgIFAQK/jNLUCcI\n",
       "FAQKAgWBghtmwYKCQEGgIFAQKLhhFiwoCBQECgIFR41gQUGgIFAQKAgUvCcd1AkCBYGCQMFRI1hQ\n",
       "ECgIFAQKAgVPNYIFBYGCQEGgIFBwFgsWFAQKAgWBgn+fFSwoCBQECgIFgYJ/ZRzUCQIFgYJAQaDg\n",
       "hlmwoCBQECgIFDybDxYUBAoCBYGCQMFRI1hQECgIFAQKc31IrywoCBQECgIFgYLvzQd1gkBBoCBQ\n",
       "ECi4YRYsKAgUBAoCBR/SwYKCQEGgIFAQKHjDLFhQECgIFAQKjhrBgoJAQaAgUBAouIoFCwoCBYGC\n",
       "QEGg4NdfgjpBoCBQECjM9VRjZUFBoCBQECgIFNwwCxYUBAoCBYGCQMFVLFhQECgIFAQKPqSDBQWB\n",
       "gkBBoCBQ8BtmwYKCQEGgIFBw1AgWFAQKAgWBgkDBVSxYUBAoCBQECgIFX2YJ6gSBgkBBoODLLMGC\n",
       "gkBBoCBQECi4YRYsKAgUBAoCBYGCq1iwoCBQECgIFLwGHCwoCBQECgIFgYKjRrCgIFAQKAgU5h0f\n",
       "0hsLCgIFgYJAQaDghlmwoCBQECgIFAQKbpgFCwoCBYGCQMFRI1hQECgIFAQKAgVHjWBBQaAgUBAo\n",
       "CBScxYIFBYGCQEGg4KgRLCgIFAQKAgWBgqtYsKAgUBAoCBTm+jLLyoKCQEGgIFAQKDhqBAsKAgWB\n",
       "gkBBoODZfLCgIFAQKAgU5r1v/wm/zYKCQEGgIFAQKDhqBAsKAgWBgkDBD00GCwoCBYGCQEGg4KgR\n",
       "LCgIFAQKAgWBgjfMggUFgYJAQaDgyyzBgoJAQaAgUBAoeMMsWFAQKAgUBAoCBY99ggUFgYJAQaDg\n",
       "qUawoCBQECgIFAQKHvsECwoCBYGCQMH9oGBBQaAgUBAoCBQ8mw8WFAQKAgWBgkDBDbNgQUGgIFAQ\n",
       "KHg2HywoCBQECgIFgcLcb/8FP86CgkBBoCBQECg4iwULCgIFgYJAwRtmwYKCQEGgIFAQKLhhFiwo\n",
       "CBQECgIF94OCBQWBgkBBoCBQcNQIFhQECgIFgYJAwVksWFAQKAgUBAqezQcLCgIFgYJAQaAwfvxl\n",
       "Z0FBoCBQECgIFJzFggUFgYJAQaDg2XywoCBQECgIFAQKns0HCwoCBYGCQMFRI1hQECgIFAQKAgVH\n",
       "jWBBQaAgUBAoCBTmesVsZUFBoCBQECi4YRYsKAgUBAoCBYGCG2bBgoJAQaAgUHDUCBYUBAoCBYGC\n",
       "QGGepxorCwoCBYGCQEGgMPe4YbaxoCBQECgIFLxAFSwoCBQECgIFgYIfmgwWFAQKAgWBgkDBD00G\n",
       "CwoCBYGCQMGz+WBBQaAgUBAoCBS8Jx0sKAgUBAoCBd84DBYUBAoCBYGCQMFRI1hQECgIFAQKAgXv\n",
       "SQcLCgIFgYJAwWvAwYKCQEGgIFAQKDhqBAsKAgWBgkBBoOA96WBBQaAgUBAo+ImuYEFBoCBQECgI\n",
       "FNwwCxYUBAoCBYGCZ/PBgoJAQaAgUBAoOGoECwoCBYGCQEGg4CwWLCgIFAQKAgVHjWBBQaAgUBAo\n",
       "CBRcxYIFBYGCQEGgIFBwwyxYUBAoCBQECo4awYKCQEGgIFAQKDhqBAsKAgWBgkDBUSNYUBAoCBQE\n",
       "CgIFP9EVLCgIFAQKAgWBgv8vFiwoCBQECgIFN8yCBQWBgkBBoCBQmHdcxjYWFAQKAgWBgkDBWSxY\n",
       "UBAoCBQECp7NBwsKAgWBgkBBoODZfLCgIFAQKAgU3A8KFhQECgIFgYJAwbP5YEFBoCBQECgIFJzF\n",
       "ggUFgYJAQaDgJ7qCBQWBgkBBoCBQmOsVs5UFBYGCQEGg4AWqYEFBoCBQECgIFOY5aqwsKAgUBAoC\n",
       "BYGCs1iwoCBQECgIFDzVCBYUBAoCBYGCQMEbZsGCgkBBoCBQECjM9ZXMlQUFgYJAQaDghlmwoCBQ\n",
       "ECgIFAQKfv0lWFAQKAgUBApeoAoWFAQKAgWBgkDBU41gQUGgIFAQKAgU3DALFhQECgIFgcLc45bZ\n",
       "xoKCQEGgIFAQKLhhFiwoCBQECgIFgYKrWLCgIFAQKAgUPNUIFhQECgIFgYJAwWOfYEFBoCBQECjM\n",
       "/ThqbCwoCBQECgIFgYKjRrCgIFAQKAgUBArzXMVWFhQECgIFgYKjRrCgIFAQKAgUBApzP65iGwsK\n",
       "AgWBgkBBoOAsFiwoCBQECgIFTzWCBQWBgkBBoCBQcNQIFhQECgIFgYIP6WBBQaAgUBAoCBQ8mw8W\n",
       "FAQKAgWBgkBh3vnz7b/hp1lQECgIFAQKbpgFCwoCBYGCQEGg4A2zYEFBoCBQECjMfe4HbSwoCBQE\n",
       "CgIFgYKjRrCgIFAQKAgUBApzPZtfWVAQKAgUBAqOGsGCgkBBoCBQECg4agQLCgIFgYJAQaAw7zmL\n",
       "bSwoCBQECgIFN8yCBQWBgkBBoCBQ8J50sKAgUBAoCBQcNYIFBYGCQEGgIFCY56ixsqAgUBAoCBQE\n",
       "Cs5iwYKCQEGgIFCY6wWqlQUFgYJAQaAgUPCb9sGCgkBBoCBQECj4MkuwoCBQECgIFDzVCBYUBAoC\n",
       "BYGCQMFRI1hQECgIFAQKPqSDBQWBgkBBoCBQ8Gw+WFAQKAgUBAoCBWexYEFBoCBQECjM8Wx+ZUFB\n",
       "oCBQECgIFBw1ggUFgYJAQaAgUPCedLCgIFAQKAgU5jhqrCwoCBQECgIFgYI3zIIFBYGCQEGg4Nl8\n",
       "sKAgUBAoCBQECm6YBQsKAgWBgkBBoDDvvG//DT/NgoJAQaAgUHDDLFhQECgIFAQKAoU5jhorCwoC\n",
       "BYGCQOE/LrLuTX/wFc8AAAAASUVORK5CYII=\n",
       "\" transform=\"translate(2161, 47)\"/>\n",
       "</g>\n",
       "<path clip-path=\"url(#clip210)\" d=\"M 0 0 M2268.76 1361.66 L2298.43 1361.66 L2298.43 1365.6 L2268.76 1365.6 L2268.76 1361.66 Z\" fill=\"#000000\" fill-rule=\"evenodd\" fill-opacity=\"1\" /><path clip-path=\"url(#clip210)\" d=\"M 0 0 M2309.33 1374.56 L2316.97 1374.56 L2316.97 1348.19 L2308.66 1349.86 L2308.66 1345.6 L2316.93 1343.93 L2321.6 1343.93 L2321.6 1374.56 L2329.24 1374.56 L2329.24 1378.49 L2309.33 1378.49 L2309.33 1374.56 Z\" fill=\"#000000\" fill-rule=\"evenodd\" fill-opacity=\"1\" /><path clip-path=\"url(#clip210)\" d=\"M 0 0 M2348.69 1347.01 Q2345.07 1347.01 2343.25 1350.58 Q2341.44 1354.12 2341.44 1361.25 Q2341.44 1368.35 2343.25 1371.92 Q2345.07 1375.46 2348.69 1375.46 Q2352.32 1375.46 2354.13 1371.92 Q2355.95 1368.35 2355.95 1361.25 Q2355.95 1354.12 2354.13 1350.58 Q2352.32 1347.01 2348.69 1347.01 M2348.69 1343.31 Q2354.5 1343.31 2357.55 1347.91 Q2360.63 1352.5 2360.63 1361.25 Q2360.63 1369.97 2357.55 1374.58 Q2354.5 1379.16 2348.69 1379.16 Q2342.88 1379.16 2339.8 1374.58 Q2336.74 1369.97 2336.74 1361.25 Q2336.74 1352.5 2339.8 1347.91 Q2342.88 1343.31 2348.69 1343.31 Z\" fill=\"#000000\" fill-rule=\"evenodd\" fill-opacity=\"1\" /><path clip-path=\"url(#clip210)\" d=\"M 0 0 M2280.7 1144.34 Q2277.09 1144.34 2275.26 1147.9 Q2273.45 1151.44 2273.45 1158.57 Q2273.45 1165.68 2275.26 1169.24 Q2277.09 1172.78 2280.7 1172.78 Q2284.33 1172.78 2286.14 1169.24 Q2287.97 1165.68 2287.97 1158.57 Q2287.97 1151.44 2286.14 1147.9 Q2284.33 1144.34 2280.7 1144.34 M2280.7 1140.63 Q2286.51 1140.63 2289.57 1145.24 Q2292.64 1149.82 2292.64 1158.57 Q2292.64 1167.3 2289.57 1171.91 Q2286.51 1176.49 2280.7 1176.49 Q2274.89 1176.49 2271.81 1171.91 Q2268.76 1167.3 2268.76 1158.57 Q2268.76 1149.82 2271.81 1145.24 Q2274.89 1140.63 2280.7 1140.63 Z\" fill=\"#000000\" fill-rule=\"evenodd\" fill-opacity=\"1\" /><path clip-path=\"url(#clip210)\" d=\"M 0 0 M2269.43 969.206 L2277.07 969.206 L2277.07 942.84 L2268.76 944.507 L2268.76 940.248 L2277.02 938.581 L2281.7 938.581 L2281.7 969.206 L2289.33 969.206 L2289.33 973.141 L2269.43 973.141 L2269.43 969.206 Z\" fill=\"#000000\" fill-rule=\"evenodd\" fill-opacity=\"1\" /><path clip-path=\"url(#clip210)\" d=\"M 0 0 M2308.78 941.66 Q2305.17 941.66 2303.34 945.224 Q2301.53 948.766 2301.53 955.896 Q2301.53 963.002 2303.34 966.567 Q2305.17 970.109 2308.78 970.109 Q2312.41 970.109 2314.22 966.567 Q2316.05 963.002 2316.05 955.896 Q2316.05 948.766 2314.22 945.224 Q2312.41 941.66 2308.78 941.66 M2308.78 937.956 Q2314.59 937.956 2317.64 942.562 Q2320.72 947.146 2320.72 955.896 Q2320.72 964.622 2317.64 969.229 Q2314.59 973.812 2308.78 973.812 Q2302.97 973.812 2299.89 969.229 Q2296.83 964.622 2296.83 955.896 Q2296.83 947.146 2299.89 942.562 Q2302.97 937.956 2308.78 937.956 Z\" fill=\"#000000\" fill-rule=\"evenodd\" fill-opacity=\"1\" /><path clip-path=\"url(#clip210)\" d=\"M 0 0 M2274.38 766.53 L2290.7 766.53 L2290.7 770.465 L2268.76 770.465 L2268.76 766.53 Q2271.42 763.775 2276 759.145 Q2280.61 754.493 2281.79 753.15 Q2284.03 750.627 2284.91 748.891 Q2285.82 747.132 2285.82 745.442 Q2285.82 742.687 2283.87 740.951 Q2281.95 739.215 2278.85 739.215 Q2276.65 739.215 2274.2 739.979 Q2271.77 740.743 2268.99 742.294 L2268.99 737.571 Q2271.81 736.437 2274.27 735.858 Q2276.72 735.28 2278.76 735.28 Q2284.13 735.28 2287.32 737.965 Q2290.52 740.65 2290.52 745.141 Q2290.52 747.27 2289.7 749.192 Q2288.92 751.09 2286.81 753.682 Q2286.23 754.354 2283.13 757.571 Q2280.03 760.766 2274.38 766.53 Z\" fill=\"#000000\" fill-rule=\"evenodd\" fill-opacity=\"1\" /><path clip-path=\"url(#clip210)\" d=\"M 0 0 M2310.51 738.983 Q2306.9 738.983 2305.08 742.548 Q2303.27 746.09 2303.27 753.219 Q2303.27 760.326 2305.08 763.891 Q2306.9 767.432 2310.51 767.432 Q2314.15 767.432 2315.95 763.891 Q2317.78 760.326 2317.78 753.219 Q2317.78 746.09 2315.95 742.548 Q2314.15 738.983 2310.51 738.983 M2310.51 735.28 Q2316.33 735.28 2319.38 739.886 Q2322.46 744.469 2322.46 753.219 Q2322.46 761.946 2319.38 766.553 Q2316.33 771.136 2310.51 771.136 Q2304.7 771.136 2301.63 766.553 Q2298.57 761.946 2298.57 753.219 Q2298.57 744.469 2301.63 739.886 Q2304.7 735.28 2310.51 735.28 Z\" fill=\"#000000\" fill-rule=\"evenodd\" fill-opacity=\"1\" /><path clip-path=\"url(#clip210)\" d=\"M 0 0 M2284.38 549.154 Q2287.74 549.872 2289.61 552.14 Q2291.51 554.409 2291.51 557.742 Q2291.51 562.858 2287.99 565.659 Q2284.47 568.46 2277.99 568.46 Q2275.82 568.46 2273.5 568.02 Q2271.21 567.603 2268.76 566.747 L2268.76 562.233 Q2270.7 563.367 2273.02 563.946 Q2275.33 564.525 2277.85 564.525 Q2282.25 564.525 2284.54 562.789 Q2286.86 561.052 2286.86 557.742 Q2286.86 554.687 2284.7 552.974 Q2282.58 551.238 2278.76 551.238 L2274.73 551.238 L2274.73 547.395 L2278.94 547.395 Q2282.39 547.395 2284.22 546.029 Q2286.05 544.64 2286.05 542.048 Q2286.05 539.386 2284.15 537.974 Q2282.27 536.539 2278.76 536.539 Q2276.83 536.539 2274.64 536.955 Q2272.44 537.372 2269.8 538.252 L2269.8 534.085 Q2272.46 533.344 2274.77 532.974 Q2277.11 532.604 2279.17 532.604 Q2284.5 532.604 2287.6 535.034 Q2290.7 537.441 2290.7 541.562 Q2290.7 544.432 2289.06 546.423 Q2287.41 548.39 2284.38 549.154 Z\" fill=\"#000000\" fill-rule=\"evenodd\" fill-opacity=\"1\" /><path clip-path=\"url(#clip210)\" d=\"M 0 0 M2310.38 536.307 Q2306.76 536.307 2304.94 539.872 Q2303.13 543.414 2303.13 550.543 Q2303.13 557.65 2304.94 561.214 Q2306.76 564.756 2310.38 564.756 Q2314.01 564.756 2315.82 561.214 Q2317.64 557.65 2317.64 550.543 Q2317.64 543.414 2315.82 539.872 Q2314.01 536.307 2310.38 536.307 M2310.38 532.604 Q2316.19 532.604 2319.24 537.21 Q2322.32 541.793 2322.32 550.543 Q2322.32 559.27 2319.24 563.876 Q2316.19 568.46 2310.38 568.46 Q2304.57 568.46 2301.49 563.876 Q2298.43 559.27 2298.43 550.543 Q2298.43 541.793 2301.49 537.21 Q2304.57 532.604 2310.38 532.604 Z\" fill=\"#000000\" fill-rule=\"evenodd\" fill-opacity=\"1\" /><path clip-path=\"url(#clip210)\" d=\"M 0 0 M2284.36 334.626 L2272.55 353.075 L2284.36 353.075 L2284.36 334.626 M2283.13 330.552 L2289.01 330.552 L2289.01 353.075 L2293.94 353.075 L2293.94 356.964 L2289.01 356.964 L2289.01 365.112 L2284.36 365.112 L2284.36 356.964 L2268.76 356.964 L2268.76 352.45 L2283.13 330.552 Z\" fill=\"#000000\" fill-rule=\"evenodd\" fill-opacity=\"1\" /><path clip-path=\"url(#clip210)\" d=\"M 0 0 M2311.67 333.631 Q2308.06 333.631 2306.23 337.196 Q2304.43 340.737 2304.43 347.867 Q2304.43 354.973 2306.23 358.538 Q2308.06 362.08 2311.67 362.08 Q2315.31 362.08 2317.11 358.538 Q2318.94 354.973 2318.94 347.867 Q2318.94 340.737 2317.11 337.196 Q2315.31 333.631 2311.67 333.631 M2311.67 329.927 Q2317.48 329.927 2320.54 334.534 Q2323.62 339.117 2323.62 347.867 Q2323.62 356.594 2320.54 361.2 Q2317.48 365.784 2311.67 365.784 Q2305.86 365.784 2302.78 361.2 Q2299.73 356.594 2299.73 347.867 Q2299.73 339.117 2302.78 334.534 Q2305.86 329.927 2311.67 329.927 Z\" fill=\"#000000\" fill-rule=\"evenodd\" fill-opacity=\"1\" /><path clip-path=\"url(#clip210)\" d=\"M 0 0 M2270.21 127.876 L2288.57 127.876 L2288.57 131.811 L2274.5 131.811 L2274.5 140.283 Q2275.52 139.936 2276.53 139.774 Q2277.55 139.589 2278.57 139.589 Q2284.36 139.589 2287.74 142.76 Q2291.12 145.932 2291.12 151.348 Q2291.12 156.927 2287.64 160.029 Q2284.17 163.107 2277.85 163.107 Q2275.68 163.107 2273.41 162.737 Q2271.16 162.367 2268.76 161.626 L2268.76 156.927 Q2270.84 158.061 2273.06 158.617 Q2275.28 159.172 2277.76 159.172 Q2281.77 159.172 2284.1 157.066 Q2286.44 154.959 2286.44 151.348 Q2286.44 147.737 2284.1 145.631 Q2281.77 143.524 2277.76 143.524 Q2275.89 143.524 2274.01 143.941 Q2272.16 144.357 2270.21 145.237 L2270.21 127.876 Z\" fill=\"#000000\" fill-rule=\"evenodd\" fill-opacity=\"1\" /><path clip-path=\"url(#clip210)\" d=\"M 0 0 M2310.33 130.955 Q2306.72 130.955 2304.89 134.52 Q2303.08 138.061 2303.08 145.191 Q2303.08 152.297 2304.89 155.862 Q2306.72 159.404 2310.33 159.404 Q2313.96 159.404 2315.77 155.862 Q2317.6 152.297 2317.6 145.191 Q2317.6 138.061 2315.77 134.52 Q2313.96 130.955 2310.33 130.955 M2310.33 127.251 Q2316.14 127.251 2319.2 131.858 Q2322.27 136.441 2322.27 145.191 Q2322.27 153.918 2319.2 158.524 Q2316.14 163.107 2310.33 163.107 Q2304.52 163.107 2301.44 158.524 Q2298.39 153.918 2298.39 145.191 Q2298.39 136.441 2301.44 131.858 Q2304.52 127.251 2310.33 127.251 Z\" fill=\"#000000\" fill-rule=\"evenodd\" fill-opacity=\"1\" /><polyline clip-path=\"url(#clip210)\" style=\"stroke:#000000; stroke-width:4; stroke-opacity:1; fill:none\" points=\"\n",
       "  2232.76,1486.45 2232.76,1364.84 2256.76,1364.84 2232.76,1364.84 2232.76,1162.17 2256.76,1162.17 2232.76,1162.17 2232.76,959.49 2256.76,959.49 2232.76,959.49 \n",
       "  2232.76,756.814 2256.76,756.814 2232.76,756.814 2232.76,554.137 2256.76,554.137 2232.76,554.137 2232.76,351.461 2256.76,351.461 2232.76,351.461 2232.76,148.785 \n",
       "  2256.76,148.785 2232.76,148.785 2232.76,47.2441 \n",
       "  \"/>\n",
       "</svg>\n"
      ]
     },
     "execution_count": 30,
     "metadata": {},
     "output_type": "execute_result"
    }
   ],
   "source": [
    "# illustrating identity matrix giving full rank\n",
    "heatmap(B)"
   ]
  },
  {
   "cell_type": "code",
   "execution_count": null,
   "metadata": {},
   "outputs": [],
   "source": []
  }
 ],
 "metadata": {
  "kernelspec": {
   "display_name": "Julia 1.6.0",
   "language": "julia",
   "name": "julia-1.6"
  },
  "language_info": {
   "file_extension": ".jl",
   "mimetype": "application/julia",
   "name": "julia",
   "version": "1.6.0"
  }
 },
 "nbformat": 4,
 "nbformat_minor": 4
}
