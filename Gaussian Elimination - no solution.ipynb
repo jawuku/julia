{
 "cells": [
  {
   "cell_type": "markdown",
   "metadata": {},
   "source": [
    "### Solve system of equation using Gaussian elimination method:\n",
    "$$\n",
    "3a - 3b + 4c = -23\n",
    "$$\n",
    "\n",
    "$$\n",
    "a +2b -3c = 25\n",
    "$$\n",
    "\n",
    "$$\n",
    "4a - b  + c = 25\n",
    "$$"
   ]
  },
  {
   "cell_type": "code",
   "execution_count": 11,
   "metadata": {},
   "outputs": [],
   "source": [
    "#=\n",
    "Put into augmented matrix:\n",
    "\n",
    "[3 -3  4 -23]\n",
    "|1  2 -3  25|\n",
    "[4 -1  1  25]\n",
    "=#"
   ]
  },
  {
   "cell_type": "code",
   "execution_count": 12,
   "metadata": {},
   "outputs": [
    {
     "data": {
      "text/plain": [
       "3×4 Matrix{Int64}:\n",
       " 3  -3   4  -23\n",
       " 1   2  -3   25\n",
       " 4  -1   1   25"
      ]
     },
     "execution_count": 12,
     "metadata": {},
     "output_type": "execute_result"
    }
   ],
   "source": [
    "# matrix in Julia code:\n",
    "m = [3 -3 4 -23;1 2 -3 25;4 -1 1 25]"
   ]
  },
  {
   "cell_type": "code",
   "execution_count": 13,
   "metadata": {},
   "outputs": [
    {
     "data": {
      "text/plain": [
       "3×4 Matrix{Int64}:\n",
       " 1   2  -3   25\n",
       " 3  -3   4  -23\n",
       " 4  -1   1   25"
      ]
     },
     "metadata": {},
     "output_type": "display_data"
    }
   ],
   "source": [
    "# switch 1st and 2nd rows to easily reveal pivot for row 1\n",
    "m[1,:], m[2,:] = m[2,:], m[1,:]\n",
    "display(m)"
   ]
  },
  {
   "cell_type": "code",
   "execution_count": 14,
   "metadata": {},
   "outputs": [
    {
     "data": {
      "text/plain": [
       "3×4 Matrix{Int64}:\n",
       " 1   2  -3   25\n",
       " 0  -9  13  -98\n",
       " 4  -1   1   25"
      ]
     },
     "metadata": {},
     "output_type": "display_data"
    }
   ],
   "source": [
    "# zero out rest of 1st column\n",
    "# row 2 = row 2 - 3 * row 1\n",
    "m[2,:] = m[2,:] .- (3 .* m[1,:])\n",
    "display(m)"
   ]
  },
  {
   "cell_type": "code",
   "execution_count": null,
   "metadata": {},
   "outputs": [],
   "source": [
    "# row 3 = row 3 - 4 * row 1\n",
    "m[3,:] = m[3,:] .- (4 .* m[1,:])\n",
    "display(m)"
   ]
  },
  {
   "cell_type": "code",
   "execution_count": 16,
   "metadata": {},
   "outputs": [
    {
     "data": {
      "text/plain": [
       "3×4 Matrix{Int64}:\n",
       " 1   2  -3   25\n",
       " 0  -9  13  -98\n",
       " 0   0   0   23"
      ]
     },
     "metadata": {},
     "output_type": "display_data"
    }
   ],
   "source": [
    "# row 3 = row 3 - row 2\n",
    "m[3,:] = m[3,:] .- m[2,:]\n",
    "display(m)"
   ]
  },
  {
   "cell_type": "markdown",
   "metadata": {},
   "source": [
    "### A strange circumstance has occured.\n",
    "$$0 ≠ 23$$\n",
    "### Thus this equation system has no solution"
   ]
  }
 ],
 "metadata": {
  "kernelspec": {
   "display_name": "Julia Speedy Plots 1.6.0",
   "language": "julia",
   "name": "julia-speedy-plots-1.6"
  },
  "language_info": {
   "file_extension": ".jl",
   "mimetype": "application/julia",
   "name": "julia",
   "version": "1.6.0"
  }
 },
 "nbformat": 4,
 "nbformat_minor": 4
}
